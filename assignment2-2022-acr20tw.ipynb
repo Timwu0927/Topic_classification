{
 "cells": [
  {
   "cell_type": "markdown",
   "metadata": {},
   "source": [
    "# [COM6513] Assignment 2: Topic Classification with a Feedforward Network\n",
    "\n",
    "\n",
    "### Instructor: Nikos Aletras\n",
    "\n",
    "\n",
    "The goal of this assignment is to develop a Feedforward neural network for topic classification. \n",
    "\n",
    "\n",
    "\n",
    "For that purpose, you will implement:\n",
    "\n",
    "- Text processing methods for transforming raw text data into input vectors for your network  (**1 mark**)\n",
    "\n",
    "\n",
    "- A Feedforward network consisting of:\n",
    "    - **One-hot** input layer mapping words into an **Embedding weight matrix** (**1 mark**)\n",
    "    - **One hidden layer** computing the mean embedding vector of all words in input followed by a **ReLU activation function** (**1 mark**)\n",
    "    - **Output layer** with a **softmax** activation. (**1 mark**)\n",
    "\n",
    "\n",
    "- The Stochastic Gradient Descent (SGD) algorithm with **back-propagation** to learn the weights of your Neural network. Your algorithm should:\n",
    "    - Use (and minimise) the **Categorical Cross-entropy loss** function (**1 mark**)\n",
    "    - Perform a **Forward pass** to compute intermediate outputs (**3 marks**)\n",
    "    - Perform a **Backward pass** to compute gradients and update all sets of weights (**6 marks**)\n",
    "    - Implement and use **Dropout** after each hidden layer for regularisation (**2 marks**)\n",
    "\n",
    "\n",
    "\n",
    "- Discuss how did you choose hyperparameters? You can tune the learning rate (hint: choose small values), embedding size {e.g. 50, 300, 500}, the dropout rate {e.g. 0.2, 0.5} and the learning rate. Please use tables or graphs to show training and validation performance for each hyperparameter combination  (**2 marks**). \n",
    "\n",
    "\n",
    "\n",
    "- After training a model, plot the learning process (i.e. training and validation loss in each epoch) using a line plot and report accuracy. Does your model overfit, underfit or is about right? (**1 mark**).\n",
    "\n",
    "\n",
    "\n",
    "- Re-train your network by using pre-trained embeddings ([GloVe](https://nlp.stanford.edu/projects/glove/)) trained on large corpora. Instead of randomly initialising the embedding weights matrix, you should initialise it with the pre-trained weights. During training, you should not update them (i.e. weight freezing) and backprop should stop before computing gradients for updating embedding weights. Report results by performing hyperparameter tuning and plotting the learning process. Do you get better performance? (**3 marks**).\n",
    "\n",
    "\n",
    "\n",
    "- Extend you Feedforward network by adding more hidden layers (e.g. one more or two). How does it affect the performance? Note: You need to repeat hyperparameter tuning, but the number of combinations grows exponentially. Therefore, you need to choose a subset of all possible combinations (**4 marks**)\n",
    "\n",
    "\n",
    "- Provide well documented and commented code describing all of your choices. In general, you are free to make decisions about text processing (e.g. punctuation, numbers, vocabulary size) and hyperparameter values. We expect to see justifications and discussion for all of your choices (**2 marks**). \n",
    "\n",
    "\n",
    "\n",
    "- Provide efficient solutions by using Numpy arrays when possible. Executing the whole notebook with your code should not take more than 10 minutes on any standard computer (e.g. Intel Core i5 CPU, 8 or 16GB RAM) excluding hyperparameter tuning runs and loading the pretrained vectors. You can find tips in Lab 1 (**2 marks**). \n",
    "\n",
    "\n",
    "\n",
    "### Data \n",
    "\n",
    "The data you will use for the task is a subset of the [AG News Corpus](http://groups.di.unipi.it/~gulli/AG_corpus_of_news_articles.html) and you can find it in the `./data_topic` folder in CSV format:\n",
    "\n",
    "- `data_topic/train.csv`: contains 2,400 news articles, 800 for each class to be used for training.\n",
    "- `data_topic/dev.csv`: contains 150 news articles, 50 for each class to be used for hyperparameter selection and monitoring the training process.\n",
    "- `data_topic/test.csv`: contains 900 news articles, 300 for each class to be used for testing.\n",
    "\n",
    "### Pre-trained Embeddings\n",
    "\n",
    "You can download pre-trained GloVe embeddings trained on Common Crawl (840B tokens, 2.2M vocab, cased, 300d vectors, 2.03 GB download) from [here](http://nlp.stanford.edu/data/glove.840B.300d.zip). No need to unzip, the file is large.\n",
    "\n",
    "### Save Memory\n",
    "\n",
    "To save RAM, when you finish each experiment you can delete the weights of your network using `del W` followed by Python's garbage collector `gc.collect()`\n",
    "\n",
    "\n"
   ]
  },
  {
   "cell_type": "markdown",
   "metadata": {},
   "source": [
    "### Submission Instructions\n",
    "\n",
    "You should submit a Jupyter Notebook file (assignment2.ipynb) and an exported PDF version (you can do it from Jupyter: `File->Download as->PDF via Latex`).\n",
    "\n",
    "\n",
    "You are advised to follow the code structure given in this notebook by completing all given funtions. You can also write any auxilliary/helper functions (and arguments for the functions) that you might need but note that you can provide a full solution without any such functions. Similarly, you can just use only the packages imported below but you are free to use any functionality from the [Python Standard Library](https://docs.python.org/3/library/index.html), NumPy, SciPy (excluding built-in softmax funtcions) and Pandas. You are **not allowed to use any third-party library** such as Scikit-learn (apart from metric functions already provided), NLTK, Spacy, Keras, Pytorch etc.. You should mention if you've used Windows to write and test your code because we mostly use Unix based machines for marking (e.g. Ubuntu, MacOS). \n",
    "\n",
    "There is no single correct answer on what your accuracy should be, but correct implementations usually achieve F1-scores around 80\\% or higher. The quality of the analysis of the results is as important as the accuracy itself. \n",
    "\n",
    "This assignment will be marked out of 30. It is worth 30\\% of your final grade in the module.\n",
    "\n",
    "The deadline for this assignment is **23:59 on Mon, 9 May 2022** and it needs to be submitted via Blackboard. Standard departmental penalties for lateness will be applied. We use a range of strategies to **detect [unfair means](https://www.sheffield.ac.uk/ssid/unfair-means/index)**, including Turnitin which helps detect plagiarism. Use of unfair means would result in getting a failing grade.\n",
    "\n"
   ]
  },
  {
   "cell_type": "code",
   "execution_count": 1,
   "metadata": {
    "ExecuteTime": {
     "end_time": "2020-04-02T15:00:18.625532Z",
     "start_time": "2020-04-02T15:00:17.377733Z"
    },
    "scrolled": true
   },
   "outputs": [],
   "source": [
    "import pandas as pd\n",
    "import numpy as np\n",
    "from collections import Counter\n",
    "import re\n",
    "import matplotlib.pyplot as plt\n",
    "from sklearn.metrics import accuracy_score, precision_score, recall_score, f1_score\n",
    "import random\n",
    "from time import localtime, strftime\n",
    "from scipy.stats import spearmanr,pearsonr\n",
    "import zipfile\n",
    "import gc\n",
    "\n",
    "# fixing random seed for reproducibility\n",
    "random.seed(16269)\n",
    "np.random.seed(16269)\n"
   ]
  },
  {
   "cell_type": "markdown",
   "metadata": {},
   "source": [
    "## Transform Raw texts into training and development data\n",
    "\n",
    "First, you need to load the training, development and test sets from their corresponding CSV files (tip: you can use Pandas dataframes)."
   ]
  },
  {
   "cell_type": "code",
   "execution_count": 2,
   "metadata": {
    "ExecuteTime": {
     "end_time": "2020-04-02T14:26:39.748484Z",
     "start_time": "2020-04-02T14:26:39.727404Z"
    },
    "scrolled": true
   },
   "outputs": [],
   "source": [
    "#import data\n",
    "df_train = pd.read_csv('./data_topic/train.csv',names = ['label','text'])\n",
    "df_dev = pd.read_csv('./data_topic/dev.csv',names = ['label','text'])\n",
    "df_test = pd.read_csv('./data_topic/test.csv',names = ['label','text'])"
   ]
  },
  {
   "cell_type": "code",
   "execution_count": 3,
   "metadata": {
    "ExecuteTime": {
     "end_time": "2020-04-02T14:26:39.753874Z",
     "start_time": "2020-04-02T14:26:39.749647Z"
    },
    "scrolled": false
   },
   "outputs": [
    {
     "data": {
      "text/html": [
       "<div>\n",
       "<style scoped>\n",
       "    .dataframe tbody tr th:only-of-type {\n",
       "        vertical-align: middle;\n",
       "    }\n",
       "\n",
       "    .dataframe tbody tr th {\n",
       "        vertical-align: top;\n",
       "    }\n",
       "\n",
       "    .dataframe thead th {\n",
       "        text-align: right;\n",
       "    }\n",
       "</style>\n",
       "<table border=\"1\" class=\"dataframe\">\n",
       "  <thead>\n",
       "    <tr style=\"text-align: right;\">\n",
       "      <th></th>\n",
       "      <th>label</th>\n",
       "      <th>text</th>\n",
       "    </tr>\n",
       "  </thead>\n",
       "  <tbody>\n",
       "    <tr>\n",
       "      <th>0</th>\n",
       "      <td>1</td>\n",
       "      <td>Reuters - Venezuelans turned out early\\and in ...</td>\n",
       "    </tr>\n",
       "    <tr>\n",
       "      <th>1</th>\n",
       "      <td>1</td>\n",
       "      <td>Reuters - South Korean police used water canno...</td>\n",
       "    </tr>\n",
       "    <tr>\n",
       "      <th>2</th>\n",
       "      <td>1</td>\n",
       "      <td>Reuters - Thousands of Palestinian\\prisoners i...</td>\n",
       "    </tr>\n",
       "    <tr>\n",
       "      <th>3</th>\n",
       "      <td>1</td>\n",
       "      <td>AFP - Sporadic gunfire and shelling took place...</td>\n",
       "    </tr>\n",
       "    <tr>\n",
       "      <th>4</th>\n",
       "      <td>1</td>\n",
       "      <td>AP - Dozens of Rwandan soldiers flew into Suda...</td>\n",
       "    </tr>\n",
       "    <tr>\n",
       "      <th>...</th>\n",
       "      <td>...</td>\n",
       "      <td>...</td>\n",
       "    </tr>\n",
       "    <tr>\n",
       "      <th>2395</th>\n",
       "      <td>3</td>\n",
       "      <td>Australia #39;s dominant airline, Qantas, has ...</td>\n",
       "    </tr>\n",
       "    <tr>\n",
       "      <th>2396</th>\n",
       "      <td>3</td>\n",
       "      <td>Reuters - Medtronic Inc. (MDT.N) on Wednesday\\...</td>\n",
       "    </tr>\n",
       "    <tr>\n",
       "      <th>2397</th>\n",
       "      <td>3</td>\n",
       "      <td>SAN FRANCISCO (Reuters) - Google Inc. &amp;lt;A H...</td>\n",
       "    </tr>\n",
       "    <tr>\n",
       "      <th>2398</th>\n",
       "      <td>3</td>\n",
       "      <td>BHP Billiton, the world #39;s biggest mining c...</td>\n",
       "    </tr>\n",
       "    <tr>\n",
       "      <th>2399</th>\n",
       "      <td>3</td>\n",
       "      <td>Europe’s Frustration Grows as Dollar Hits Anot...</td>\n",
       "    </tr>\n",
       "  </tbody>\n",
       "</table>\n",
       "<p>2400 rows × 2 columns</p>\n",
       "</div>"
      ],
      "text/plain": [
       "      label                                               text\n",
       "0         1  Reuters - Venezuelans turned out early\\and in ...\n",
       "1         1  Reuters - South Korean police used water canno...\n",
       "2         1  Reuters - Thousands of Palestinian\\prisoners i...\n",
       "3         1  AFP - Sporadic gunfire and shelling took place...\n",
       "4         1  AP - Dozens of Rwandan soldiers flew into Suda...\n",
       "...     ...                                                ...\n",
       "2395      3  Australia #39;s dominant airline, Qantas, has ...\n",
       "2396      3  Reuters - Medtronic Inc. (MDT.N) on Wednesday\\...\n",
       "2397      3   SAN FRANCISCO (Reuters) - Google Inc. &lt;A H...\n",
       "2398      3  BHP Billiton, the world #39;s biggest mining c...\n",
       "2399      3  Europe’s Frustration Grows as Dollar Hits Anot...\n",
       "\n",
       "[2400 rows x 2 columns]"
      ]
     },
     "execution_count": 3,
     "metadata": {},
     "output_type": "execute_result"
    }
   ],
   "source": [
    "df_train"
   ]
  },
  {
   "cell_type": "code",
   "execution_count": 4,
   "metadata": {},
   "outputs": [],
   "source": [
    "#split whole data into content and label (in the required data type)\n",
    "train_y = df_train.iloc[:,0]\n",
    "train_x = df_train.iloc[:,1]\n",
    "train_x = train_x.tolist()\n",
    "train_y = train_y.values\n",
    "test_y = df_test.iloc[:,0]\n",
    "test_x = df_test.iloc[:,1]\n",
    "test_x = test_x.tolist()\n",
    "test_y = test_y.values\n",
    "dev_y = df_dev.iloc[:,0]\n",
    "dev_x = df_dev.iloc[:,1]\n",
    "dev_x = dev_x.tolist()\n",
    "dev_y = dev_y.values"
   ]
  },
  {
   "cell_type": "code",
   "execution_count": 5,
   "metadata": {},
   "outputs": [],
   "source": [
    "#change from [1,2,3] to [0,1,2] for fitting the classification model\n",
    "train_y -= 1\n",
    "dev_y -= 1\n",
    "test_y -= 1"
   ]
  },
  {
   "cell_type": "code",
   "execution_count": 6,
   "metadata": {},
   "outputs": [
    {
     "data": {
      "text/plain": [
       "array([0, 0, 0, 0, 0, 0, 0, 0, 0, 0, 0, 0, 0, 0, 0, 0, 0, 0, 0, 0, 0, 0,\n",
       "       0, 0, 0, 0, 0, 0, 0, 0, 0, 0, 0, 0, 0, 0, 0, 0, 0, 0, 0, 0, 0, 0,\n",
       "       0, 0, 0, 0, 0, 0, 1, 1, 1, 1, 1, 1, 1, 1, 1, 1, 1, 1, 1, 1, 1, 1,\n",
       "       1, 1, 1, 1, 1, 1, 1, 1, 1, 1, 1, 1, 1, 1, 1, 1, 1, 1, 1, 1, 1, 1,\n",
       "       1, 1, 1, 1, 1, 1, 1, 1, 1, 1, 1, 1, 2, 2, 2, 2, 2, 2, 2, 2, 2, 2,\n",
       "       2, 2, 2, 2, 2, 2, 2, 2, 2, 2, 2, 2, 2, 2, 2, 2, 2, 2, 2, 2, 2, 2,\n",
       "       2, 2, 2, 2, 2, 2, 2, 2, 2, 2, 2, 2, 2, 2, 2, 2, 2, 2], dtype=int64)"
      ]
     },
     "execution_count": 6,
     "metadata": {},
     "output_type": "execute_result"
    }
   ],
   "source": [
    "dev_y"
   ]
  },
  {
   "cell_type": "markdown",
   "metadata": {},
   "source": [
    "# Create input representations\n",
    "\n",
    "\n",
    "To train your Feedforward network, you first need to obtain input representations given a vocabulary. One-hot encoding requires large memory capacity. Therefore, we will instead represent documents as lists of vocabulary indices (each word corresponds to a vocabulary index). \n",
    "\n",
    "\n",
    "## Text Pre-Processing Pipeline\n",
    "\n",
    "To obtain a vocabulary of words. You should: \n",
    "- tokenise all texts into a list of unigrams (tip: you can re-use the functions from Assignment 1) \n",
    "- remove stop words (using the one provided or one of your preference) \n",
    "- remove unigrams appearing in less than K documents\n",
    "- use the remaining to create a vocabulary of the top-N most frequent unigrams in the entire corpus.\n"
   ]
  },
  {
   "cell_type": "code",
   "execution_count": 7,
   "metadata": {
    "ExecuteTime": {
     "end_time": "2020-04-02T14:26:40.851926Z",
     "start_time": "2020-04-02T14:26:40.847500Z"
    },
    "scrolled": true
   },
   "outputs": [],
   "source": [
    "#use stop words from text processing lecture last semester \n",
    "stop_words = ['a', 'able', 'about', 'above', 'according', 'accordingly', 'across','ron','con','em','9', 'actually', 'after','afterwards', 'again', 'against', 'all', 'allow', 'allows', 'almost', 'alone', 'along', 'already',\n",
    "'also', 'although', 'always', 'am', 'among', 'amongst', 'an', 'and', 'another', 'any', 'anybody', 'anyhow', 'anyone', 'anything', 'anyway', 'anyways', 'anywhere', 'apart', 'appear', 'appreciate', 'appropriate', 'are', 'around', 'as', 'aside', 'ask', 'asking', 'associated', 'at', 'available', 'away', 'awfully', 'b', 'be', 'became', 'because', 'become', 'becomes', 'becoming', 'been', 'before', 'beforehand', 'behind', 'being', 'believe', 'below', 'beside', 'besides', 'best', 'better', 'between', 'beyond', 'both', 'brief', 'but', 'by', 'c', 'came', 'can', 'cannot', 'cant', 'cause', 'causes', 'certain', 'certainly', 'changes', 'clearly', 'co', 'com', 'come', 'comes', 'concerning', 'consequently', 'consider', 'considering', 'contain', 'containing', 'contains', 'corresponding', 'could', 'course', 'currently', 'd','definitely', 'described', 'despite', 'did', 'different', 'do', 'does', 'doing', 'done', 'down', 'downwards', 'during', 'e', 'each', 'edu', 'eg', 'eight', 'either', 'else', 'elsewhere', 'enough', 'entirely', 'especially', 'et', 'etc', 'even', 'ever', 'every', 'everybody', 'everyone', 'everything', 'everywhere', 'ex', 'exactly', 'example', 'except', 'f', 'far', 'few', 'fifth', 'first', 'five', 'followed', 'following', 'follows', 'for', 'former', 'formerly', 'forth', 'four', 'from', 'further', 'furthermore', 'g', 'get', 'gets', 'getting', 'given', 'gives', 'go', 'goes', 'going', 'gone', 'got', 'gotten', 'greetings', 'h', 'had', 'happens', 'hardly', 'has',\n",
    "'have', 'having', 'he', 'hello', 'help', 'hence', 'her', 'here', 'hereafter', 'hereby', 'herein', 'hereupon', 'hers', 'herself', 'hi', 'him', 'himself', 'his', 'hither', 'hopefully', 'how', 'howbeit', 'however', 'i', 'ie',\n",
    "'if', 'ignored', 'immediate', 'in', 'inasmuch', 'inc', 'indeed', 'indicate', 'indicated', 'indicates', 'inner', 'insofar', 'instead', 'into', 'inward', 'is', 'it', 'its', 'itself', 'j', 'just', 'k', 'keep', 'keeps', 'kept', 'know', 'knows', 'known', 'l', 'last', 'lately', 'later', 'latter', 'latterly', 'least', 'less', 'lest', 'let', 'like', 'liked', 'likely', 'little', 'look', 'looking', 'looks', 'ltd', 'm', 'mainly', 'many',\n",
    "'may', 'maybe', 'me', 'mean', 'meanwhile', 'merely','might', 'more', 'moreover', 'most', 'mostly', 'much', 'must', 'my', 'myself', 'n', 'name', 'namely', 'nd','l','al','ed','la','1'\n",
    "'near', 'nearly', 'necessary', 'need', 'needs', 'neither', 'never', 'nevertheless', 'new', 'next', 'nine', 'no', 'nobody','er','ad','fu','nc','ho','par','ol','pulp', 'non', 'none', 'noone', 'nor', 'normally','not', 'note', 'nothing', 'novel', 'now', 'nowhere', 'o', 'obviously', 'of', 'off', 'often', 'oh', 'ok', 'okay','ill',\n",
    "'old', 'on', 'once', 'one', 'ones', 'only', 'onto', 'or', 'other', 'others', 'otherwise', 'ought', 'our', 'ours', 'ourselves', 'out', 'outside', 'over', 'overall', 'own','p', 'particular', 'particularly', 'per', 'perhaps', 'placed', 'please', 'plus', 'possible', 'presumably', 'probably', 'provides', 'q', 'que', 'quite', 'qv', 'r', 'rather', 'rd', 're', 'really', 'reasonably', 'regarding', 'regardless', 'regards', 'relatively', 'respectively', 'right', 's', 'said', 'same', 'saw', 'say', 'saying',\n",
    "'says', 'second', 'secondly', 'see', 'seeing', 'seem', 'seemed', 'seeming', 'seems', 'seen', 'self', 'selves', 'sensible', 'sent', 'serious', 'seriously', 'seven', 'several', 'shall', 'she', 'should', 'since', 'six', 'so', 'some', 'somebody', 'somehow', 'someone', 'something', 'sometime', 'sometimes', 'somewhat', 'somewhere', 'soon', 'sorry', 'specified', 'specify', 'specifying', 'still', 'sub', 'such', 'sup', 'sure', 't', 'take', 'taken', 'tell', 'tends', 'th', 'than', 'thank', 'thanks', 'thanx', 'that', 'thats', 'the', 'their', 'theirs', 'them', 'themselves', 'then', 'thence', 'there', 'thereafter', 'thereby', 'therefore', 'therein', 'theres', 'thereupon', 'these', 'they', 'think', 'third', 'this', 'thorough', 'thoroughly', 'those', 'though', 'three', 'through', 'throughout', 'thru', 'thus', 'to', 'together', 'too', 'took', 'toward', 'towards', 'tried', 'tries', 'truly', 'try', 'trying', 'twice', 'two', 'u', 'un', 'under', 'unfortunately', 'unless', 'unlikely', 'until', 'unto', 'up', 'upon', 'us', 'use', 'used',\n",
    "'useful', 'uses', 'using', 'usually', 'uucp', 'v', 'value', 'various', 've', 'very', 'via', 'viz', 'vs', 'w', 'want', 'dr','isn','want','was', 'way', 'we', 'welcome', 'well', 'went', 'were','de','fi','ll','don',\n",
    "'what', 'whatever', 'when', 'whence', 'whenever', 'where', 'whereafter', 'whereas', 'whereby', 'wherein', 'whereupon','wherever', 'whether', 'which', 'while', 'whither', 'who', 'whoever', 'whole', 'whom', 'whose', 'why', 'will', 'willing', 'wish', 'with', 'within', 'without', 'wonder', 'would', 'would', 'x', 'y', 'yes', 'yet', 'you', 'your', 'yours', 'yourself', 'yourselves', 'z', 'zero']\n"
   ]
  },
  {
   "cell_type": "markdown",
   "metadata": {},
   "source": [
    "### Unigram extraction from a document\n",
    "\n",
    "You first need to implement the `extract_ngrams` function. It takes as input:\n",
    "- `x_raw`: a string corresponding to the raw text of a document\n",
    "- `ngram_range`: a tuple of two integers denoting the type of ngrams you want to extract, e.g. (1,2) denotes extracting unigrams and bigrams.\n",
    "- `token_pattern`: a string to be used within a regular expression to extract all tokens. Note that data is already tokenised so you could opt for a simple white space tokenisation.\n",
    "- `stop_words`: a list of stop words\n",
    "- `vocab`: a given vocabulary. It should be used to extract specific features.\n",
    "\n",
    "and returns:\n",
    "\n",
    "- a list of all extracted features.\n"
   ]
  },
  {
   "cell_type": "code",
   "execution_count": 8,
   "metadata": {},
   "outputs": [],
   "source": [
    "def extract_ngrams(x_raw, ngram_range=(1,3), token_pattern=r'\\b[A-Za-z][A-Za-z]+\\b', stop_words=[], vocab=set()):\n",
    "    \n",
    "    tokenRE = re.compile(token_pattern)\n",
    "   \n",
    "    # first extract all unigrams by tokenising\n",
    "    x_uni = [w for w in tokenRE.findall(str(x_raw).lower(),) if w not in stop_words]\n",
    "   \n",
    "    # this is to store the ngrams to be returned\n",
    "    x = []\n",
    "   \n",
    "    if ngram_range[0]==1:\n",
    "        x = x_uni\n",
    "   \n",
    "    # generate n-grams from the available unigrams x_uni\n",
    "    ngrams = []\n",
    "    for n in range(ngram_range[0], ngram_range[1]+1):\n",
    "       \n",
    "        # ignore unigrams\n",
    "        if n==1: continue\n",
    "       \n",
    "        # pass a list of lists as an argument for zip\n",
    "        arg_list = [x_uni]+[x_uni[i:] for i in range(1, n)]\n",
    "\n",
    "        # extract tuples of n-grams using zip\n",
    "        # for bigram this should look: list(zip(x_uni, x_uni[1:]))\n",
    "        # align each item x[i] in x_uni with the next one x[i+1].\n",
    "        # Note that x_uni and x_uni[1:] have different lengths\n",
    "        # but zip ignores redundant elements at the end of the second list\n",
    "        # Alternatively, this could be done with for loops\n",
    "        x_ngram = list(zip(*arg_list))\n",
    "        ngrams.append(x_ngram)\n",
    "   \n",
    "       \n",
    "    for n in ngrams:\n",
    "        for t in n:\n",
    "            x.append(t)\n",
    "       \n",
    "    if len(vocab)>0:\n",
    "        x = [w for w in x if w in vocab]\n",
    "       \n",
    "    return x\n"
   ]
  },
  {
   "cell_type": "markdown",
   "metadata": {},
   "source": [
    "### Create a vocabulary of n-grams\n",
    "\n",
    "Then the `get_vocab` function will be used to (1) create a vocabulary of ngrams; (2) count the document frequencies of ngrams; (3) their raw frequency. It takes as input:\n",
    "- `X_raw`: a list of strings each corresponding to the raw text of a document\n",
    "- `ngram_range`: a tuple of two integers denoting the type of ngrams you want to extract, e.g. (1,2) denotes extracting unigrams and bigrams.\n",
    "- `token_pattern`: a string to be used within a regular expression to extract all tokens. Note that data is already tokenised so you could opt for a simple white space tokenisation.\n",
    "- `stop_words`: a list of stop words\n",
    "- `min_df`: keep ngrams with a minimum document frequency.\n",
    "- `keep_topN`: keep top-N more frequent ngrams.\n",
    "\n",
    "and returns:\n",
    "\n",
    "- `vocab`: a set of the n-grams that will be used as features.\n",
    "- `df`: a Counter (or dict) that contains ngrams as keys and their corresponding document frequency as values.\n",
    "- `ngram_counts`: counts of each ngram in vocab\n"
   ]
  },
  {
   "cell_type": "code",
   "execution_count": 9,
   "metadata": {
    "ExecuteTime": {
     "end_time": "2020-04-02T14:26:42.563876Z",
     "start_time": "2020-04-02T14:26:42.557967Z"
    },
    "scrolled": true
   },
   "outputs": [],
   "source": [
    "def get_vocab(X_raw, ngram_range=(1,3), token_pattern=r'\\b[A-Za-z][A-Za-z]+\\b',\n",
    "              min_df=0, keep_topN=0, stop_words=[]):\n",
    "   \n",
    "    tokenRE = re.compile(token_pattern)\n",
    "   \n",
    "    df = Counter()\n",
    "    ngram_counts = Counter()\n",
    "    vocab = set()\n",
    "   \n",
    "    # iterate through each raw text\n",
    "    for x in X_raw:\n",
    "       \n",
    "        x_ngram = extract_ngrams(x, ngram_range=ngram_range, token_pattern=token_pattern, stop_words=stop_words)\n",
    "       \n",
    "        #update doc and ngram frequencies\n",
    "        df.update(list(set(x_ngram)))\n",
    "        ngram_counts.update(x_ngram)\n",
    "\n",
    "    # obtain a vocabulary as a set.\n",
    "    # Keep elements with doc frequency > minimum doc freq (min_df)\n",
    "    # Note that df contains all te\n",
    "    vocab = set([w for w in df if df[w]>=min_df])\n",
    "   \n",
    "    # keep the top N most frequent\n",
    "    if keep_topN>0:\n",
    "        vocab = set([w[0] for w in ngram_counts.most_common(keep_topN) if w[0] in vocab])\n",
    "   \n",
    "   \n",
    "    return vocab, df, ngram_counts"
   ]
  },
  {
   "cell_type": "markdown",
   "metadata": {},
   "source": [
    "Now you should use `get_vocab` to create your vocabulary and get document and raw frequencies of unigrams:"
   ]
  },
  {
   "cell_type": "code",
   "execution_count": 10,
   "metadata": {
    "ExecuteTime": {
     "end_time": "2020-04-02T14:26:43.577997Z",
     "start_time": "2020-04-02T14:26:43.478950Z"
    },
    "scrolled": true
   },
   "outputs": [],
   "source": [
    "#get vocab \n",
    "train_voc_set,train_df,train_ngcount = get_vocab(train_x,ngram_range = (1,1),stop_words=stop_words)\n",
    "dev_voc_set,dev_df,dev_ngcount = get_vocab(dev_x,ngram_range = (1,1),stop_words=stop_words)\n",
    "test_voc_set,test_df,test_ngcount = get_vocab(test_x,ngram_range = (1,1),stop_words=stop_words)"
   ]
  },
  {
   "cell_type": "code",
   "execution_count": 11,
   "metadata": {},
   "outputs": [],
   "source": [
    "#train_voc_set"
   ]
  },
  {
   "cell_type": "code",
   "execution_count": 12,
   "metadata": {},
   "outputs": [
    {
     "name": "stdout",
     "output_type": "stream",
     "text": [
      "8596 8596 8596\n",
      "1629 1629 1629\n",
      "5672 5672 5672\n"
     ]
    }
   ],
   "source": [
    "#check the data size\n",
    "print(len(train_voc_set),len(train_df),len(train_ngcount))\n",
    "print(len(dev_voc_set),len(dev_df),len(dev_ngcount))\n",
    "print(len(test_voc_set),len(test_df),len(test_ngcount))"
   ]
  },
  {
   "cell_type": "markdown",
   "metadata": {},
   "source": [
    "Then, you need to create vocabulary id -> word and word -> vocabulary id dictionaries for reference:"
   ]
  },
  {
   "cell_type": "code",
   "execution_count": 13,
   "metadata": {
    "ExecuteTime": {
     "end_time": "2020-04-02T14:26:44.069661Z",
     "start_time": "2020-04-02T14:26:44.065058Z"
    },
    "scrolled": true
   },
   "outputs": [],
   "source": [
    "#make two dict for id word and word id\n",
    "voc_id2word = enumerate(train_voc_set)\n",
    "voc_id2word = dict(voc_id2word)\n",
    "word2voc_id = {value:key for key,value in voc_id2word.items()}"
   ]
  },
  {
   "cell_type": "code",
   "execution_count": 14,
   "metadata": {},
   "outputs": [
    {
     "data": {
      "text/plain": [
       "{'living': 0,\n",
       " 'inspiration': 1,\n",
       " 'plotters': 2,\n",
       " 'grow': 3,\n",
       " 'brings': 4,\n",
       " 'engages': 5,\n",
       " 'quarter': 6,\n",
       " 'imminent': 7,\n",
       " 'nationals': 8,\n",
       " 'honor': 9,\n",
       " 'air': 10,\n",
       " 'possibly': 11,\n",
       " 'dimitris': 12,\n",
       " 'filings': 13,\n",
       " 'expectation': 14,\n",
       " 'lost': 15,\n",
       " 'breezy': 16,\n",
       " 'primary': 17,\n",
       " 'inter': 18,\n",
       " 'southwestern': 19,\n",
       " 'stun': 20,\n",
       " 'enact': 21,\n",
       " 'heat': 22,\n",
       " 'ashburn': 23,\n",
       " 'competitor': 24,\n",
       " 'supposed': 25,\n",
       " 'opens': 26,\n",
       " 'balls': 27,\n",
       " 'zalmay': 28,\n",
       " 'masterminded': 29,\n",
       " 'devices': 30,\n",
       " 'resume': 31,\n",
       " 'connecticut': 32,\n",
       " 'kathmandu': 33,\n",
       " 'testifying': 34,\n",
       " 'fraud': 35,\n",
       " 'secret': 36,\n",
       " 'polo': 37,\n",
       " 'flowing': 38,\n",
       " 'americans': 39,\n",
       " 'earn': 40,\n",
       " 'page': 41,\n",
       " 'aj': 42,\n",
       " 'fatal': 43,\n",
       " 'direct': 44,\n",
       " 'absolute': 45,\n",
       " 'outlawed': 46,\n",
       " 'zeitoun': 47,\n",
       " 'survey': 48,\n",
       " 'sasebo': 49,\n",
       " 'weaken': 50,\n",
       " 'tortuous': 51,\n",
       " 'wear': 52,\n",
       " 'lore': 53,\n",
       " 'rebuilding': 54,\n",
       " 'downfall': 55,\n",
       " 'successor': 56,\n",
       " 'succumbed': 57,\n",
       " 'iwf': 58,\n",
       " 'resignation': 59,\n",
       " 'trader': 60,\n",
       " 'committee': 61,\n",
       " 'arrived': 62,\n",
       " 'hearted': 63,\n",
       " 'siranidis': 64,\n",
       " 'america': 65,\n",
       " 'physical': 66,\n",
       " 'gaza': 67,\n",
       " 'caused': 68,\n",
       " 'advisory': 69,\n",
       " 'drops': 70,\n",
       " 'imf': 71,\n",
       " 'impression': 72,\n",
       " 'greenspan': 73,\n",
       " 'island': 74,\n",
       " 'signalled': 75,\n",
       " 'multi': 76,\n",
       " 'concessions': 77,\n",
       " 'tricks': 78,\n",
       " 'cheers': 79,\n",
       " 'swedish': 80,\n",
       " 'desk': 81,\n",
       " 'bellsouth': 82,\n",
       " 'oust': 83,\n",
       " 'generally': 84,\n",
       " 'trick': 85,\n",
       " 'aiming': 86,\n",
       " 'tax': 87,\n",
       " 'clutch': 88,\n",
       " 'range': 89,\n",
       " 'cuba': 90,\n",
       " 'batboy': 91,\n",
       " 'geoff': 92,\n",
       " 'modified': 93,\n",
       " 'xue': 94,\n",
       " 'customers': 95,\n",
       " 'fifteen': 96,\n",
       " 'workers': 97,\n",
       " 'nathan': 98,\n",
       " 'remainder': 99,\n",
       " 'gaithersburg': 100,\n",
       " 'prix': 101,\n",
       " 'reigniting': 102,\n",
       " 'pakistani': 103,\n",
       " 'voting': 104,\n",
       " 'cp': 105,\n",
       " 'ditch': 106,\n",
       " 'marlborough': 107,\n",
       " 'spinning': 108,\n",
       " 'bws': 109,\n",
       " 'appendix': 110,\n",
       " 'missing': 111,\n",
       " 'persons': 112,\n",
       " 'phenom': 113,\n",
       " 'assam': 114,\n",
       " 'redman': 115,\n",
       " 'quartet': 116,\n",
       " 'balloons': 117,\n",
       " 'nz': 118,\n",
       " 'punish': 119,\n",
       " 'medtronic': 120,\n",
       " 'slumping': 121,\n",
       " 'providence': 122,\n",
       " 'ams': 123,\n",
       " 'anaheim': 124,\n",
       " 'cease': 125,\n",
       " 'steps': 126,\n",
       " 'efficiency': 127,\n",
       " 'dalai': 128,\n",
       " 'braves': 129,\n",
       " 'messier': 130,\n",
       " 'berkeley': 131,\n",
       " 'dealings': 132,\n",
       " 'widened': 133,\n",
       " 'hospitals': 134,\n",
       " 'novell': 135,\n",
       " 'tehran': 136,\n",
       " 'stationed': 137,\n",
       " 'catholics': 138,\n",
       " 'stakes': 139,\n",
       " 'ibm': 140,\n",
       " 'shore': 141,\n",
       " 'charging': 142,\n",
       " 'nation': 143,\n",
       " 'fastball': 144,\n",
       " 'muted': 145,\n",
       " 'jk': 146,\n",
       " 'cd': 147,\n",
       " 'katerina': 148,\n",
       " 'halfway': 149,\n",
       " 'eyed': 150,\n",
       " 'communicate': 151,\n",
       " 'hype': 152,\n",
       " 'tape': 153,\n",
       " 'des': 154,\n",
       " 'dc': 155,\n",
       " 'seattle': 156,\n",
       " 'nasdaq': 157,\n",
       " 'snyder': 158,\n",
       " 'suddenly': 159,\n",
       " 'briefcase': 160,\n",
       " 'nielsen': 161,\n",
       " 'collapsed': 162,\n",
       " 'washington': 163,\n",
       " 'counted': 164,\n",
       " 'romance': 165,\n",
       " 'industrialist': 166,\n",
       " 'resumed': 167,\n",
       " 'black': 168,\n",
       " 'borders': 169,\n",
       " 'stripped': 170,\n",
       " 'saga': 171,\n",
       " 'disaster': 172,\n",
       " 'montana': 173,\n",
       " 'suffering': 174,\n",
       " 'flyers': 175,\n",
       " 'venezuelans': 176,\n",
       " 'suicide': 177,\n",
       " 'dubai': 178,\n",
       " 'synopsys': 179,\n",
       " 'betting': 180,\n",
       " 'neville': 181,\n",
       " 'counter': 182,\n",
       " 'cautious': 183,\n",
       " 'upholds': 184,\n",
       " 'orders': 185,\n",
       " 'shortage': 186,\n",
       " 'rica': 187,\n",
       " 'fairytale': 188,\n",
       " 'discuss': 189,\n",
       " 'standoff': 190,\n",
       " 'endorsements': 191,\n",
       " 'trembled': 192,\n",
       " 'struggles': 193,\n",
       " 'maytag': 194,\n",
       " 'barriers': 195,\n",
       " 'pro': 196,\n",
       " 'background': 197,\n",
       " 'translator': 198,\n",
       " 'pressure': 199,\n",
       " 'switchboard': 200,\n",
       " 'crowded': 201,\n",
       " 'passed': 202,\n",
       " 'sexual': 203,\n",
       " 'pensions': 204,\n",
       " 'throwing': 205,\n",
       " 'transcending': 206,\n",
       " 'investigation': 207,\n",
       " 'practiced': 208,\n",
       " 'testament': 209,\n",
       " 'rubin': 210,\n",
       " 'soaring': 211,\n",
       " 'beefed': 212,\n",
       " 'rescuing': 213,\n",
       " 'reese': 214,\n",
       " 'matt': 215,\n",
       " 'himalayan': 216,\n",
       " 'buccaneers': 217,\n",
       " 'ate': 218,\n",
       " 'put': 219,\n",
       " 'waste': 220,\n",
       " 'chinese': 221,\n",
       " 'design': 222,\n",
       " 'placers': 223,\n",
       " 'phony': 224,\n",
       " 'internal': 225,\n",
       " 'misleading': 226,\n",
       " 'loans': 227,\n",
       " 'disgraced': 228,\n",
       " 'show': 229,\n",
       " 'material': 230,\n",
       " 'shooters': 231,\n",
       " 'pinch': 232,\n",
       " 'baca': 233,\n",
       " 'detained': 234,\n",
       " 'consortium': 235,\n",
       " 'nesn': 236,\n",
       " 'sporting': 237,\n",
       " 'backward': 238,\n",
       " 'carvings': 239,\n",
       " 'vento': 240,\n",
       " 'europe': 241,\n",
       " 'syrian': 242,\n",
       " 'assistant': 243,\n",
       " 'staples': 244,\n",
       " 'royal': 245,\n",
       " 'senators': 246,\n",
       " 'twickenham': 247,\n",
       " 'friends': 248,\n",
       " 'sex': 249,\n",
       " 'sprinter': 250,\n",
       " 'torri': 251,\n",
       " 'capgemini': 252,\n",
       " 'hermann': 253,\n",
       " 'pushed': 254,\n",
       " 'benefited': 255,\n",
       " 'assembled': 256,\n",
       " 'transparency': 257,\n",
       " 'conventional': 258,\n",
       " 'facilities': 259,\n",
       " 'regulations': 260,\n",
       " 'edged': 261,\n",
       " 'israelis': 262,\n",
       " 'brunt': 263,\n",
       " 'mildly': 264,\n",
       " 'rbis': 265,\n",
       " 'bengals': 266,\n",
       " 'bodied': 267,\n",
       " 'opponent': 268,\n",
       " 'doldrums': 269,\n",
       " 'areas': 270,\n",
       " 'inquiry': 271,\n",
       " 'timesheets': 272,\n",
       " 'overcame': 273,\n",
       " 'syno': 274,\n",
       " 'blistering': 275,\n",
       " 'damages': 276,\n",
       " 'flakey': 277,\n",
       " 'outweighed': 278,\n",
       " 'hyped': 279,\n",
       " 'chaotic': 280,\n",
       " 'death': 281,\n",
       " 'bls': 282,\n",
       " 'rico': 283,\n",
       " 'favre': 284,\n",
       " 'proposal': 285,\n",
       " 'forget': 286,\n",
       " 'fractured': 287,\n",
       " 'mutually': 288,\n",
       " 'claiming': 289,\n",
       " 'sing': 290,\n",
       " 'researchers': 291,\n",
       " 'seized': 292,\n",
       " 'grip': 293,\n",
       " 'tightening': 294,\n",
       " 'calgary': 295,\n",
       " 'timeline': 296,\n",
       " 'initiatives': 297,\n",
       " 'nominee': 298,\n",
       " 'pimlico': 299,\n",
       " 'airlifted': 300,\n",
       " 'durazo': 301,\n",
       " 'feels': 302,\n",
       " 'beaten': 303,\n",
       " 'surprisingly': 304,\n",
       " 'bhutto': 305,\n",
       " 'tight': 306,\n",
       " 'salt': 307,\n",
       " 'humiliation': 308,\n",
       " 'server': 309,\n",
       " 'territory': 310,\n",
       " 'mail': 311,\n",
       " 'uncle': 312,\n",
       " 'model': 313,\n",
       " 'ignorance': 314,\n",
       " 'crunching': 315,\n",
       " 'kernel': 316,\n",
       " 'balco': 317,\n",
       " 'paychecks': 318,\n",
       " 'lisbon': 319,\n",
       " 'sit': 320,\n",
       " 'hike': 321,\n",
       " 'challenge': 322,\n",
       " 'ny': 323,\n",
       " 'criticism': 324,\n",
       " 'moderately': 325,\n",
       " 'mahdi': 326,\n",
       " 'kuwait': 327,\n",
       " 'ivan': 328,\n",
       " 'chopped': 329,\n",
       " 'hostage': 330,\n",
       " 'legitimate': 331,\n",
       " 'opportunities': 332,\n",
       " 'visit': 333,\n",
       " 'koskie': 334,\n",
       " 'describing': 335,\n",
       " 'armenian': 336,\n",
       " 'mdt': 337,\n",
       " 'mental': 338,\n",
       " 'widely': 339,\n",
       " 'priced': 340,\n",
       " 'gt': 341,\n",
       " 'foster': 342,\n",
       " 'hafner': 343,\n",
       " 'chamblain': 344,\n",
       " 'intelligence': 345,\n",
       " 'pacesetter': 346,\n",
       " 'inflation': 347,\n",
       " 'mientkiewicz': 348,\n",
       " 'principality': 349,\n",
       " 'positive': 350,\n",
       " 'jonny': 351,\n",
       " 'venezuelan': 352,\n",
       " 'college': 353,\n",
       " 'cavaliers': 354,\n",
       " 'circled': 355,\n",
       " 'colorado': 356,\n",
       " 'jamaicans': 357,\n",
       " 'hoffa': 358,\n",
       " 'outplayed': 359,\n",
       " 'klitschko': 360,\n",
       " 'appeasing': 361,\n",
       " 'milan': 362,\n",
       " 'cook': 363,\n",
       " 'claim': 364,\n",
       " 'foley': 365,\n",
       " 'trickled': 366,\n",
       " 'farm': 367,\n",
       " 'rejuvenated': 368,\n",
       " 'hold': 369,\n",
       " 'slashed': 370,\n",
       " 'pickup': 371,\n",
       " 'hauls': 372,\n",
       " 'livability': 373,\n",
       " 'introduce': 374,\n",
       " 'broken': 375,\n",
       " 'bangkok': 376,\n",
       " 'shipping': 377,\n",
       " 'settling': 378,\n",
       " 'erubiel': 379,\n",
       " 'bose': 380,\n",
       " 'palestinians': 381,\n",
       " 'citrus': 382,\n",
       " 'dartmouth': 383,\n",
       " 'coyotes': 384,\n",
       " 'softer': 385,\n",
       " 'crossing': 386,\n",
       " 'bandanna': 387,\n",
       " 'francona': 388,\n",
       " 'valley': 389,\n",
       " 'competitors': 390,\n",
       " 'atta': 391,\n",
       " 'gear': 392,\n",
       " 'attacking': 393,\n",
       " 'golden': 394,\n",
       " 'lankan': 395,\n",
       " 'unrest': 396,\n",
       " 'mariona': 397,\n",
       " 'vaughan': 398,\n",
       " 'stated': 399,\n",
       " 'country': 400,\n",
       " 'vacate': 401,\n",
       " 'handful': 402,\n",
       " 'visible': 403,\n",
       " 'filipinos': 404,\n",
       " 'denied': 405,\n",
       " 'boats': 406,\n",
       " 'greater': 407,\n",
       " 'london': 408,\n",
       " 'present': 409,\n",
       " 'extremely': 410,\n",
       " 'bounce': 411,\n",
       " 'discord': 412,\n",
       " 'zenworks': 413,\n",
       " 'receives': 414,\n",
       " 'cramps': 415,\n",
       " 'herbicide': 416,\n",
       " 'gontyuk': 417,\n",
       " 'ticker': 418,\n",
       " 'polished': 419,\n",
       " 'expecting': 420,\n",
       " 'carry': 421,\n",
       " 'ferrari': 422,\n",
       " 'historic': 423,\n",
       " 'general': 424,\n",
       " 'mci': 425,\n",
       " 'medics': 426,\n",
       " 'runs': 427,\n",
       " 'result': 428,\n",
       " 'give': 429,\n",
       " 'flood': 430,\n",
       " 'confiscated': 431,\n",
       " 'jump': 432,\n",
       " 'require': 433,\n",
       " 'supplier': 434,\n",
       " 'wargames': 435,\n",
       " 'patrick': 436,\n",
       " 'dom': 437,\n",
       " 'bars': 438,\n",
       " 'fencing': 439,\n",
       " 'singapore': 440,\n",
       " 'vyatcheslav': 441,\n",
       " 'deflecting': 442,\n",
       " 'rfk': 443,\n",
       " 'firestone': 444,\n",
       " 'immensity': 445,\n",
       " 'unaccounted': 446,\n",
       " 'influenza': 447,\n",
       " 'occasion': 448,\n",
       " 'accoona': 449,\n",
       " 'baghdad': 450,\n",
       " 'outgoing': 451,\n",
       " 'added': 452,\n",
       " 'titles': 453,\n",
       " 'snaked': 454,\n",
       " 'majority': 455,\n",
       " 'equities': 456,\n",
       " 'forward': 457,\n",
       " 'claw': 458,\n",
       " 'rejoining': 459,\n",
       " 'average': 460,\n",
       " 'revolutionary': 461,\n",
       " 'levin': 462,\n",
       " 'mandated': 463,\n",
       " 'provinces': 464,\n",
       " 'yu': 465,\n",
       " 'hurricane': 466,\n",
       " 'merchandise': 467,\n",
       " 'brookstone': 468,\n",
       " 'voters': 469,\n",
       " 'girlfriend': 470,\n",
       " 'prison': 471,\n",
       " 'birmingham': 472,\n",
       " 'abu': 473,\n",
       " 'mittal': 474,\n",
       " 'basic': 475,\n",
       " 'horizontal': 476,\n",
       " 'correction': 477,\n",
       " 'failing': 478,\n",
       " 'satellites': 479,\n",
       " 'remote': 480,\n",
       " 'element': 481,\n",
       " 'mayo': 482,\n",
       " 'lead': 483,\n",
       " 'agency': 484,\n",
       " 'ministerial': 485,\n",
       " 'nuclear': 486,\n",
       " 'relentless': 487,\n",
       " 'named': 488,\n",
       " 'tastes': 489,\n",
       " 'instincts': 490,\n",
       " 'beautified': 491,\n",
       " 'hotline': 492,\n",
       " 'furnishings': 493,\n",
       " 'lit': 494,\n",
       " 'clergy': 495,\n",
       " 'cradle': 496,\n",
       " 'profits': 497,\n",
       " 'stability': 498,\n",
       " 'endorsed': 499,\n",
       " 'curb': 500,\n",
       " 'terrorized': 501,\n",
       " 'weightlifters': 502,\n",
       " 'cola': 503,\n",
       " 'asom': 504,\n",
       " 'mps': 505,\n",
       " 'chip': 506,\n",
       " 'suspicious': 507,\n",
       " 'standing': 508,\n",
       " 'perceptions': 509,\n",
       " 'kuranyi': 510,\n",
       " 'founded': 511,\n",
       " 'candidate': 512,\n",
       " 'gunned': 513,\n",
       " 'holborn': 514,\n",
       " 'producer': 515,\n",
       " 'lined': 516,\n",
       " 'virtually': 517,\n",
       " 'sides': 518,\n",
       " 'punch': 519,\n",
       " 'staging': 520,\n",
       " 'attorney': 521,\n",
       " 'wen': 522,\n",
       " 'sake': 523,\n",
       " 'alejandro': 524,\n",
       " 'specialist': 525,\n",
       " 'unforced': 526,\n",
       " 'restive': 527,\n",
       " 'dangers': 528,\n",
       " 'spitz': 529,\n",
       " 'sitting': 530,\n",
       " 'arousing': 531,\n",
       " 'dissolve': 532,\n",
       " 'dotted': 533,\n",
       " 'slight': 534,\n",
       " 'congressman': 535,\n",
       " 'sleazy': 536,\n",
       " 'tri': 537,\n",
       " 'earning': 538,\n",
       " 'pointing': 539,\n",
       " 'heinz': 540,\n",
       " 'province': 541,\n",
       " 'telling': 542,\n",
       " 'preparation': 543,\n",
       " 'pair': 544,\n",
       " 'lra': 545,\n",
       " 'manag': 546,\n",
       " 'strapped': 547,\n",
       " 'grown': 548,\n",
       " 'defunct': 549,\n",
       " 'spa': 550,\n",
       " 'hopeful': 551,\n",
       " 'blower': 552,\n",
       " 'activities': 553,\n",
       " 'airbus': 554,\n",
       " 'long': 555,\n",
       " 'moroccan': 556,\n",
       " 'yler': 557,\n",
       " 'kendrick': 558,\n",
       " 'ferguson': 559,\n",
       " 'kong': 560,\n",
       " 'convene': 561,\n",
       " 'cricket': 562,\n",
       " 'scintilla': 563,\n",
       " 'key': 564,\n",
       " 'cart': 565,\n",
       " 'blackhawks': 566,\n",
       " 'memo': 567,\n",
       " 'worthy': 568,\n",
       " 'demonstrators': 569,\n",
       " 'law': 570,\n",
       " 'milk': 571,\n",
       " 'dillard': 572,\n",
       " 'softness': 573,\n",
       " 'dozen': 574,\n",
       " 'tackling': 575,\n",
       " 'rider': 576,\n",
       " 'whopper': 577,\n",
       " 'haitian': 578,\n",
       " 'nicol': 579,\n",
       " 'inventor': 580,\n",
       " 'pir': 581,\n",
       " 'mcip': 582,\n",
       " 'pool': 583,\n",
       " 'ushered': 584,\n",
       " 'arafat': 585,\n",
       " 'rebranding': 586,\n",
       " 'camden': 587,\n",
       " 'deadline': 588,\n",
       " 'tanzania': 589,\n",
       " 'roads': 590,\n",
       " 'abuja': 591,\n",
       " 'militias': 592,\n",
       " 'twenty': 593,\n",
       " 'starved': 594,\n",
       " 'maple': 595,\n",
       " 'porn': 596,\n",
       " 'warfare': 597,\n",
       " 'schoolgirl': 598,\n",
       " 'birthday': 599,\n",
       " 'possessing': 600,\n",
       " 'nicholls': 601,\n",
       " 'pascal': 602,\n",
       " 'empty': 603,\n",
       " 'fare': 604,\n",
       " 'moved': 605,\n",
       " 'showdown': 606,\n",
       " 'plains': 607,\n",
       " 'freeplay': 608,\n",
       " 'hassan': 609,\n",
       " 'reference': 610,\n",
       " 'faded': 611,\n",
       " 'widening': 612,\n",
       " 'billion': 613,\n",
       " 'stoked': 614,\n",
       " 'mauritius': 615,\n",
       " 'wednesday': 616,\n",
       " 'surrounded': 617,\n",
       " 'winterthur': 618,\n",
       " 'emulating': 619,\n",
       " 'levity': 620,\n",
       " 'shouldn': 621,\n",
       " 'protests': 622,\n",
       " 'posters': 623,\n",
       " 'identified': 624,\n",
       " 'adjusters': 625,\n",
       " 'kashmir': 626,\n",
       " 'prize': 627,\n",
       " 'clark': 628,\n",
       " 'sardinian': 629,\n",
       " 'handle': 630,\n",
       " 'nucleus': 631,\n",
       " 'accurate': 632,\n",
       " 'coca': 633,\n",
       " 'smudged': 634,\n",
       " 'champion': 635,\n",
       " 'frenchman': 636,\n",
       " 'tomorrow': 637,\n",
       " 'raw': 638,\n",
       " 'morning': 639,\n",
       " 'signature': 640,\n",
       " 'wracking': 641,\n",
       " 'dethroning': 642,\n",
       " 'windows': 643,\n",
       " 'devote': 644,\n",
       " 'focus': 645,\n",
       " 'prone': 646,\n",
       " 'holy': 647,\n",
       " 'totalling': 648,\n",
       " 'jacques': 649,\n",
       " 'technology': 650,\n",
       " 'terrified': 651,\n",
       " 'sweeping': 652,\n",
       " 'wage': 653,\n",
       " 'arab': 654,\n",
       " 'sort': 655,\n",
       " 'deaths': 656,\n",
       " 'september': 657,\n",
       " 'yusgiantoro': 658,\n",
       " 'slapped': 659,\n",
       " 'rolling': 660,\n",
       " 'tentative': 661,\n",
       " 'smell': 662,\n",
       " 'reruns': 663,\n",
       " 'shane': 664,\n",
       " 'rand': 665,\n",
       " 'wondered': 666,\n",
       " 'killing': 667,\n",
       " 'michael': 668,\n",
       " 'broke': 669,\n",
       " 'slaughter': 670,\n",
       " 'billie': 671,\n",
       " 'layoffs': 672,\n",
       " 'attorneys': 673,\n",
       " 'fear': 674,\n",
       " 'den': 675,\n",
       " 'bloom': 676,\n",
       " 'overboard': 677,\n",
       " 'salary': 678,\n",
       " 'fully': 679,\n",
       " 'roberts': 680,\n",
       " 'darkness': 681,\n",
       " 'survival': 682,\n",
       " 'sun': 683,\n",
       " 'tribute': 684,\n",
       " 'uncertainty': 685,\n",
       " 'gaulle': 686,\n",
       " 'toddle': 687,\n",
       " 'smaller': 688,\n",
       " 'es': 689,\n",
       " 'sporadic': 690,\n",
       " 'viewership': 691,\n",
       " 'buckets': 692,\n",
       " 'selflessly': 693,\n",
       " 'header': 694,\n",
       " 'sigh': 695,\n",
       " 'wrap': 696,\n",
       " 'alka': 697,\n",
       " 'threats': 698,\n",
       " 'casualties': 699,\n",
       " 'stubbornly': 700,\n",
       " 'oao': 701,\n",
       " 'accountants': 702,\n",
       " 'toyota': 703,\n",
       " 'water': 704,\n",
       " 'survives': 705,\n",
       " 'hungry': 706,\n",
       " 'aircraft': 707,\n",
       " 'pushes': 708,\n",
       " 'itunes': 709,\n",
       " 'summoned': 710,\n",
       " 'olympic': 711,\n",
       " 'raiders': 712,\n",
       " 'favourite': 713,\n",
       " 'means': 714,\n",
       " 'cellphone': 715,\n",
       " 'communique': 716,\n",
       " 'spiralling': 717,\n",
       " 'toughest': 718,\n",
       " 'affect': 719,\n",
       " 'dearborn': 720,\n",
       " 'questioning': 721,\n",
       " 'menace': 722,\n",
       " 'erupt': 723,\n",
       " 'jumps': 724,\n",
       " 'retirement': 725,\n",
       " 'phenomenon': 726,\n",
       " 'benazir': 727,\n",
       " 'subs': 728,\n",
       " 'competitions': 729,\n",
       " 'editorial': 730,\n",
       " 'ancestors': 731,\n",
       " 'victories': 732,\n",
       " 'nascent': 733,\n",
       " 'kostas': 734,\n",
       " 'prokom': 735,\n",
       " 'usc': 736,\n",
       " 'occupation': 737,\n",
       " 'marketing': 738,\n",
       " 'banks': 739,\n",
       " 'albino': 740,\n",
       " 'dolphin': 741,\n",
       " 'stinging': 742,\n",
       " 'institutional': 743,\n",
       " 'trevor': 744,\n",
       " 'cantwell': 745,\n",
       " 'session': 746,\n",
       " 'mo': 747,\n",
       " 'ken': 748,\n",
       " 'rebounds': 749,\n",
       " 'dive': 750,\n",
       " 'perfect': 751,\n",
       " 'slightly': 752,\n",
       " 'spotted': 753,\n",
       " 'barbecue': 754,\n",
       " 'costa': 755,\n",
       " 'finalized': 756,\n",
       " 'criticised': 757,\n",
       " 'recovered': 758,\n",
       " 'health': 759,\n",
       " 'legg': 760,\n",
       " 'czar': 761,\n",
       " 'jungle': 762,\n",
       " 'deere': 763,\n",
       " 'holiday': 764,\n",
       " 'jan': 765,\n",
       " 'nablus': 766,\n",
       " 'farmers': 767,\n",
       " 'accountable': 768,\n",
       " 'making': 769,\n",
       " 'curbs': 770,\n",
       " 'celtics': 771,\n",
       " 'fellows': 772,\n",
       " 'mark': 773,\n",
       " 'si': 774,\n",
       " 'van': 775,\n",
       " 'tucker': 776,\n",
       " 'power': 777,\n",
       " 'performers': 778,\n",
       " 'trap': 779,\n",
       " 'zurab': 780,\n",
       " 'swiftly': 781,\n",
       " 'submitting': 782,\n",
       " 'pass': 783,\n",
       " 'figure': 784,\n",
       " 'nude': 785,\n",
       " 'patients': 786,\n",
       " 'registered': 787,\n",
       " 'adored': 788,\n",
       " 'chose': 789,\n",
       " 'minor': 790,\n",
       " 'urges': 791,\n",
       " 'muslims': 792,\n",
       " 'korea': 793,\n",
       " 'competing': 794,\n",
       " 'sacred': 795,\n",
       " 'proper': 796,\n",
       " 'contribution': 797,\n",
       " 'check': 798,\n",
       " 'physicists': 799,\n",
       " 'pena': 800,\n",
       " 'healing': 801,\n",
       " 'ability': 802,\n",
       " 'assurance': 803,\n",
       " 'yourap': 804,\n",
       " 'entertained': 805,\n",
       " 'capital': 806,\n",
       " 'collision': 807,\n",
       " 'doomed': 808,\n",
       " 'period': 809,\n",
       " 'shelters': 810,\n",
       " 'iliadis': 811,\n",
       " 'forum': 812,\n",
       " 'pars': 813,\n",
       " 'swahili': 814,\n",
       " 'facto': 815,\n",
       " 'refinery': 816,\n",
       " 'matsuzaka': 817,\n",
       " 'waiting': 818,\n",
       " 'utah': 819,\n",
       " 'camp': 820,\n",
       " 'lives': 821,\n",
       " 'spawned': 822,\n",
       " 'coronation': 823,\n",
       " 'bruins': 824,\n",
       " 'republic': 825,\n",
       " 'challenged': 826,\n",
       " 'duct': 827,\n",
       " 'main': 828,\n",
       " 'arduous': 829,\n",
       " 'resting': 830,\n",
       " 'wakefield': 831,\n",
       " 'irate': 832,\n",
       " 'tenth': 833,\n",
       " 'fireworks': 834,\n",
       " 'reported': 835,\n",
       " 'sand': 836,\n",
       " 'murdered': 837,\n",
       " 'bailey': 838,\n",
       " 'skyrocketing': 839,\n",
       " 'mainland': 840,\n",
       " 'murdoch': 841,\n",
       " 'nfc': 842,\n",
       " 'taste': 843,\n",
       " 'anti': 844,\n",
       " 'hearing': 845,\n",
       " 'earthwind': 846,\n",
       " 'issued': 847,\n",
       " 'culture': 848,\n",
       " 'chente': 849,\n",
       " 'vaunted': 850,\n",
       " 'hamburg': 851,\n",
       " 'operations': 852,\n",
       " 'sweeter': 853,\n",
       " 'kayla': 854,\n",
       " 'stewart': 855,\n",
       " 'czech': 856,\n",
       " 'risk': 857,\n",
       " 'sofronie': 858,\n",
       " 'anticipation': 859,\n",
       " 'told': 860,\n",
       " 'eked': 861,\n",
       " 'weight': 862,\n",
       " 'fired': 863,\n",
       " 'hostile': 864,\n",
       " 'hong': 865,\n",
       " 'tips': 866,\n",
       " 'lambs': 867,\n",
       " 'polling': 868,\n",
       " 'underlined': 869,\n",
       " 'elaborate': 870,\n",
       " 'distract': 871,\n",
       " 'cut': 872,\n",
       " 'yorker': 873,\n",
       " 'compusa': 874,\n",
       " 'massacre': 875,\n",
       " 'parliamentarians': 876,\n",
       " 'convincingly': 877,\n",
       " 'issaquah': 878,\n",
       " 'parmalat': 879,\n",
       " 'convinced': 880,\n",
       " 'lengths': 881,\n",
       " 'demise': 882,\n",
       " 'securing': 883,\n",
       " 'miners': 884,\n",
       " 'cyclist': 885,\n",
       " 'artistic': 886,\n",
       " 'claimed': 887,\n",
       " 'declaration': 888,\n",
       " 'clockwork': 889,\n",
       " 'forgo': 890,\n",
       " 'ronnie': 891,\n",
       " 'zook': 892,\n",
       " 'warships': 893,\n",
       " 'participating': 894,\n",
       " 'expelled': 895,\n",
       " 'hums': 896,\n",
       " 'basis': 897,\n",
       " 'capped': 898,\n",
       " 'santa': 899,\n",
       " 'revenues': 900,\n",
       " 'electronics': 901,\n",
       " 'faltering': 902,\n",
       " 'reams': 903,\n",
       " 'paving': 904,\n",
       " 'gtw': 905,\n",
       " 'frantic': 906,\n",
       " 'tempered': 907,\n",
       " 'reveal': 908,\n",
       " 'alexander': 909,\n",
       " 'ounce': 910,\n",
       " 'scores': 911,\n",
       " 'reigning': 912,\n",
       " 'publicly': 913,\n",
       " 'khalilzad': 914,\n",
       " 'sentenced': 915,\n",
       " 'disclosed': 916,\n",
       " 'buy': 917,\n",
       " 'hoeing': 918,\n",
       " 'crediting': 919,\n",
       " 'vulnerability': 920,\n",
       " 'ruined': 921,\n",
       " 'hellas': 922,\n",
       " 'briefed': 923,\n",
       " 'fewer': 924,\n",
       " 'rearing': 925,\n",
       " 'excessive': 926,\n",
       " 'corporation': 927,\n",
       " 'crashing': 928,\n",
       " 'critically': 929,\n",
       " 'framingham': 930,\n",
       " 'guidant': 931,\n",
       " 'armored': 932,\n",
       " 'judo': 933,\n",
       " 'bellhorn': 934,\n",
       " 'rookie': 935,\n",
       " 'researcher': 936,\n",
       " 'canadian': 937,\n",
       " 'contributors': 938,\n",
       " 'investigate': 939,\n",
       " 'farewell': 940,\n",
       " 'individual': 941,\n",
       " 'alarm': 942,\n",
       " 'shia': 943,\n",
       " 'kyle': 944,\n",
       " 'farce': 945,\n",
       " 'missouri': 946,\n",
       " 'return': 947,\n",
       " 'bombs': 948,\n",
       " 'desperately': 949,\n",
       " 'hole': 950,\n",
       " 'gary': 951,\n",
       " 'add': 952,\n",
       " 'revived': 953,\n",
       " 'richard': 954,\n",
       " 'transaction': 955,\n",
       " 'teixeira': 956,\n",
       " 'esteban': 957,\n",
       " 'lender': 958,\n",
       " 'jash': 959,\n",
       " 'restructuring': 960,\n",
       " 'jake': 961,\n",
       " 'hangover': 962,\n",
       " 'gilles': 963,\n",
       " 'gund': 964,\n",
       " 'varejao': 965,\n",
       " 'rwanda': 966,\n",
       " 'curling': 967,\n",
       " 'houston': 968,\n",
       " 'genius': 969,\n",
       " 'husky': 970,\n",
       " 'kilogram': 971,\n",
       " 'relationship': 972,\n",
       " 'independence': 973,\n",
       " 'trust': 974,\n",
       " 'swirling': 975,\n",
       " 'majors': 976,\n",
       " 'staid': 977,\n",
       " 'responsible': 978,\n",
       " 'profit': 979,\n",
       " 'fasher': 980,\n",
       " 'money': 981,\n",
       " 'institutions': 982,\n",
       " 'mcarthur': 983,\n",
       " 'molestation': 984,\n",
       " 'roman': 985,\n",
       " 'invaders': 986,\n",
       " 'unicenter': 987,\n",
       " 'denmark': 988,\n",
       " 'fierce': 989,\n",
       " 'overrule': 990,\n",
       " 'compete': 991,\n",
       " 'lash': 992,\n",
       " 'afternoon': 993,\n",
       " 'world': 994,\n",
       " 'leaders': 995,\n",
       " 'http': 996,\n",
       " 'jumped': 997,\n",
       " 'earlier': 998,\n",
       " 'festival': 999,\n",
       " ...}"
      ]
     },
     "execution_count": 14,
     "metadata": {},
     "output_type": "execute_result"
    }
   ],
   "source": [
    "word2voc_id"
   ]
  },
  {
   "cell_type": "markdown",
   "metadata": {},
   "source": [
    "### Convert the list of unigrams  into a list of vocabulary indices"
   ]
  },
  {
   "cell_type": "markdown",
   "metadata": {},
   "source": [
    "Storing actual one-hot vectors into memory for all words in the entire data set is prohibitive. Instead, we will store word indices in the vocabulary and look-up the weight matrix. This is equivalent of doing a dot product between an one-hot vector and the weight matrix. \n",
    "\n",
    "First, represent documents in train, dev and test sets as lists of words in the vocabulary:"
   ]
  },
  {
   "cell_type": "code",
   "execution_count": 15,
   "metadata": {
    "ExecuteTime": {
     "end_time": "2020-04-02T14:26:45.047887Z",
     "start_time": "2020-04-02T14:26:44.920631Z"
    },
    "scrolled": true
   },
   "outputs": [],
   "source": [
    "#get the unigram data \n",
    "uni_train_x = [extract_ngrams(train_x[i],ngram_range=(1,1), stop_words= stop_words) for i in range(len(train_x))]\n",
    "uni_dev_x = [extract_ngrams(dev_x[i],ngram_range=(1,1), stop_words= stop_words) for i in range(len(dev_x))]\n",
    "uni_test_x = [extract_ngrams(test_x[i],ngram_range=(1,1), stop_words= stop_words) for i in range(len(test_x))]"
   ]
  },
  {
   "cell_type": "code",
   "execution_count": 16,
   "metadata": {},
   "outputs": [],
   "source": [
    "#uni_train_x[0]"
   ]
  },
  {
   "cell_type": "markdown",
   "metadata": {},
   "source": [
    "Then convert them into lists of indices in the vocabulary:"
   ]
  },
  {
   "cell_type": "code",
   "execution_count": 17,
   "metadata": {
    "ExecuteTime": {
     "end_time": "2020-04-02T14:26:45.752658Z",
     "start_time": "2020-04-02T14:26:45.730409Z"
    },
    "scrolled": true
   },
   "outputs": [],
   "source": [
    "#covert data into indices\n",
    "train_indices_x = list(range(len(uni_train_x)))\n",
    "dev_indices_x = list(range(len(uni_dev_x)))\n",
    "test_indices_x = list(range(len(uni_test_x)))\n",
    "for i in range(len(uni_train_x)):\n",
    "    temp1 = []\n",
    "    for j in uni_train_x[i]:\n",
    "        if j in word2voc_id.keys():\n",
    "            temp1.append(word2voc_id[j])\n",
    "    train_indices_x[i] = temp1\n",
    "for i in range(len(uni_dev_x)):\n",
    "    temp2 = []\n",
    "    for j in uni_dev_x[i]:\n",
    "        if j in word2voc_id.keys():\n",
    "            temp2.append(word2voc_id[j])\n",
    "    dev_indices_x[i] = temp2\n",
    "for i in range(len(uni_test_x)):\n",
    "    temp3 = []\n",
    "    for j in uni_test_x[i]:\n",
    "        if j in word2voc_id.keys():\n",
    "            temp3.append(word2voc_id[j])\n",
    "    test_indices_x[i] = temp3"
   ]
  },
  {
   "cell_type": "code",
   "execution_count": 18,
   "metadata": {},
   "outputs": [
    {
     "data": {
      "text/plain": [
       "[7949,\n",
       " 176,\n",
       " 7922,\n",
       " 4247,\n",
       " 3639,\n",
       " 2828,\n",
       " 6569,\n",
       " 1600,\n",
       " 423,\n",
       " 4722,\n",
       " 5400,\n",
       " 6736,\n",
       " 6270,\n",
       " 4796,\n",
       " 8363,\n",
       " 5832,\n",
       " 1013,\n",
       " 429,\n",
       " 3586,\n",
       " 1276,\n",
       " 6170]"
      ]
     },
     "execution_count": 18,
     "metadata": {},
     "output_type": "execute_result"
    }
   ],
   "source": [
    "train_indices_x[0]"
   ]
  },
  {
   "cell_type": "markdown",
   "metadata": {},
   "source": [
    "Put the labels `Y` for train, dev and test sets into arrays: "
   ]
  },
  {
   "cell_type": "code",
   "execution_count": 19,
   "metadata": {
    "ExecuteTime": {
     "end_time": "2020-04-02T15:03:13.183996Z",
     "start_time": "2020-04-02T15:03:13.077575Z"
    },
    "scrolled": true
   },
   "outputs": [
    {
     "data": {
      "text/plain": [
       "array([0, 0, 0, 0, 0, 0, 0, 0, 0, 0, 0, 0, 0, 0, 0, 0, 0, 0, 0, 0, 0, 0,\n",
       "       0, 0, 0, 0, 0, 0, 0, 0, 0, 0, 0, 0, 0, 0, 0, 0, 0, 0, 0, 0, 0, 0,\n",
       "       0, 0, 0, 0, 0, 0, 1, 1, 1, 1, 1, 1, 1, 1, 1, 1, 1, 1, 1, 1, 1, 1,\n",
       "       1, 1, 1, 1, 1, 1, 1, 1, 1, 1, 1, 1, 1, 1, 1, 1, 1, 1, 1, 1, 1, 1,\n",
       "       1, 1, 1, 1, 1, 1, 1, 1, 1, 1, 1, 1, 2, 2, 2, 2, 2, 2, 2, 2, 2, 2,\n",
       "       2, 2, 2, 2, 2, 2, 2, 2, 2, 2, 2, 2, 2, 2, 2, 2, 2, 2, 2, 2, 2, 2,\n",
       "       2, 2, 2, 2, 2, 2, 2, 2, 2, 2, 2, 2, 2, 2, 2, 2, 2, 2], dtype=int64)"
      ]
     },
     "execution_count": 19,
     "metadata": {},
     "output_type": "execute_result"
    }
   ],
   "source": [
    "dev_y"
   ]
  },
  {
   "cell_type": "markdown",
   "metadata": {},
   "source": [
    "# Network Architecture\n",
    "\n",
    "Your network should pass each word index into its corresponding embedding by looking-up on the embedding matrix and then compute the first hidden layer $\\mathbf{h}_1$:\n",
    "\n",
    "$$\\mathbf{h}_1 = \\frac{1}{|x|}\\sum_i W^e_i, i \\in x$$\n",
    "\n",
    "where $|x|$ is the number of words in the document and $W^e$ is an embedding matrix $|V|\\times d$, $|V|$ is the size of the vocabulary and $d$ the embedding size.\n",
    "\n",
    "Then $\\mathbf{h}_1$ should be passed through a ReLU activation function:\n",
    "\n",
    "$$\\mathbf{a}_1 = relu(\\mathbf{h}_1)$$\n",
    "\n",
    "Finally the hidden layer is passed to the output layer:\n",
    "\n",
    "\n",
    "$$\\mathbf{y} = \\text{softmax}(\\mathbf{a}_1W) $$ \n",
    "where $W$ is a matrix $d \\times |{\\cal Y}|$, $|{\\cal Y}|$ is the number of classes.\n",
    "\n",
    "During training, $\\mathbf{a}_1$ should be multiplied with a dropout mask vector (elementwise) for regularisation before it is passed to the output layer.\n",
    "\n",
    "You can extend to a deeper architecture by passing a hidden layer to another one:\n",
    "\n",
    "$$\\mathbf{h_i} = \\mathbf{a}_{i-1}W_i $$\n",
    "\n",
    "$$\\mathbf{a_i} = relu(\\mathbf{h_i}) $$\n",
    "\n"
   ]
  },
  {
   "cell_type": "markdown",
   "metadata": {},
   "source": [
    "# Network Training\n",
    "\n",
    "First we need to define the parameters of our network by initiliasing the weight matrices. For that purpose, you should implement the `network_weights` function that takes as input:\n",
    "\n",
    "- `vocab_size`: the size of the vocabulary\n",
    "- `embedding_dim`: the size of the word embeddings\n",
    "- `hidden_dim`: a list of the sizes of any subsequent hidden layers. Empty if there are no hidden layers between the average embedding and the output layer \n",
    "- `num_classes`: the number of the classes for the output layer\n",
    "\n",
    "and returns:\n",
    "\n",
    "- `W`: a dictionary mapping from layer index (e.g. 0 for the embedding matrix) to the corresponding weight matrix initialised with small random numbers (hint: use numpy.random.uniform with from -0.1 to 0.1)\n",
    "\n",
    "Make sure that the dimensionality of each weight matrix is compatible with the previous and next weight matrix, otherwise you won't be able to perform forward and backward passes. Consider also using np.float32 precision to save memory."
   ]
  },
  {
   "cell_type": "code",
   "execution_count": 20,
   "metadata": {
    "ExecuteTime": {
     "end_time": "2020-04-02T15:41:20.918617Z",
     "start_time": "2020-04-02T15:41:20.915597Z"
    },
    "scrolled": true
   },
   "outputs": [],
   "source": [
    "def network_weights(vocab_size=1000, embedding_dim=300, \n",
    "                    hidden_dim=[], num_classes=3, init_val = 0.5):\n",
    "    np.random.seed(16269)\n",
    "    #get the size of each variable and use np.random.uniform to assign each layer size\n",
    "    dim_list = []\n",
    "    dim_list.append(vocab_size)\n",
    "    dim_list.append(embedding_dim)\n",
    "    dim_list.extend(hidden_dim)\n",
    "    dim_list.append(num_classes)\n",
    "    \n",
    "    W={}\n",
    "    for i in range(len(dim_list)-1): \n",
    "        W[i] = np.random.uniform(-init_val,init_val,(dim_list[i],dim_list[i+1])).astype('float32')\n",
    "    return W\n",
    "    "
   ]
  },
  {
   "cell_type": "code",
   "execution_count": 21,
   "metadata": {},
   "outputs": [
    {
     "name": "stdout",
     "output_type": "stream",
     "text": [
      "W_emb: (5, 10)\n",
      "W_out: (10, 10)\n"
     ]
    }
   ],
   "source": [
    "W = network_weights(vocab_size=5,embedding_dim=10,hidden_dim=[10,2], num_classes=2)\n",
    "\n",
    "print('W_emb:', W[0].shape)\n",
    "print('W_out:', W[1].shape)\n"
   ]
  },
  {
   "cell_type": "code",
   "execution_count": 22,
   "metadata": {
    "ExecuteTime": {
     "end_time": "2020-04-02T14:26:48.636732Z",
     "start_time": "2020-04-02T14:26:48.634122Z"
    },
    "scrolled": true
   },
   "outputs": [
    {
     "data": {
      "text/plain": [
       "{0: array([[ 0.12224471, -0.0794624 , -0.23009355,  0.29406023],\n",
       "        [-0.46997094,  0.12204431, -0.0749153 ,  0.37384233],\n",
       "        [-0.3974818 ,  0.3035981 ,  0.46178967, -0.43050396]],\n",
       "       dtype=float32),\n",
       " 1: array([[-0.31256202, -0.42996365, -0.2553189 ],\n",
       "        [-0.28818667, -0.15275556, -0.22158206],\n",
       "        [-0.20424126,  0.4211786 , -0.4858057 ],\n",
       "        [ 0.45516163,  0.22709407, -0.19921613]], dtype=float32),\n",
       " 2: array([[-0.02515792,  0.37151852,  0.32920408,  0.3873491 ],\n",
       "        [ 0.23128773, -0.08528457,  0.22343004,  0.44983786],\n",
       "        [-0.23429091,  0.00418209,  0.3896187 ,  0.01652054]],\n",
       "       dtype=float32),\n",
       " 3: array([[-0.40125608, -0.16001858],\n",
       "        [ 0.30069476,  0.21305238],\n",
       "        [-0.4713758 , -0.10194607],\n",
       "        [ 0.02704137, -0.39511573]], dtype=float32)}"
      ]
     },
     "execution_count": 22,
     "metadata": {},
     "output_type": "execute_result"
    }
   ],
   "source": [
    "#check the network_weights work or not \n",
    "W = network_weights(vocab_size=3,embedding_dim=4,hidden_dim=[3,4], num_classes=2)\n",
    "W"
   ]
  },
  {
   "cell_type": "markdown",
   "metadata": {
    "ExecuteTime": {
     "end_time": "2020-04-01T10:31:57.970152Z",
     "start_time": "2020-04-01T10:31:57.966123Z"
    }
   },
   "source": [
    "Then you need to develop a `softmax` function (same as in Assignment 1) to be used in the output layer. \n",
    "\n",
    "It takes as input `z` (array of real numbers) and returns `sig` (the softmax of `z`)\n",
    "\n"
   ]
  },
  {
   "cell_type": "code",
   "execution_count": 23,
   "metadata": {},
   "outputs": [],
   "source": [
    "def softmax(z):\n",
    "    soft = np.exp(z- np.max(z))\n",
    "    soft = soft / soft.sum()\n",
    "    return soft"
   ]
  },
  {
   "cell_type": "markdown",
   "metadata": {},
   "source": [
    "Now you need to implement the categorical cross entropy loss by slightly modifying the function from Assignment 1 to depend only on the true label `y` and the class probabilities vector `y_preds`:\n"
   ]
  },
  {
   "cell_type": "code",
   "execution_count": 24,
   "metadata": {
    "ExecuteTime": {
     "end_time": "2020-04-02T14:26:51.360838Z",
     "start_time": "2020-04-02T14:26:51.356935Z"
    },
    "scrolled": true
   },
   "outputs": [],
   "source": [
    "def categorical_loss(y, y_preds):\n",
    "    #print(y_preds)\n",
    "    y_max = max(y_preds)\n",
    "    l = (-y) * np.log(y_max)\n",
    "    return l"
   ]
  },
  {
   "cell_type": "markdown",
   "metadata": {
    "ExecuteTime": {
     "end_time": "2020-03-31T15:02:56.149535Z",
     "start_time": "2020-03-31T15:02:56.145738Z"
    }
   },
   "source": [
    "Then, implement the `relu` function to introduce non-linearity after each hidden layer of your network \n",
    "(during the forward pass): \n",
    "\n",
    "$$relu(z_i)= max(z_i,0)$$\n",
    "\n",
    "and the `relu_derivative` function to compute its derivative (used in the backward pass):\n",
    "\n",
    "  \n",
    "  relu_derivative($z_i$)=0, if $z_i$<=0, 1 otherwise.\n",
    "  \n",
    "\n",
    "\n",
    "Note that both functions take as input a vector $z$ \n",
    "\n",
    "Hint use .copy() to avoid in place changes in array z"
   ]
  },
  {
   "cell_type": "code",
   "execution_count": 25,
   "metadata": {
    "ExecuteTime": {
     "end_time": "2020-04-02T14:26:52.665236Z",
     "start_time": "2020-04-02T14:26:52.661519Z"
    },
    "scrolled": true
   },
   "outputs": [],
   "source": [
    "def relu(z):\n",
    "    a = np.maximum(z,0)\n",
    "    return a\n",
    "    \n",
    "def relu_derivative(z):\n",
    "    z_cp = z.copy()\n",
    "    z_cp[z_cp<=0] =0\n",
    "    z_cp[z_cp>0] =1\n",
    "    return z_cp"
   ]
  },
  {
   "cell_type": "markdown",
   "metadata": {},
   "source": [
    "During training you should also apply a dropout mask element-wise after the activation function (i.e. vector of ones with a random percentage set to zero). The `dropout_mask` function takes as input:\n",
    "\n",
    "- `size`: the size of the vector that we want to apply dropout\n",
    "- `dropout_rate`: the percentage of elements that will be randomly set to zeros\n",
    "\n",
    "and returns:\n",
    "\n",
    "- `dropout_vec`: a vector with binary values (0 or 1)"
   ]
  },
  {
   "cell_type": "code",
   "execution_count": 26,
   "metadata": {
    "ExecuteTime": {
     "end_time": "2020-04-02T14:26:53.429192Z",
     "start_time": "2020-04-02T14:26:53.425301Z"
    },
    "scrolled": true
   },
   "outputs": [],
   "source": [
    "def dropout_mask(size, dropout_rate):\n",
    "    np.random.seed(16269)\n",
    "    num = size*dropout_rate\n",
    "    dropout_vec = np.ones(size)\n",
    "    dropout_ind = np.random.choice(np.arange(size),replace = False,size = int(num))\n",
    "    dropout_vec[dropout_ind] = 0 \n",
    "    return dropout_vec"
   ]
  },
  {
   "cell_type": "code",
   "execution_count": 27,
   "metadata": {},
   "outputs": [
    {
     "name": "stdout",
     "output_type": "stream",
     "text": [
      "[0. 1. 1. 1. 1. 1. 1. 0. 1. 1.]\n",
      "[0. 1. 1. 1. 1. 1. 1. 0. 1. 1.]\n"
     ]
    }
   ],
   "source": [
    "print(dropout_mask(10, 0.2))\n",
    "print(dropout_mask(10, 0.2))"
   ]
  },
  {
   "cell_type": "markdown",
   "metadata": {},
   "source": [
    "Now you need to implement the `forward_pass` function that passes the input x through the network up to the output layer for computing the probability for each class using the weight matrices in `W`. The ReLU activation function should be applied on each hidden layer. \n",
    "\n",
    "- `x`: a list of vocabulary indices each corresponding to a word in the document (input)\n",
    "- `W`: a list of weight matrices connecting each part of the network, e.g. for a network with a hidden and an output layer: W[0] is the weight matrix that connects the input to the first hidden layer, W[1] is the weight matrix that connects the hidden layer to the output layer.\n",
    "- `dropout_rate`: the dropout rate that is used to generate a random dropout mask vector applied after each hidden layer for regularisation.\n",
    "\n",
    "and returns:\n",
    "\n",
    "- `out_vals`: a dictionary of output values from each layer: h (the vector before the activation function), a (the resulting vector after passing h from the activation function), its dropout mask vector; and the prediction vector (probability for each class) from the output layer."
   ]
  },
  {
   "cell_type": "code",
   "execution_count": 28,
   "metadata": {
    "ExecuteTime": {
     "end_time": "2020-04-02T14:26:54.761268Z",
     "start_time": "2020-04-02T14:26:54.753402Z"
    },
    "scrolled": true
   },
   "outputs": [],
   "source": [
    "def forward_pass(x, W, dropout_rate=0.2): \n",
    "    \n",
    "    out_vals = {}\n",
    "    h_vecs = []\n",
    "    a_vecs = []\n",
    "    dropout_vecs = []\n",
    "    #count the weight of first layer, do relu and dropout function\n",
    "    w_emb = [W[0][index] for index in x]\n",
    "    h = np.mean(np.array(w_emb),axis=0)\n",
    "    a = relu(h)\n",
    "    drop_vec = dropout_mask(len(a), dropout_rate)\n",
    "    output = a*drop_vec\n",
    "    h_vecs.append(h)\n",
    "    a_vecs.append(a)\n",
    "    dropout_vecs.append(drop_vec)\n",
    "    #other layers\n",
    "    for i in range(1,len(W)-1):\n",
    "        h = np.dot(output,W[i])\n",
    "        a = relu(h)\n",
    "        drop_vec = dropout_mask(len(a), dropout_rate)\n",
    "        output = a*drop_vec\n",
    "        h_vecs.append(h)\n",
    "        a_vecs.append(a)\n",
    "        dropout_vecs.append(drop_vec)\n",
    "    \n",
    "    y_pre = softmax(np.dot(output,W[len(W)-1]))\n",
    "    \n",
    "    out_vals['h'] = h_vecs\n",
    "    out_vals['a'] = a_vecs\n",
    "    out_vals['dropout_vecs'] = dropout_vecs\n",
    "    out_vals['y'] = y_pre\n",
    "    \n",
    "    return out_vals\n",
    "    "
   ]
  },
  {
   "cell_type": "code",
   "execution_count": 29,
   "metadata": {},
   "outputs": [
    {
     "name": "stdout",
     "output_type": "stream",
     "text": [
      "Shape W0 (100, 20)\n",
      "Shape W1 (20, 4)\n",
      "Shape W2 (4, 2)\n",
      "Shape W3 (2, 2)\n",
      "{'h': [array([ 0.17688254, -0.00454105,  0.05746456, -0.00638478, -0.13021453,\n",
      "       -0.04556508, -0.02224372,  0.05884917, -0.2432979 , -0.04557189,\n",
      "        0.06403284, -0.29234985, -0.3149953 , -0.27194694, -0.1704622 ,\n",
      "        0.06597526, -0.08525288, -0.20908287, -0.18800098,  0.15818825],\n",
      "      dtype=float32), array([ 0.00223933,  0.03659521, -0.02797977, -0.03967538]), array([0.00765979, 0.00364189])], 'a': [array([0.17688254, 0.        , 0.05746456, 0.        , 0.        ,\n",
      "       0.        , 0.        , 0.05884917, 0.        , 0.        ,\n",
      "       0.06403284, 0.        , 0.        , 0.        , 0.        ,\n",
      "       0.06597526, 0.        , 0.        , 0.        , 0.15818825],\n",
      "      dtype=float32), array([0.00223933, 0.03659521, 0.        , 0.        ]), array([0.00765979, 0.00364189])], 'dropout_vecs': [array([1., 0., 0., 0., 1., 0., 0., 0., 0., 0., 1., 1., 1., 1., 0., 1., 1.,\n",
      "       1., 0., 1.]), array([0., 1., 1., 0.]), array([0., 1.])], 'y': array([0.50009148, 0.49990852])}\n"
     ]
    }
   ],
   "source": [
    "#check is forward_pass function working or not\n",
    "W = network_weights(vocab_size=100,embedding_dim=20,hidden_dim=[4,2], num_classes=2)\n",
    "\n",
    "for i in range(len(W)):\n",
    "    print('Shape W'+str(i), W[i].shape)\n",
    "\n",
    "print(forward_pass([5,0], W, dropout_rate=0.5))"
   ]
  },
  {
   "cell_type": "markdown",
   "metadata": {},
   "source": [
    "The `backward_pass` function computes the gradients and updates the weights for each matrix in the network from the output to the input. It takes as input \n",
    "\n",
    "- `x`: a list of vocabulary indices each corresponding to a word in the document (input)\n",
    "- `y`: the true label\n",
    "- `W`: a list of weight matrices connecting each part of the network, e.g. for a network with a hidden and an output layer: W[0] is the weight matrix that connects the input to the first hidden layer, W[1] is the weight matrix that connects the hidden layer to the output layer.\n",
    "- `out_vals`: a dictionary of output values from a forward pass.\n",
    "- `learning_rate`: the learning rate for updating the weights.\n",
    "- `freeze_emb`: boolean value indicating whether the embedding weights will be updated.\n",
    "\n",
    "and returns:\n",
    "\n",
    "- `W`: the updated weights of the network.\n",
    "\n",
    "Hint: the gradients on the output layer are similar to the multiclass logistic regression."
   ]
  },
  {
   "cell_type": "code",
   "execution_count": 30,
   "metadata": {
    "ExecuteTime": {
     "end_time": "2020-05-11T08:24:13.732705Z",
     "start_time": "2020-05-11T08:24:13.729741Z"
    },
    "scrolled": true
   },
   "outputs": [],
   "source": [
    "def backward_pass(x, y, W, out_vals, lr=0.001, freeze_emb=True):\n",
    "    \n",
    "    #calculate gradient \n",
    "    grad = out_vals['y'] - (np.arange(len(out_vals['y'])) == y)\n",
    "\n",
    "    # calculate weights\n",
    "    out_layer_input = out_vals['a'][-1] * out_vals['dropout_vecs'][-1]\n",
    "    grad_on_wt = np.outer(grad, out_layer_input)\n",
    "    grad_on_wt = grad_on_wt.T\n",
    "    grad = grad.dot(W[len(W)-1].T)\n",
    "    \n",
    "    # update weight\n",
    "    W[len(W)-1] -= lr * grad_on_wt\n",
    "\n",
    "    # Update each hidden layer\n",
    "    for i in range(len(W) - 2, 1, -1):\n",
    "        grad *= relu_derivative(out_vals['h'][i])\n",
    "\n",
    "        # calculate weights\n",
    "        layer_input = out_vals['a'][i - 1] * out_vals['dropout_vecs'][i - 1]\n",
    "        grad_on_wt = np.outer(grad, layer_input)\n",
    "        grad_on_wt = grad_on_wt.T\n",
    "        grad = grad.dot(W[i].T)\n",
    "\n",
    "        # update weight\n",
    "        W[i] -= lr * grad_on_wt\n",
    "\n",
    "    # Update weights of the initial layer\n",
    "    if not freeze_emb:\n",
    "        grad *= relu_derivative(out_vals['h'][0])\n",
    "        W[0][x] -= lr * grad\n",
    "    \n",
    "            \n",
    "    return W\n",
    "\n",
    "\n"
   ]
  },
  {
   "cell_type": "markdown",
   "metadata": {
    "ExecuteTime": {
     "end_time": "2020-02-15T14:08:59.937442Z",
     "start_time": "2020-02-15T14:08:59.932221Z"
    }
   },
   "source": [
    "Finally you need to modify SGD to support back-propagation by using the `forward_pass` and `backward_pass` functions.\n",
    "\n",
    "The `SGD` function takes as input:\n",
    "\n",
    "- `X_tr`: array of training data (vectors)\n",
    "- `Y_tr`: labels of `X_tr`\n",
    "- `W`: the weights of the network (dictionary)\n",
    "- `X_dev`: array of development (i.e. validation) data (vectors)\n",
    "- `Y_dev`: labels of `X_dev`\n",
    "- `lr`: learning rate\n",
    "- `dropout`: regularisation strength\n",
    "- `epochs`: number of full passes over the training data\n",
    "- `tolerance`: stop training if the difference between the current and previous validation loss is smaller than a threshold\n",
    "- `freeze_emb`: boolean value indicating whether the embedding weights will be updated (to be used by the backward pass function).\n",
    "- `print_progress`: flag for printing the training progress (train/validation loss)\n",
    "\n",
    "\n",
    "and returns:\n",
    "\n",
    "- `weights`: the weights learned\n",
    "- `training_loss_history`: an array with the average losses of the whole training set after each epoch\n",
    "- `validation_loss_history`: an array with the average losses of the whole development set after each epoch"
   ]
  },
  {
   "cell_type": "code",
   "execution_count": 31,
   "metadata": {},
   "outputs": [],
   "source": [
    "import time\n",
    "def SGD(X_tr, Y_tr, W, X_dev=[], Y_dev=[], lr=0.001, \n",
    "        dropout=0.2, epochs=5, tolerance=0.001, freeze_emb=False, \n",
    "        print_progress=True):\n",
    "    #np.random.seed(16269)\n",
    "    training_loss_history = []\n",
    "    validation_loss_history = []\n",
    "\n",
    "    train_docs = list(zip(X_tr, Y_tr))\n",
    "    dev_docs = list(zip(X_dev,Y_dev))\n",
    "                        \n",
    "    for i in range(0,epochs):\n",
    "        #Randomise the order of each epoch\n",
    "        np.random.seed(i)\n",
    "        new_X_tr = np.random.permutation(X_tr)\n",
    "        np.random.seed(i)\n",
    "        new_Y_tr = np.random.permutation(Y_tr)\n",
    "        new_train_docs = list(zip(new_X_tr,new_Y_tr))\n",
    "        \n",
    "        for x_i, y_i in new_train_docs:\n",
    "            #fo = time.time()\n",
    "            out_vals = forward_pass(x_i, W, dropout)\n",
    "            #fo_end = time.time()\n",
    "            #ba = time.time()\n",
    "            W = backward_pass(x_i, y_i, W, out_vals, lr, freeze_emb)\n",
    "            #ba_end = time.time()\n",
    "            #print(ba_end - ba, fo_end - fo)\n",
    "        #train loss\n",
    "        temp_loss_tr = [categorical_loss(y_i, forward_pass(x_i, W, dropout)['y']) for x_i, y_i in train_docs]\n",
    "        cur_loss_tr = np.mean(temp_loss_tr)\n",
    "\n",
    "        # Validation loss\n",
    "        temp_loss_dev = [categorical_loss(y_i, forward_pass(x_i, W, dropout)['y']) for x_i, y_i in dev_docs]\n",
    "        cur_loss_dev = np.mean(temp_loss_dev)\n",
    "\n",
    "        training_loss_history.append(cur_loss_tr)\n",
    "        validation_loss_history.append(cur_loss_dev)\n",
    "\n",
    "        if print_progress:\n",
    "            print(f'Epoch: {i} | Train loss: {cur_loss_tr} | Dev loss: {cur_loss_dev}')\n",
    "    \n",
    "    return W, training_loss_history, validation_loss_history"
   ]
  },
  {
   "cell_type": "code",
   "execution_count": 32,
   "metadata": {
    "scrolled": true
   },
   "outputs": [
    {
     "name": "stdout",
     "output_type": "stream",
     "text": [
      "Shape W0 (8596, 300)\n",
      "Shape W1 (300, 3)\n"
     ]
    },
    {
     "name": "stderr",
     "output_type": "stream",
     "text": [
      "C:\\Users\\88690\\anaconda3\\lib\\site-packages\\numpy\\core\\_asarray.py:102: VisibleDeprecationWarning: Creating an ndarray from ragged nested sequences (which is a list-or-tuple of lists-or-tuples-or ndarrays with different lengths or shapes) is deprecated. If you meant to do this, you must specify 'dtype=object' when creating the ndarray.\n",
      "  return array(a, dtype, copy=False, order=order)\n",
      "<__array_function__ internals>:5: VisibleDeprecationWarning: Creating an ndarray from ragged nested sequences (which is a list-or-tuple of lists-or-tuples-or ndarrays with different lengths or shapes) is deprecated. If you meant to do this, you must specify 'dtype=object' when creating the ndarray.\n"
     ]
    },
    {
     "name": "stdout",
     "output_type": "stream",
     "text": [
      "Epoch: 0 | Train loss: 0.6681947304196671 | Dev loss: 0.8068374695282586\n",
      "Epoch: 1 | Train loss: 0.44509913873910517 | Dev loss: 0.6297523470086293\n",
      "Epoch: 2 | Train loss: 0.31699595653408236 | Dev loss: 0.5035460339326222\n",
      "Epoch: 3 | Train loss: 0.24290354786902904 | Dev loss: 0.4219174278207625\n",
      "Epoch: 4 | Train loss: 0.19047502413889444 | Dev loss: 0.3627505733285442\n",
      "Epoch: 5 | Train loss: 0.15721425389561267 | Dev loss: 0.32374103633971346\n",
      "Epoch: 6 | Train loss: 0.12585286755154437 | Dev loss: 0.2879494428522525\n",
      "Epoch: 7 | Train loss: 0.10656964027177272 | Dev loss: 0.26648152135471004\n",
      "Epoch: 8 | Train loss: 0.09262765419642288 | Dev loss: 0.25121352515915724\n",
      "Epoch: 9 | Train loss: 0.07665863913074862 | Dev loss: 0.2345179632192439\n",
      "Epoch: 10 | Train loss: 0.06878163681034649 | Dev loss: 0.2257769212978331\n",
      "Epoch: 11 | Train loss: 0.05959829058257321 | Dev loss: 0.2143477337297253\n",
      "Epoch: 12 | Train loss: 0.051971081974802914 | Dev loss: 0.20416023054038523\n",
      "Epoch: 13 | Train loss: 0.0463428023676554 | Dev loss: 0.19673044811244392\n",
      "Epoch: 14 | Train loss: 0.041508493345329606 | Dev loss: 0.1895121613049893\n",
      "Epoch: 15 | Train loss: 0.038820401920879315 | Dev loss: 0.18649745136443674\n",
      "Epoch: 16 | Train loss: 0.03498447102566021 | Dev loss: 0.18037878027473714\n",
      "Epoch: 17 | Train loss: 0.03154744922536908 | Dev loss: 0.17395347866494754\n",
      "Epoch: 18 | Train loss: 0.029896860658546506 | Dev loss: 0.17116254091773844\n",
      "Epoch: 19 | Train loss: 0.026832587502093386 | Dev loss: 0.16574371380733624\n",
      "Epoch: 20 | Train loss: 0.02342049285014297 | Dev loss: 0.15903167241565405\n",
      "Epoch: 21 | Train loss: 0.02301012851830011 | Dev loss: 0.15837546523818707\n",
      "Epoch: 22 | Train loss: 0.021416341253987625 | Dev loss: 0.15547856307501123\n",
      "Epoch: 23 | Train loss: 0.020681642814996473 | Dev loss: 0.15420471594019966\n",
      "Epoch: 24 | Train loss: 0.018353166609183128 | Dev loss: 0.14865004296552603\n",
      "Epoch: 25 | Train loss: 0.017301292434535147 | Dev loss: 0.14621866863581023\n",
      "Epoch: 26 | Train loss: 0.017458320016305522 | Dev loss: 0.14598328020736517\n",
      "Epoch: 27 | Train loss: 0.016517819978658383 | Dev loss: 0.14385310545029914\n",
      "Epoch: 28 | Train loss: 0.015437977220216939 | Dev loss: 0.1412506820770525\n",
      "Epoch: 29 | Train loss: 0.01383302503052019 | Dev loss: 0.13753982141522858\n",
      "Epoch: 30 | Train loss: 0.013548240496528313 | Dev loss: 0.13689521841352395\n",
      "Epoch: 31 | Train loss: 0.013169988335502886 | Dev loss: 0.135509687112266\n",
      "Epoch: 32 | Train loss: 0.012991688826641316 | Dev loss: 0.1350136264988503\n",
      "Epoch: 33 | Train loss: 0.012337961267682168 | Dev loss: 0.1331657327751592\n",
      "Epoch: 34 | Train loss: 0.011673067347706945 | Dev loss: 0.13149797126361065\n",
      "Epoch: 35 | Train loss: 0.011228066003679154 | Dev loss: 0.1305317060372181\n",
      "Epoch: 36 | Train loss: 0.010600051854191548 | Dev loss: 0.12916873474825732\n",
      "Epoch: 37 | Train loss: 0.01172641761694733 | Dev loss: 0.13147675746983709\n",
      "Epoch: 38 | Train loss: 0.010098968460323366 | Dev loss: 0.12737154919730287\n",
      "Epoch: 39 | Train loss: 0.009956669486448943 | Dev loss: 0.12680728637279573\n"
     ]
    }
   ],
   "source": [
    "#set parameter manually just for checking model work\n",
    "W = network_weights(vocab_size=len(train_voc_set),embedding_dim=300,hidden_dim=[], num_classes=3)\n",
    "\n",
    "for i in range(len(W)):\n",
    "    print('Shape W'+str(i), W[i].shape)\n",
    "\n",
    "W, loss_tr, dev_loss = SGD(train_indices_x, Y_tr=train_y,\n",
    "                            W=W,\n",
    "                            X_dev=dev_indices_x, \n",
    "                            Y_dev=dev_y,\n",
    "                            lr=0.01, \n",
    "                            dropout=0.4,\n",
    "                            freeze_emb=False,\n",
    "                            tolerance=0.0001,\n",
    "                            epochs=40)"
   ]
  },
  {
   "cell_type": "markdown",
   "metadata": {
    "ExecuteTime": {
     "end_time": "2020-02-15T14:10:15.772383Z",
     "start_time": "2020-02-15T14:10:15.767855Z"
    }
   },
   "source": [
    "Now you are ready to train and evaluate your neural net. First, you need to define your network using the `network_weights` function followed by SGD with backprop:"
   ]
  },
  {
   "cell_type": "markdown",
   "metadata": {},
   "source": [
    "Plot the learning process:"
   ]
  },
  {
   "cell_type": "code",
   "execution_count": 33,
   "metadata": {
    "ExecuteTime": {
     "end_time": "2020-04-02T14:27:15.716497Z",
     "start_time": "2020-04-02T14:27:15.612736Z"
    },
    "scrolled": true
   },
   "outputs": [
    {
     "data": {
      "image/png": "[encoded data removed]",
      "text/plain": [
       "<Figure size 432x288 with 1 Axes>"
      ]
     },
     "metadata": {
      "needs_background": "light"
     },
     "output_type": "display_data"
    }
   ],
   "source": [
    "x = np.linspace(0,len(loss_tr),len(loss_tr))\n",
    "y1, y2 = loss_tr, dev_loss\n",
    " \n",
    "plt.plot(x, y1,label='Training loss')\n",
    "plt.plot(x, y2, label='Validation loss')\n",
    " \n",
    "plt.title('Training Monitoring')\n",
    "plt.xlabel('Epochs')\n",
    "plt.ylabel('Loss')\n",
    "plt.legend() \n",
    "plt.show()"
   ]
  },
  {
   "cell_type": "markdown",
   "metadata": {},
   "source": [
    "According to the graph, it is neither overfitting nor underfitting. It could train more times to get the higher accuracy probably."
   ]
  },
  {
   "cell_type": "markdown",
   "metadata": {},
   "source": [
    "Compute accuracy, precision, recall and F1-Score:"
   ]
  },
  {
   "cell_type": "code",
   "execution_count": 34,
   "metadata": {
    "ExecuteTime": {
     "end_time": "2020-04-02T15:10:11.037495Z",
     "start_time": "2020-04-02T15:10:11.034999Z"
    },
    "scrolled": true
   },
   "outputs": [
    {
     "name": "stdout",
     "output_type": "stream",
     "text": [
      "Accuracy: 0.8611111111111112\n",
      "Precision: 0.8627965786817375\n",
      "Recall: 0.861111111111111\n",
      "F1-Score: 0.8607497524117416\n"
     ]
    }
   ],
   "source": [
    "preds_te = [np.argmax(forward_pass(x, W, dropout_rate=0.0)['y']) \n",
    "            for x,y in zip(test_indices_x,test_y)]\n",
    "\n",
    "print('Accuracy:', accuracy_score(test_y,preds_te))\n",
    "print('Precision:', precision_score(test_y,preds_te,average='macro'))\n",
    "print('Recall:', recall_score(test_y,preds_te,average='macro'))\n",
    "print('F1-Score:', f1_score(test_y,preds_te,average='macro'))"
   ]
  },
  {
   "cell_type": "markdown",
   "metadata": {},
   "source": [
    "### Discuss how did you choose model hyperparameters ? "
   ]
  },
  {
   "cell_type": "code",
   "execution_count": 35,
   "metadata": {
    "scrolled": true
   },
   "outputs": [
    {
     "name": "stderr",
     "output_type": "stream",
     "text": [
      "C:\\Users\\88690\\anaconda3\\lib\\site-packages\\numpy\\core\\_asarray.py:102: VisibleDeprecationWarning: Creating an ndarray from ragged nested sequences (which is a list-or-tuple of lists-or-tuples-or ndarrays with different lengths or shapes) is deprecated. If you meant to do this, you must specify 'dtype=object' when creating the ndarray.\n",
      "  return array(a, dtype, copy=False, order=order)\n",
      "<__array_function__ internals>:5: VisibleDeprecationWarning: Creating an ndarray from ragged nested sequences (which is a list-or-tuple of lists-or-tuples-or ndarrays with different lengths or shapes) is deprecated. If you meant to do this, you must specify 'dtype=object' when creating the ndarray.\n",
      "C:\\Users\\88690\\anaconda3\\lib\\site-packages\\numpy\\core\\_asarray.py:102: VisibleDeprecationWarning: Creating an ndarray from ragged nested sequences (which is a list-or-tuple of lists-or-tuples-or ndarrays with different lengths or shapes) is deprecated. If you meant to do this, you must specify 'dtype=object' when creating the ndarray.\n",
      "  return array(a, dtype, copy=False, order=order)\n",
      "<__array_function__ internals>:5: VisibleDeprecationWarning: Creating an ndarray from ragged nested sequences (which is a list-or-tuple of lists-or-tuples-or ndarrays with different lengths or shapes) is deprecated. If you meant to do this, you must specify 'dtype=object' when creating the ndarray.\n",
      "C:\\Users\\88690\\anaconda3\\lib\\site-packages\\numpy\\core\\_asarray.py:102: VisibleDeprecationWarning: Creating an ndarray from ragged nested sequences (which is a list-or-tuple of lists-or-tuples-or ndarrays with different lengths or shapes) is deprecated. If you meant to do this, you must specify 'dtype=object' when creating the ndarray.\n",
      "  return array(a, dtype, copy=False, order=order)\n",
      "<__array_function__ internals>:5: VisibleDeprecationWarning: Creating an ndarray from ragged nested sequences (which is a list-or-tuple of lists-or-tuples-or ndarrays with different lengths or shapes) is deprecated. If you meant to do this, you must specify 'dtype=object' when creating the ndarray.\n",
      "C:\\Users\\88690\\anaconda3\\lib\\site-packages\\numpy\\core\\_asarray.py:102: VisibleDeprecationWarning: Creating an ndarray from ragged nested sequences (which is a list-or-tuple of lists-or-tuples-or ndarrays with different lengths or shapes) is deprecated. If you meant to do this, you must specify 'dtype=object' when creating the ndarray.\n",
      "  return array(a, dtype, copy=False, order=order)\n",
      "<__array_function__ internals>:5: VisibleDeprecationWarning: Creating an ndarray from ragged nested sequences (which is a list-or-tuple of lists-or-tuples-or ndarrays with different lengths or shapes) is deprecated. If you meant to do this, you must specify 'dtype=object' when creating the ndarray.\n",
      "C:\\Users\\88690\\anaconda3\\lib\\site-packages\\numpy\\core\\_asarray.py:102: VisibleDeprecationWarning: Creating an ndarray from ragged nested sequences (which is a list-or-tuple of lists-or-tuples-or ndarrays with different lengths or shapes) is deprecated. If you meant to do this, you must specify 'dtype=object' when creating the ndarray.\n",
      "  return array(a, dtype, copy=False, order=order)\n",
      "<__array_function__ internals>:5: VisibleDeprecationWarning: Creating an ndarray from ragged nested sequences (which is a list-or-tuple of lists-or-tuples-or ndarrays with different lengths or shapes) is deprecated. If you meant to do this, you must specify 'dtype=object' when creating the ndarray.\n",
      "C:\\Users\\88690\\anaconda3\\lib\\site-packages\\numpy\\core\\_asarray.py:102: VisibleDeprecationWarning: Creating an ndarray from ragged nested sequences (which is a list-or-tuple of lists-or-tuples-or ndarrays with different lengths or shapes) is deprecated. If you meant to do this, you must specify 'dtype=object' when creating the ndarray.\n",
      "  return array(a, dtype, copy=False, order=order)\n",
      "<__array_function__ internals>:5: VisibleDeprecationWarning: Creating an ndarray from ragged nested sequences (which is a list-or-tuple of lists-or-tuples-or ndarrays with different lengths or shapes) is deprecated. If you meant to do this, you must specify 'dtype=object' when creating the ndarray.\n",
      "C:\\Users\\88690\\anaconda3\\lib\\site-packages\\numpy\\core\\_asarray.py:102: VisibleDeprecationWarning: Creating an ndarray from ragged nested sequences (which is a list-or-tuple of lists-or-tuples-or ndarrays with different lengths or shapes) is deprecated. If you meant to do this, you must specify 'dtype=object' when creating the ndarray.\n",
      "  return array(a, dtype, copy=False, order=order)\n",
      "<__array_function__ internals>:5: VisibleDeprecationWarning: Creating an ndarray from ragged nested sequences (which is a list-or-tuple of lists-or-tuples-or ndarrays with different lengths or shapes) is deprecated. If you meant to do this, you must specify 'dtype=object' when creating the ndarray.\n",
      "C:\\Users\\88690\\anaconda3\\lib\\site-packages\\numpy\\core\\_asarray.py:102: VisibleDeprecationWarning: Creating an ndarray from ragged nested sequences (which is a list-or-tuple of lists-or-tuples-or ndarrays with different lengths or shapes) is deprecated. If you meant to do this, you must specify 'dtype=object' when creating the ndarray.\n",
      "  return array(a, dtype, copy=False, order=order)\n",
      "<__array_function__ internals>:5: VisibleDeprecationWarning: Creating an ndarray from ragged nested sequences (which is a list-or-tuple of lists-or-tuples-or ndarrays with different lengths or shapes) is deprecated. If you meant to do this, you must specify 'dtype=object' when creating the ndarray.\n",
      "C:\\Users\\88690\\anaconda3\\lib\\site-packages\\numpy\\core\\_asarray.py:102: VisibleDeprecationWarning: Creating an ndarray from ragged nested sequences (which is a list-or-tuple of lists-or-tuples-or ndarrays with different lengths or shapes) is deprecated. If you meant to do this, you must specify 'dtype=object' when creating the ndarray.\n",
      "  return array(a, dtype, copy=False, order=order)\n",
      "<__array_function__ internals>:5: VisibleDeprecationWarning: Creating an ndarray from ragged nested sequences (which is a list-or-tuple of lists-or-tuples-or ndarrays with different lengths or shapes) is deprecated. If you meant to do this, you must specify 'dtype=object' when creating the ndarray.\n",
      "C:\\Users\\88690\\anaconda3\\lib\\site-packages\\numpy\\core\\_asarray.py:102: VisibleDeprecationWarning: Creating an ndarray from ragged nested sequences (which is a list-or-tuple of lists-or-tuples-or ndarrays with different lengths or shapes) is deprecated. If you meant to do this, you must specify 'dtype=object' when creating the ndarray.\n",
      "  return array(a, dtype, copy=False, order=order)\n",
      "<__array_function__ internals>:5: VisibleDeprecationWarning: Creating an ndarray from ragged nested sequences (which is a list-or-tuple of lists-or-tuples-or ndarrays with different lengths or shapes) is deprecated. If you meant to do this, you must specify 'dtype=object' when creating the ndarray.\n",
      "C:\\Users\\88690\\anaconda3\\lib\\site-packages\\numpy\\core\\_asarray.py:102: VisibleDeprecationWarning: Creating an ndarray from ragged nested sequences (which is a list-or-tuple of lists-or-tuples-or ndarrays with different lengths or shapes) is deprecated. If you meant to do this, you must specify 'dtype=object' when creating the ndarray.\n",
      "  return array(a, dtype, copy=False, order=order)\n",
      "<__array_function__ internals>:5: VisibleDeprecationWarning: Creating an ndarray from ragged nested sequences (which is a list-or-tuple of lists-or-tuples-or ndarrays with different lengths or shapes) is deprecated. If you meant to do this, you must specify 'dtype=object' when creating the ndarray.\n",
      "C:\\Users\\88690\\anaconda3\\lib\\site-packages\\numpy\\core\\_asarray.py:102: VisibleDeprecationWarning: Creating an ndarray from ragged nested sequences (which is a list-or-tuple of lists-or-tuples-or ndarrays with different lengths or shapes) is deprecated. If you meant to do this, you must specify 'dtype=object' when creating the ndarray.\n",
      "  return array(a, dtype, copy=False, order=order)\n",
      "<__array_function__ internals>:5: VisibleDeprecationWarning: Creating an ndarray from ragged nested sequences (which is a list-or-tuple of lists-or-tuples-or ndarrays with different lengths or shapes) is deprecated. If you meant to do this, you must specify 'dtype=object' when creating the ndarray.\n"
     ]
    },
    {
     "name": "stderr",
     "output_type": "stream",
     "text": [
      "C:\\Users\\88690\\anaconda3\\lib\\site-packages\\numpy\\core\\_asarray.py:102: VisibleDeprecationWarning: Creating an ndarray from ragged nested sequences (which is a list-or-tuple of lists-or-tuples-or ndarrays with different lengths or shapes) is deprecated. If you meant to do this, you must specify 'dtype=object' when creating the ndarray.\n",
      "  return array(a, dtype, copy=False, order=order)\n",
      "<__array_function__ internals>:5: VisibleDeprecationWarning: Creating an ndarray from ragged nested sequences (which is a list-or-tuple of lists-or-tuples-or ndarrays with different lengths or shapes) is deprecated. If you meant to do this, you must specify 'dtype=object' when creating the ndarray.\n",
      "C:\\Users\\88690\\anaconda3\\lib\\site-packages\\numpy\\core\\_asarray.py:102: VisibleDeprecationWarning: Creating an ndarray from ragged nested sequences (which is a list-or-tuple of lists-or-tuples-or ndarrays with different lengths or shapes) is deprecated. If you meant to do this, you must specify 'dtype=object' when creating the ndarray.\n",
      "  return array(a, dtype, copy=False, order=order)\n",
      "<__array_function__ internals>:5: VisibleDeprecationWarning: Creating an ndarray from ragged nested sequences (which is a list-or-tuple of lists-or-tuples-or ndarrays with different lengths or shapes) is deprecated. If you meant to do this, you must specify 'dtype=object' when creating the ndarray.\n",
      "C:\\Users\\88690\\anaconda3\\lib\\site-packages\\numpy\\core\\_asarray.py:102: VisibleDeprecationWarning: Creating an ndarray from ragged nested sequences (which is a list-or-tuple of lists-or-tuples-or ndarrays with different lengths or shapes) is deprecated. If you meant to do this, you must specify 'dtype=object' when creating the ndarray.\n",
      "  return array(a, dtype, copy=False, order=order)\n",
      "<__array_function__ internals>:5: VisibleDeprecationWarning: Creating an ndarray from ragged nested sequences (which is a list-or-tuple of lists-or-tuples-or ndarrays with different lengths or shapes) is deprecated. If you meant to do this, you must specify 'dtype=object' when creating the ndarray.\n",
      "C:\\Users\\88690\\anaconda3\\lib\\site-packages\\numpy\\core\\_asarray.py:102: VisibleDeprecationWarning: Creating an ndarray from ragged nested sequences (which is a list-or-tuple of lists-or-tuples-or ndarrays with different lengths or shapes) is deprecated. If you meant to do this, you must specify 'dtype=object' when creating the ndarray.\n",
      "  return array(a, dtype, copy=False, order=order)\n",
      "<__array_function__ internals>:5: VisibleDeprecationWarning: Creating an ndarray from ragged nested sequences (which is a list-or-tuple of lists-or-tuples-or ndarrays with different lengths or shapes) is deprecated. If you meant to do this, you must specify 'dtype=object' when creating the ndarray.\n",
      "C:\\Users\\88690\\anaconda3\\lib\\site-packages\\numpy\\core\\_asarray.py:102: VisibleDeprecationWarning: Creating an ndarray from ragged nested sequences (which is a list-or-tuple of lists-or-tuples-or ndarrays with different lengths or shapes) is deprecated. If you meant to do this, you must specify 'dtype=object' when creating the ndarray.\n",
      "  return array(a, dtype, copy=False, order=order)\n",
      "<__array_function__ internals>:5: VisibleDeprecationWarning: Creating an ndarray from ragged nested sequences (which is a list-or-tuple of lists-or-tuples-or ndarrays with different lengths or shapes) is deprecated. If you meant to do this, you must specify 'dtype=object' when creating the ndarray.\n",
      "C:\\Users\\88690\\anaconda3\\lib\\site-packages\\numpy\\core\\_asarray.py:102: VisibleDeprecationWarning: Creating an ndarray from ragged nested sequences (which is a list-or-tuple of lists-or-tuples-or ndarrays with different lengths or shapes) is deprecated. If you meant to do this, you must specify 'dtype=object' when creating the ndarray.\n",
      "  return array(a, dtype, copy=False, order=order)\n",
      "<__array_function__ internals>:5: VisibleDeprecationWarning: Creating an ndarray from ragged nested sequences (which is a list-or-tuple of lists-or-tuples-or ndarrays with different lengths or shapes) is deprecated. If you meant to do this, you must specify 'dtype=object' when creating the ndarray.\n",
      "C:\\Users\\88690\\anaconda3\\lib\\site-packages\\numpy\\core\\_asarray.py:102: VisibleDeprecationWarning: Creating an ndarray from ragged nested sequences (which is a list-or-tuple of lists-or-tuples-or ndarrays with different lengths or shapes) is deprecated. If you meant to do this, you must specify 'dtype=object' when creating the ndarray.\n",
      "  return array(a, dtype, copy=False, order=order)\n",
      "<__array_function__ internals>:5: VisibleDeprecationWarning: Creating an ndarray from ragged nested sequences (which is a list-or-tuple of lists-or-tuples-or ndarrays with different lengths or shapes) is deprecated. If you meant to do this, you must specify 'dtype=object' when creating the ndarray.\n",
      "C:\\Users\\88690\\anaconda3\\lib\\site-packages\\numpy\\core\\_asarray.py:102: VisibleDeprecationWarning: Creating an ndarray from ragged nested sequences (which is a list-or-tuple of lists-or-tuples-or ndarrays with different lengths or shapes) is deprecated. If you meant to do this, you must specify 'dtype=object' when creating the ndarray.\n",
      "  return array(a, dtype, copy=False, order=order)\n",
      "<__array_function__ internals>:5: VisibleDeprecationWarning: Creating an ndarray from ragged nested sequences (which is a list-or-tuple of lists-or-tuples-or ndarrays with different lengths or shapes) is deprecated. If you meant to do this, you must specify 'dtype=object' when creating the ndarray.\n",
      "C:\\Users\\88690\\anaconda3\\lib\\site-packages\\numpy\\core\\_asarray.py:102: VisibleDeprecationWarning: Creating an ndarray from ragged nested sequences (which is a list-or-tuple of lists-or-tuples-or ndarrays with different lengths or shapes) is deprecated. If you meant to do this, you must specify 'dtype=object' when creating the ndarray.\n",
      "  return array(a, dtype, copy=False, order=order)\n",
      "<__array_function__ internals>:5: VisibleDeprecationWarning: Creating an ndarray from ragged nested sequences (which is a list-or-tuple of lists-or-tuples-or ndarrays with different lengths or shapes) is deprecated. If you meant to do this, you must specify 'dtype=object' when creating the ndarray.\n",
      "C:\\Users\\88690\\anaconda3\\lib\\site-packages\\numpy\\core\\_asarray.py:102: VisibleDeprecationWarning: Creating an ndarray from ragged nested sequences (which is a list-or-tuple of lists-or-tuples-or ndarrays with different lengths or shapes) is deprecated. If you meant to do this, you must specify 'dtype=object' when creating the ndarray.\n",
      "  return array(a, dtype, copy=False, order=order)\n",
      "<__array_function__ internals>:5: VisibleDeprecationWarning: Creating an ndarray from ragged nested sequences (which is a list-or-tuple of lists-or-tuples-or ndarrays with different lengths or shapes) is deprecated. If you meant to do this, you must specify 'dtype=object' when creating the ndarray.\n",
      "C:\\Users\\88690\\anaconda3\\lib\\site-packages\\numpy\\core\\_asarray.py:102: VisibleDeprecationWarning: Creating an ndarray from ragged nested sequences (which is a list-or-tuple of lists-or-tuples-or ndarrays with different lengths or shapes) is deprecated. If you meant to do this, you must specify 'dtype=object' when creating the ndarray.\n",
      "  return array(a, dtype, copy=False, order=order)\n",
      "<__array_function__ internals>:5: VisibleDeprecationWarning: Creating an ndarray from ragged nested sequences (which is a list-or-tuple of lists-or-tuples-or ndarrays with different lengths or shapes) is deprecated. If you meant to do this, you must specify 'dtype=object' when creating the ndarray.\n",
      "C:\\Users\\88690\\anaconda3\\lib\\site-packages\\numpy\\core\\_asarray.py:102: VisibleDeprecationWarning: Creating an ndarray from ragged nested sequences (which is a list-or-tuple of lists-or-tuples-or ndarrays with different lengths or shapes) is deprecated. If you meant to do this, you must specify 'dtype=object' when creating the ndarray.\n",
      "  return array(a, dtype, copy=False, order=order)\n",
      "<__array_function__ internals>:5: VisibleDeprecationWarning: Creating an ndarray from ragged nested sequences (which is a list-or-tuple of lists-or-tuples-or ndarrays with different lengths or shapes) is deprecated. If you meant to do this, you must specify 'dtype=object' when creating the ndarray.\n"
     ]
    },
    {
     "name": "stderr",
     "output_type": "stream",
     "text": [
      "C:\\Users\\88690\\anaconda3\\lib\\site-packages\\numpy\\core\\_asarray.py:102: VisibleDeprecationWarning: Creating an ndarray from ragged nested sequences (which is a list-or-tuple of lists-or-tuples-or ndarrays with different lengths or shapes) is deprecated. If you meant to do this, you must specify 'dtype=object' when creating the ndarray.\n",
      "  return array(a, dtype, copy=False, order=order)\n",
      "<__array_function__ internals>:5: VisibleDeprecationWarning: Creating an ndarray from ragged nested sequences (which is a list-or-tuple of lists-or-tuples-or ndarrays with different lengths or shapes) is deprecated. If you meant to do this, you must specify 'dtype=object' when creating the ndarray.\n",
      "C:\\Users\\88690\\anaconda3\\lib\\site-packages\\numpy\\core\\_asarray.py:102: VisibleDeprecationWarning: Creating an ndarray from ragged nested sequences (which is a list-or-tuple of lists-or-tuples-or ndarrays with different lengths or shapes) is deprecated. If you meant to do this, you must specify 'dtype=object' when creating the ndarray.\n",
      "  return array(a, dtype, copy=False, order=order)\n",
      "<__array_function__ internals>:5: VisibleDeprecationWarning: Creating an ndarray from ragged nested sequences (which is a list-or-tuple of lists-or-tuples-or ndarrays with different lengths or shapes) is deprecated. If you meant to do this, you must specify 'dtype=object' when creating the ndarray.\n",
      "C:\\Users\\88690\\anaconda3\\lib\\site-packages\\numpy\\core\\_asarray.py:102: VisibleDeprecationWarning: Creating an ndarray from ragged nested sequences (which is a list-or-tuple of lists-or-tuples-or ndarrays with different lengths or shapes) is deprecated. If you meant to do this, you must specify 'dtype=object' when creating the ndarray.\n",
      "  return array(a, dtype, copy=False, order=order)\n",
      "<__array_function__ internals>:5: VisibleDeprecationWarning: Creating an ndarray from ragged nested sequences (which is a list-or-tuple of lists-or-tuples-or ndarrays with different lengths or shapes) is deprecated. If you meant to do this, you must specify 'dtype=object' when creating the ndarray.\n"
     ]
    },
    {
     "name": "stdout",
     "output_type": "stream",
     "text": [
      "0.9066666666666666 100 0.01 0.2\n"
     ]
    }
   ],
   "source": [
    "# Firstly We should establish the list to select the parameters\n",
    "from prettytable import PrettyTable\n",
    "dim_choice=[100,200,300]\n",
    "lr_rate = [0.1,0.01,0.05]\n",
    "dropout_rate = [0.2,0.4,0.5]\n",
    "hyper_result = 0.0\n",
    "test_result = 0.0\n",
    "result = list()\n",
    "dim_his = []\n",
    "lr_his = []\n",
    "drop_his =[]\n",
    "for dim in range(len(dim_choice)):\n",
    "    for lr in range(len(lr_rate)):\n",
    "        for drop in range(len(dropout_rate)):\n",
    "            W = network_weights(vocab_size=len(train_voc_set),embedding_dim=dim_choice[dim],hidden_dim=[],\n",
    "                                num_classes=3, init_val = 0.1)\n",
    "            W, loss_tr, dev_loss = SGD(train_indices_x, Y_tr=train_y, W=W, X_dev=dev_indices_x, Y_dev=dev_y, lr=lr_rate[lr], \n",
    "                            dropout=dropout_rate[drop],\n",
    "                            freeze_emb=False,\n",
    "                            tolerance=0.0001,\n",
    "                            print_progress = False,\n",
    "                            epochs=40)\n",
    "            \n",
    "            preds_dev = [np.argmax(forward_pass(x, W, dropout_rate=0.0)['y']) for x,y in zip(dev_indices_x,dev_y)]\n",
    "            val_acc = accuracy_score(dev_y,preds_dev)\n",
    "            hyper_result = val_acc\n",
    "            \n",
    "            dim_his.append(dim_choice[dim])\n",
    "            lr_his.append(lr_rate[lr])\n",
    "            drop_his.append(dropout_rate[drop])\n",
    "            result.append(hyper_result)\n",
    "            ind = result.index(max(result))\n",
    "            #print(hyper_result,dim_choice[dim],lr_rate[lr],dropout_rate[drop])\n",
    "print(max(result),dim_his[ind],lr_his[ind],drop_his[ind])\n",
    "\n",
    "            "
   ]
  },
  {
   "cell_type": "code",
   "execution_count": 36,
   "metadata": {
    "scrolled": true
   },
   "outputs": [
    {
     "name": "stdout",
     "output_type": "stream",
     "text": [
      "+--------------------+---------------+---------+--------------+\n",
      "|      Accuracy      | embedding_dim | lr_rate | dropout_rate |\n",
      "+--------------------+---------------+---------+--------------+\n",
      "|        0.86        |      100      |   0.1   |     0.2      |\n",
      "| 0.8733333333333333 |      100      |   0.1   |     0.4      |\n",
      "| 0.8666666666666667 |      100      |   0.1   |     0.5      |\n",
      "| 0.9066666666666666 |      100      |   0.01  |     0.2      |\n",
      "| 0.9066666666666666 |      100      |   0.01  |     0.4      |\n",
      "|        0.9         |      100      |   0.01  |     0.5      |\n",
      "|        0.88        |      100      |   0.05  |     0.2      |\n",
      "|        0.88        |      100      |   0.05  |     0.4      |\n",
      "|        0.88        |      100      |   0.05  |     0.5      |\n",
      "| 0.8666666666666667 |      200      |   0.1   |     0.2      |\n",
      "| 0.8666666666666667 |      200      |   0.1   |     0.4      |\n",
      "| 0.8666666666666667 |      200      |   0.1   |     0.5      |\n",
      "|        0.9         |      200      |   0.01  |     0.2      |\n",
      "|        0.9         |      200      |   0.01  |     0.4      |\n",
      "|        0.9         |      200      |   0.01  |     0.5      |\n",
      "|        0.88        |      200      |   0.05  |     0.2      |\n",
      "| 0.8733333333333333 |      200      |   0.05  |     0.4      |\n",
      "| 0.8733333333333333 |      200      |   0.05  |     0.5      |\n",
      "|        0.88        |      300      |   0.1   |     0.2      |\n",
      "| 0.8733333333333333 |      300      |   0.1   |     0.4      |\n",
      "| 0.8666666666666667 |      300      |   0.1   |     0.5      |\n",
      "| 0.9066666666666666 |      300      |   0.01  |     0.2      |\n",
      "|        0.9         |      300      |   0.01  |     0.4      |\n",
      "|        0.9         |      300      |   0.01  |     0.5      |\n",
      "| 0.8733333333333333 |      300      |   0.05  |     0.2      |\n",
      "| 0.8733333333333333 |      300      |   0.05  |     0.4      |\n",
      "| 0.8733333333333333 |      300      |   0.05  |     0.5      |\n",
      "+--------------------+---------------+---------+--------------+\n"
     ]
    }
   ],
   "source": [
    "#print the table of all combinations of parameters\n",
    "average_Table = PrettyTable([\"Accuracy\", \"embedding_dim\", \"lr_rate\", \"dropout_rate\"])\n",
    "for i in range(len(dim_his)):\n",
    "    average_Table.add_row([result[i],dim_his[i],lr_his[i],drop_his[i]])\n",
    "print(average_Table)"
   ]
  },
  {
   "cell_type": "code",
   "execution_count": 37,
   "metadata": {
    "scrolled": true
   },
   "outputs": [
    {
     "name": "stdout",
     "output_type": "stream",
     "text": [
      "Shape W0 (8596, 100)\n",
      "Shape W1 (100, 3)\n"
     ]
    },
    {
     "name": "stderr",
     "output_type": "stream",
     "text": [
      "C:\\Users\\88690\\anaconda3\\lib\\site-packages\\numpy\\core\\_asarray.py:102: VisibleDeprecationWarning: Creating an ndarray from ragged nested sequences (which is a list-or-tuple of lists-or-tuples-or ndarrays with different lengths or shapes) is deprecated. If you meant to do this, you must specify 'dtype=object' when creating the ndarray.\n",
      "  return array(a, dtype, copy=False, order=order)\n",
      "<__array_function__ internals>:5: VisibleDeprecationWarning: Creating an ndarray from ragged nested sequences (which is a list-or-tuple of lists-or-tuples-or ndarrays with different lengths or shapes) is deprecated. If you meant to do this, you must specify 'dtype=object' when creating the ndarray.\n"
     ]
    },
    {
     "name": "stdout",
     "output_type": "stream",
     "text": [
      "Epoch: 0 | Train loss: 0.833613623346814 | Dev loss: 0.9172314271345692\n",
      "Epoch: 1 | Train loss: 0.5512914197943662 | Dev loss: 0.7322137658770415\n",
      "Epoch: 2 | Train loss: 0.3824599376884296 | Dev loss: 0.579509193229953\n",
      "Epoch: 3 | Train loss: 0.2846680887232459 | Dev loss: 0.4690013294506205\n",
      "Epoch: 4 | Train loss: 0.2195480016411855 | Dev loss: 0.39438316735393014\n",
      "Epoch: 5 | Train loss: 0.1800823835782518 | Dev loss: 0.3478466127166421\n",
      "Epoch: 6 | Train loss: 0.14267929922263262 | Dev loss: 0.3075578702753906\n",
      "Epoch: 7 | Train loss: 0.12103407477957144 | Dev loss: 0.28249562351898727\n",
      "Epoch: 8 | Train loss: 0.10464657462048903 | Dev loss: 0.2623317791979432\n",
      "Epoch: 9 | Train loss: 0.08693565806233489 | Dev loss: 0.23934244895613654\n",
      "Epoch: 10 | Train loss: 0.07791770831683326 | Dev loss: 0.2288314943679956\n",
      "Epoch: 11 | Train loss: 0.06790316808552149 | Dev loss: 0.21547700436962772\n",
      "Epoch: 12 | Train loss: 0.05872766716197998 | Dev loss: 0.20271613034489167\n",
      "Epoch: 13 | Train loss: 0.052376274144812066 | Dev loss: 0.1942065025664117\n",
      "Epoch: 14 | Train loss: 0.04665379613784478 | Dev loss: 0.18592935676315844\n",
      "Epoch: 15 | Train loss: 0.04374028259554066 | Dev loss: 0.18070151544394183\n",
      "Epoch: 16 | Train loss: 0.03925018247002219 | Dev loss: 0.1737691841852857\n",
      "Epoch: 17 | Train loss: 0.03538080419681147 | Dev loss: 0.16732410615845175\n",
      "Epoch: 18 | Train loss: 0.03345895099888306 | Dev loss: 0.16316537247386348\n",
      "Epoch: 19 | Train loss: 0.029633603023067927 | Dev loss: 0.15698811209592228\n",
      "Epoch: 20 | Train loss: 0.02596145063995071 | Dev loss: 0.15110486829720166\n",
      "Epoch: 21 | Train loss: 0.025381181113269265 | Dev loss: 0.14860677166407377\n",
      "Epoch: 22 | Train loss: 0.023663868460331406 | Dev loss: 0.14517510626567864\n",
      "Epoch: 23 | Train loss: 0.022556321631165464 | Dev loss: 0.14266734016664387\n",
      "Epoch: 24 | Train loss: 0.020146421466458286 | Dev loss: 0.13814256247769385\n",
      "Epoch: 25 | Train loss: 0.018974656899001005 | Dev loss: 0.13548907086001058\n",
      "Epoch: 26 | Train loss: 0.01888792805459749 | Dev loss: 0.1337659123164367\n",
      "Epoch: 27 | Train loss: 0.01793228750409827 | Dev loss: 0.13089520701753513\n",
      "Epoch: 28 | Train loss: 0.016882155508519 | Dev loss: 0.12864175237892583\n",
      "Epoch: 29 | Train loss: 0.014841590770066073 | Dev loss: 0.12515937028109655\n",
      "Epoch: 30 | Train loss: 0.01450500164973116 | Dev loss: 0.12353257835579357\n",
      "Epoch: 31 | Train loss: 0.01404859521358293 | Dev loss: 0.1221155667974891\n",
      "Epoch: 32 | Train loss: 0.013770243651286887 | Dev loss: 0.12117907629638405\n",
      "Epoch: 33 | Train loss: 0.013121867136582699 | Dev loss: 0.11911949076395034\n",
      "Epoch: 34 | Train loss: 0.012426864118531673 | Dev loss: 0.11718695111438701\n",
      "Epoch: 35 | Train loss: 0.011887368675239717 | Dev loss: 0.1159446501311931\n",
      "Epoch: 36 | Train loss: 0.01131361540236709 | Dev loss: 0.11438636139836725\n",
      "Epoch: 37 | Train loss: 0.01251634077227786 | Dev loss: 0.11529423448019652\n",
      "Epoch: 38 | Train loss: 0.010710930632041826 | Dev loss: 0.11188194410960613\n",
      "Epoch: 39 | Train loss: 0.010542647645516968 | Dev loss: 0.11125707004371539\n"
     ]
    }
   ],
   "source": [
    "#use best parameters to train model\n",
    "W = network_weights(vocab_size=len(train_voc_set),embedding_dim=dim_his[ind],hidden_dim=[], num_classes=3)\n",
    "\n",
    "for i in range(len(W)):\n",
    "    print('Shape W'+str(i), W[i].shape)\n",
    "\n",
    "W, loss_tr, dev_loss = SGD(train_indices_x, Y_tr=train_y,\n",
    "                            W=W,\n",
    "                            X_dev=dev_indices_x, \n",
    "                            Y_dev=dev_y,\n",
    "                            lr=lr_his[ind], \n",
    "                            dropout=drop_his[ind],\n",
    "                            freeze_emb=False,\n",
    "                            tolerance=0.0001,\n",
    "                            epochs=40)"
   ]
  },
  {
   "cell_type": "code",
   "execution_count": 38,
   "metadata": {
    "scrolled": true
   },
   "outputs": [
    {
     "data": {
      "image/png": "[encoded data removed]",
      "text/plain": [
       "<Figure size 432x288 with 1 Axes>"
      ]
     },
     "metadata": {
      "needs_background": "light"
     },
     "output_type": "display_data"
    }
   ],
   "source": [
    "#plot the training loss and val loss with using best parameters\n",
    "x = np.linspace(0,len(loss_tr),len(loss_tr))\n",
    "y1, y2 = loss_tr, dev_loss\n",
    " \n",
    "plt.plot(x, y1,label='Training loss')\n",
    "plt.plot(x, y2, label='Validation loss')\n",
    " \n",
    "plt.title('Training Monitoring')\n",
    "plt.xlabel('Epochs')\n",
    "plt.ylabel('Loss')\n",
    "plt.legend() \n",
    "plt.show()"
   ]
  },
  {
   "cell_type": "markdown",
   "metadata": {},
   "source": [
    "This model is well, neither overfitting nor underfitting. Could increase epochs to train more times"
   ]
  },
  {
   "cell_type": "code",
   "execution_count": 39,
   "metadata": {},
   "outputs": [
    {
     "name": "stdout",
     "output_type": "stream",
     "text": [
      "Accuracy: 0.8588888888888889\n",
      "Precision: 0.8619866910203213\n",
      "Recall: 0.8588888888888889\n",
      "F1-Score: 0.8585911905628026\n"
     ]
    }
   ],
   "source": [
    "#print the evaluation\n",
    "preds_te = [np.argmax(forward_pass(x, W, dropout_rate=0.0)['y']) \n",
    "            for x,y in zip(test_indices_x,test_y)]\n",
    "\n",
    "print('Accuracy:', accuracy_score(test_y,preds_te))\n",
    "print('Precision:', precision_score(test_y,preds_te,average='macro'))\n",
    "print('Recall:', recall_score(test_y,preds_te,average='macro'))\n",
    "print('F1-Score:', f1_score(test_y,preds_te,average='macro'))"
   ]
  },
  {
   "cell_type": "markdown",
   "metadata": {},
   "source": [
    "We could find out that accuracy is a little bit lower than the previous one which the parameters chosen randomly. The reason is that there are many same accuracy when we use validation to find the best parameters, and we choose randomly from one of the sets of the parameters. "
   ]
  },
  {
   "cell_type": "markdown",
   "metadata": {},
   "source": [
    "# Use Pre-trained Embeddings\n",
    "\n",
    "Now re-train the network using GloVe pre-trained embeddings. You need to modify the `backward_pass` function above to stop computing gradients and updating weights of the embedding matrix.\n",
    "\n",
    "Use the function below to obtain the embedding martix for your vocabulary. Generally, that should work without any problem. If you get errors, you can modify it."
   ]
  },
  {
   "cell_type": "code",
   "execution_count": 40,
   "metadata": {
    "ExecuteTime": {
     "end_time": "2020-04-02T14:27:32.020697Z",
     "start_time": "2020-04-02T14:27:32.015733Z"
    },
    "scrolled": true
   },
   "outputs": [],
   "source": [
    "def get_glove_embeddings(f_zip, f_txt, word2id, emb_size=300):\n",
    "    \n",
    "    w_emb = np.zeros((len(word2id), emb_size))\n",
    "    \n",
    "    with zipfile.ZipFile(f_zip) as z:\n",
    "        with z.open(f_txt) as f:\n",
    "            for line in f:\n",
    "                line = line.decode('utf-8')\n",
    "                word = line.split()[0]\n",
    "                     \n",
    "                if word in train_voc_set:\n",
    "                    emb = np.array(line.strip('\\n').split()[1:]).astype(np.float32)\n",
    "                    w_emb[word2id[word]] +=emb\n",
    "    return w_emb"
   ]
  },
  {
   "cell_type": "code",
   "execution_count": 41,
   "metadata": {
    "ExecuteTime": {
     "end_time": "2020-04-02T14:28:54.548613Z",
     "start_time": "2020-04-02T14:27:32.780248Z"
    },
    "scrolled": true
   },
   "outputs": [],
   "source": [
    "w_glove = get_glove_embeddings(\"glove.840B.300d.zip\",\"glove.840B.300d.txt\",word2voc_id)"
   ]
  },
  {
   "cell_type": "markdown",
   "metadata": {},
   "source": [
    "First, initialise the weights of your network using the `network_weights` function. Second, replace the weigths of the embedding matrix with `w_glove`. Finally, train the network by freezing the embedding weights: "
   ]
  },
  {
   "cell_type": "code",
   "execution_count": 42,
   "metadata": {
    "ExecuteTime": {
     "end_time": "2020-04-02T14:30:11.121198Z",
     "start_time": "2020-04-02T14:29:24.946124Z"
    },
    "scrolled": true
   },
   "outputs": [
    {
     "name": "stdout",
     "output_type": "stream",
     "text": [
      "Shape W0 (8596, 300)\n",
      "Shape W1 (300, 3)\n"
     ]
    },
    {
     "name": "stderr",
     "output_type": "stream",
     "text": [
      "C:\\Users\\88690\\anaconda3\\lib\\site-packages\\numpy\\core\\_asarray.py:102: VisibleDeprecationWarning: Creating an ndarray from ragged nested sequences (which is a list-or-tuple of lists-or-tuples-or ndarrays with different lengths or shapes) is deprecated. If you meant to do this, you must specify 'dtype=object' when creating the ndarray.\n",
      "  return array(a, dtype, copy=False, order=order)\n",
      "<__array_function__ internals>:5: VisibleDeprecationWarning: Creating an ndarray from ragged nested sequences (which is a list-or-tuple of lists-or-tuples-or ndarrays with different lengths or shapes) is deprecated. If you meant to do this, you must specify 'dtype=object' when creating the ndarray.\n"
     ]
    },
    {
     "name": "stdout",
     "output_type": "stream",
     "text": [
      "Epoch: 0 | Train loss: 0.9046048299881092 | Dev loss: 0.8721254910692425\n",
      "Epoch: 1 | Train loss: 0.8862225808382912 | Dev loss: 0.855000323019056\n",
      "Epoch: 2 | Train loss: 0.8624540794587242 | Dev loss: 0.8358953980042821\n",
      "Epoch: 3 | Train loss: 0.8272456805670378 | Dev loss: 0.8000549095154829\n",
      "Epoch: 4 | Train loss: 0.7997430045066902 | Dev loss: 0.7785728351115514\n",
      "Epoch: 5 | Train loss: 0.7692634053738563 | Dev loss: 0.7522427314756711\n",
      "Epoch: 6 | Train loss: 0.7313739775435604 | Dev loss: 0.7142393658895781\n",
      "Epoch: 7 | Train loss: 0.7004890602177151 | Dev loss: 0.6866705619824497\n",
      "Epoch: 8 | Train loss: 0.6792048702656869 | Dev loss: 0.6665691649869395\n",
      "Epoch: 9 | Train loss: 0.6528442550999817 | Dev loss: 0.6440841954963159\n",
      "Epoch: 10 | Train loss: 0.6391529304793625 | Dev loss: 0.632417938097807\n",
      "Epoch: 11 | Train loss: 0.6058533596235515 | Dev loss: 0.6006359834723779\n",
      "Epoch: 12 | Train loss: 0.590246720274034 | Dev loss: 0.5873136111516857\n",
      "Epoch: 13 | Train loss: 0.5755612689392734 | Dev loss: 0.573922717718161\n",
      "Epoch: 14 | Train loss: 0.5562470321908112 | Dev loss: 0.5553715905281894\n",
      "Epoch: 15 | Train loss: 0.5464131946607462 | Dev loss: 0.5463636181586466\n",
      "Epoch: 16 | Train loss: 0.530687390336449 | Dev loss: 0.5318988970992778\n",
      "Epoch: 17 | Train loss: 0.5177688927446815 | Dev loss: 0.5197873883545427\n",
      "Epoch: 18 | Train loss: 0.5027253888391399 | Dev loss: 0.5054135668747047\n",
      "Epoch: 19 | Train loss: 0.4927074132231418 | Dev loss: 0.4962087688284307\n",
      "Epoch: 20 | Train loss: 0.47367180764732986 | Dev loss: 0.477288283728706\n",
      "Epoch: 21 | Train loss: 0.4724499927799176 | Dev loss: 0.4773744357547745\n",
      "Epoch: 22 | Train loss: 0.4600470866711752 | Dev loss: 0.46546435837379685\n",
      "Epoch: 23 | Train loss: 0.45021780789256555 | Dev loss: 0.4564808884619283\n",
      "Epoch: 24 | Train loss: 0.4437543497718331 | Dev loss: 0.45099357239615623\n",
      "Epoch: 25 | Train loss: 0.4385598706597008 | Dev loss: 0.4466213489287666\n",
      "Epoch: 26 | Train loss: 0.42460242587879965 | Dev loss: 0.4328675199082131\n",
      "Epoch: 27 | Train loss: 0.415276878317907 | Dev loss: 0.4240795322146239\n",
      "Epoch: 28 | Train loss: 0.4066966670025119 | Dev loss: 0.4162951746104946\n",
      "Epoch: 29 | Train loss: 0.3972235128852697 | Dev loss: 0.4074858493915516\n",
      "Epoch: 30 | Train loss: 0.3977117372498145 | Dev loss: 0.40857030848187736\n",
      "Epoch: 31 | Train loss: 0.39377614990427595 | Dev loss: 0.4048270647898389\n",
      "Epoch: 32 | Train loss: 0.3865220174534164 | Dev loss: 0.39837284465703154\n",
      "Epoch: 33 | Train loss: 0.37651518523679245 | Dev loss: 0.38921604200474236\n",
      "Epoch: 34 | Train loss: 0.3704161475175133 | Dev loss: 0.3835637277811555\n",
      "Epoch: 35 | Train loss: 0.3664107434229715 | Dev loss: 0.37977361026211115\n",
      "Epoch: 36 | Train loss: 0.3628896374678813 | Dev loss: 0.37662909505554487\n",
      "Epoch: 37 | Train loss: 0.35940595432491285 | Dev loss: 0.3734375087756167\n",
      "Epoch: 38 | Train loss: 0.35380339072031114 | Dev loss: 0.3680900571375068\n",
      "Epoch: 39 | Train loss: 0.3540675239440727 | Dev loss: 0.3686796278039888\n"
     ]
    }
   ],
   "source": [
    "W = network_weights(vocab_size=len(train_voc_set),embedding_dim=300,hidden_dim=[], num_classes=3, init_val = 0.5)\n",
    "\n",
    "W[0] = w_glove\n",
    "\n",
    "for i in range(len(W)):\n",
    "    print('Shape W'+str(i), W[i].shape)\n",
    "\n",
    "W, loss_tr, dev_loss = SGD(train_indices_x, Y_tr=train_y,\n",
    "                            W=W,\n",
    "                            X_dev=dev_indices_x, \n",
    "                            Y_dev=dev_y,\n",
    "                            lr=0.001, \n",
    "                            dropout=0.4,\n",
    "                            freeze_emb=True,\n",
    "                            tolerance=0.0001,\n",
    "                            epochs=40)"
   ]
  },
  {
   "cell_type": "code",
   "execution_count": 43,
   "metadata": {
    "ExecuteTime": {
     "end_time": "2020-04-02T15:12:00.815184Z",
     "start_time": "2020-04-02T15:12:00.812563Z"
    },
    "scrolled": true
   },
   "outputs": [
    {
     "name": "stdout",
     "output_type": "stream",
     "text": [
      "Accuracy: 0.8722222222222222\n",
      "Precision: 0.876346747104667\n",
      "Recall: 0.8722222222222222\n",
      "F1-Score: 0.8722686884733996\n"
     ]
    }
   ],
   "source": [
    "preds_te = [np.argmax(forward_pass(x, W, dropout_rate=0.0)['y']) \n",
    "            for x,y in zip(test_indices_x,test_y)]\n",
    "\n",
    "print('Accuracy:', accuracy_score(test_y,preds_te))\n",
    "print('Precision:', precision_score(test_y,preds_te,average='macro'))\n",
    "print('Recall:', recall_score(test_y,preds_te,average='macro'))\n",
    "print('F1-Score:', f1_score(test_y,preds_te,average='macro'))"
   ]
  },
  {
   "cell_type": "code",
   "execution_count": 44,
   "metadata": {
    "scrolled": false
   },
   "outputs": [
    {
     "data": {
      "image/png": "[encoded data removed]",
      "text/plain": [
       "<Figure size 432x288 with 1 Axes>"
      ]
     },
     "metadata": {
      "needs_background": "light"
     },
     "output_type": "display_data"
    }
   ],
   "source": [
    "# Now we could plot result of the training \n",
    "x = np.linspace(0,len(loss_tr),len(loss_tr))\n",
    "y1, y2 = loss_tr, dev_loss\n",
    "\n",
    "plt.plot(x, y1,label='Training loss')\n",
    "plt.plot(x, y2, label='Validation loss')\n",
    " \n",
    "plt.title('Plot Result')\n",
    "plt.xlabel('Epochs')\n",
    "plt.ylabel('Loss')\n",
    "plt.legend() \n",
    "plt.show()"
   ]
  },
  {
   "cell_type": "markdown",
   "metadata": {},
   "source": [
    "Two loss lines are quire close, it a little bit overfitting. Guessing the reason is we choose parameters manually. Below, we will use validation set to find out the best set of parameters."
   ]
  },
  {
   "cell_type": "markdown",
   "metadata": {},
   "source": [
    "### Discuss how did you choose model hyperparameters ? "
   ]
  },
  {
   "cell_type": "code",
   "execution_count": 45,
   "metadata": {
    "scrolled": true
   },
   "outputs": [
    {
     "name": "stderr",
     "output_type": "stream",
     "text": [
      "C:\\Users\\88690\\anaconda3\\lib\\site-packages\\numpy\\core\\_asarray.py:102: VisibleDeprecationWarning: Creating an ndarray from ragged nested sequences (which is a list-or-tuple of lists-or-tuples-or ndarrays with different lengths or shapes) is deprecated. If you meant to do this, you must specify 'dtype=object' when creating the ndarray.\n",
      "  return array(a, dtype, copy=False, order=order)\n",
      "<__array_function__ internals>:5: VisibleDeprecationWarning: Creating an ndarray from ragged nested sequences (which is a list-or-tuple of lists-or-tuples-or ndarrays with different lengths or shapes) is deprecated. If you meant to do this, you must specify 'dtype=object' when creating the ndarray.\n",
      "C:\\Users\\88690\\anaconda3\\lib\\site-packages\\numpy\\core\\_asarray.py:102: VisibleDeprecationWarning: Creating an ndarray from ragged nested sequences (which is a list-or-tuple of lists-or-tuples-or ndarrays with different lengths or shapes) is deprecated. If you meant to do this, you must specify 'dtype=object' when creating the ndarray.\n",
      "  return array(a, dtype, copy=False, order=order)\n",
      "<__array_function__ internals>:5: VisibleDeprecationWarning: Creating an ndarray from ragged nested sequences (which is a list-or-tuple of lists-or-tuples-or ndarrays with different lengths or shapes) is deprecated. If you meant to do this, you must specify 'dtype=object' when creating the ndarray.\n",
      "C:\\Users\\88690\\anaconda3\\lib\\site-packages\\numpy\\core\\_asarray.py:102: VisibleDeprecationWarning: Creating an ndarray from ragged nested sequences (which is a list-or-tuple of lists-or-tuples-or ndarrays with different lengths or shapes) is deprecated. If you meant to do this, you must specify 'dtype=object' when creating the ndarray.\n",
      "  return array(a, dtype, copy=False, order=order)\n",
      "<__array_function__ internals>:5: VisibleDeprecationWarning: Creating an ndarray from ragged nested sequences (which is a list-or-tuple of lists-or-tuples-or ndarrays with different lengths or shapes) is deprecated. If you meant to do this, you must specify 'dtype=object' when creating the ndarray.\n",
      "C:\\Users\\88690\\anaconda3\\lib\\site-packages\\numpy\\core\\_asarray.py:102: VisibleDeprecationWarning: Creating an ndarray from ragged nested sequences (which is a list-or-tuple of lists-or-tuples-or ndarrays with different lengths or shapes) is deprecated. If you meant to do this, you must specify 'dtype=object' when creating the ndarray.\n",
      "  return array(a, dtype, copy=False, order=order)\n",
      "<__array_function__ internals>:5: VisibleDeprecationWarning: Creating an ndarray from ragged nested sequences (which is a list-or-tuple of lists-or-tuples-or ndarrays with different lengths or shapes) is deprecated. If you meant to do this, you must specify 'dtype=object' when creating the ndarray.\n",
      "C:\\Users\\88690\\anaconda3\\lib\\site-packages\\numpy\\core\\_asarray.py:102: VisibleDeprecationWarning: Creating an ndarray from ragged nested sequences (which is a list-or-tuple of lists-or-tuples-or ndarrays with different lengths or shapes) is deprecated. If you meant to do this, you must specify 'dtype=object' when creating the ndarray.\n",
      "  return array(a, dtype, copy=False, order=order)\n",
      "<__array_function__ internals>:5: VisibleDeprecationWarning: Creating an ndarray from ragged nested sequences (which is a list-or-tuple of lists-or-tuples-or ndarrays with different lengths or shapes) is deprecated. If you meant to do this, you must specify 'dtype=object' when creating the ndarray.\n",
      "C:\\Users\\88690\\anaconda3\\lib\\site-packages\\numpy\\core\\_asarray.py:102: VisibleDeprecationWarning: Creating an ndarray from ragged nested sequences (which is a list-or-tuple of lists-or-tuples-or ndarrays with different lengths or shapes) is deprecated. If you meant to do this, you must specify 'dtype=object' when creating the ndarray.\n",
      "  return array(a, dtype, copy=False, order=order)\n",
      "<__array_function__ internals>:5: VisibleDeprecationWarning: Creating an ndarray from ragged nested sequences (which is a list-or-tuple of lists-or-tuples-or ndarrays with different lengths or shapes) is deprecated. If you meant to do this, you must specify 'dtype=object' when creating the ndarray.\n",
      "C:\\Users\\88690\\anaconda3\\lib\\site-packages\\numpy\\core\\_asarray.py:102: VisibleDeprecationWarning: Creating an ndarray from ragged nested sequences (which is a list-or-tuple of lists-or-tuples-or ndarrays with different lengths or shapes) is deprecated. If you meant to do this, you must specify 'dtype=object' when creating the ndarray.\n",
      "  return array(a, dtype, copy=False, order=order)\n",
      "<__array_function__ internals>:5: VisibleDeprecationWarning: Creating an ndarray from ragged nested sequences (which is a list-or-tuple of lists-or-tuples-or ndarrays with different lengths or shapes) is deprecated. If you meant to do this, you must specify 'dtype=object' when creating the ndarray.\n",
      "C:\\Users\\88690\\anaconda3\\lib\\site-packages\\numpy\\core\\_asarray.py:102: VisibleDeprecationWarning: Creating an ndarray from ragged nested sequences (which is a list-or-tuple of lists-or-tuples-or ndarrays with different lengths or shapes) is deprecated. If you meant to do this, you must specify 'dtype=object' when creating the ndarray.\n",
      "  return array(a, dtype, copy=False, order=order)\n",
      "<__array_function__ internals>:5: VisibleDeprecationWarning: Creating an ndarray from ragged nested sequences (which is a list-or-tuple of lists-or-tuples-or ndarrays with different lengths or shapes) is deprecated. If you meant to do this, you must specify 'dtype=object' when creating the ndarray.\n",
      "C:\\Users\\88690\\anaconda3\\lib\\site-packages\\numpy\\core\\_asarray.py:102: VisibleDeprecationWarning: Creating an ndarray from ragged nested sequences (which is a list-or-tuple of lists-or-tuples-or ndarrays with different lengths or shapes) is deprecated. If you meant to do this, you must specify 'dtype=object' when creating the ndarray.\n",
      "  return array(a, dtype, copy=False, order=order)\n",
      "<__array_function__ internals>:5: VisibleDeprecationWarning: Creating an ndarray from ragged nested sequences (which is a list-or-tuple of lists-or-tuples-or ndarrays with different lengths or shapes) is deprecated. If you meant to do this, you must specify 'dtype=object' when creating the ndarray.\n"
     ]
    },
    {
     "name": "stdout",
     "output_type": "stream",
     "text": [
      "0.9466666666666667 0.01 0.2\n"
     ]
    }
   ],
   "source": [
    "from prettytable import PrettyTable\n",
    "lr_rate = [0.01,0.001,0.003]\n",
    "dropout_rate = [0.2,0.4,0.5]\n",
    "hyper_result = 0.0\n",
    "test_result = 0.0\n",
    "result = list()\n",
    "lr_his = []\n",
    "drop_his =[]\n",
    "for lr in range(len(lr_rate)):\n",
    "    for drop in range(len(dropout_rate)):\n",
    "        W = network_weights(vocab_size=len(train_voc_set),embedding_dim=300,hidden_dim=[],\n",
    "                            num_classes=3, init_val = 0.1)\n",
    "        W[0] = w_glove\n",
    "\n",
    "        W, loss_tr, dev_loss = SGD(train_indices_x, Y_tr=train_y, W=W, X_dev=dev_indices_x, Y_dev=dev_y, lr=lr_rate[lr], \n",
    "                        dropout=dropout_rate[drop],\n",
    "                        freeze_emb=True,\n",
    "                        tolerance=0.0001,\n",
    "                        print_progress = False,\n",
    "                        epochs=40)\n",
    "\n",
    "        preds_dev = [np.argmax(forward_pass(x, W, dropout_rate=0.0)['y']) for x,y in zip(dev_indices_x,dev_y)]\n",
    "        val_acc = accuracy_score(dev_y,preds_dev)\n",
    "        hyper_result = val_acc\n",
    "\n",
    "        lr_his.append(lr_rate[lr])\n",
    "        drop_his.append(dropout_rate[drop])\n",
    "        result.append(hyper_result)\n",
    "        ind = result.index(max(result))\n",
    "        #print(hyper_result,dim_choice[dim],lr_rate[lr],dropout_rate[drop])\n",
    "print(max(result),lr_his[ind],drop_his[ind])"
   ]
  },
  {
   "cell_type": "code",
   "execution_count": 46,
   "metadata": {
    "scrolled": true
   },
   "outputs": [
    {
     "name": "stdout",
     "output_type": "stream",
     "text": [
      "+--------------------+---------+--------------+\n",
      "|      Accuracy      | lr_rate | dropout_rate |\n",
      "+--------------------+---------+--------------+\n",
      "| 0.9466666666666667 |   0.01  |     0.2      |\n",
      "|        0.94        |   0.01  |     0.4      |\n",
      "| 0.9333333333333333 |   0.01  |     0.5      |\n",
      "| 0.9266666666666666 |  0.001  |     0.2      |\n",
      "|        0.92        |  0.001  |     0.4      |\n",
      "| 0.9066666666666666 |  0.001  |     0.5      |\n",
      "| 0.9466666666666667 |  0.003  |     0.2      |\n",
      "| 0.9466666666666667 |  0.003  |     0.4      |\n",
      "|        0.94        |  0.003  |     0.5      |\n",
      "+--------------------+---------+--------------+\n"
     ]
    }
   ],
   "source": [
    "emb_Table = PrettyTable([\"Accuracy\", \"lr_rate\", \"dropout_rate\"])\n",
    "for i in range(len(result)):\n",
    "    emb_Table.add_row([result[i],lr_his[i],drop_his[i]])\n",
    "print(emb_Table)"
   ]
  },
  {
   "cell_type": "code",
   "execution_count": 47,
   "metadata": {
    "scrolled": true
   },
   "outputs": [
    {
     "name": "stdout",
     "output_type": "stream",
     "text": [
      "Shape W0 (8596, 300)\n",
      "Shape W1 (300, 3)\n"
     ]
    },
    {
     "name": "stderr",
     "output_type": "stream",
     "text": [
      "C:\\Users\\88690\\anaconda3\\lib\\site-packages\\numpy\\core\\_asarray.py:102: VisibleDeprecationWarning: Creating an ndarray from ragged nested sequences (which is a list-or-tuple of lists-or-tuples-or ndarrays with different lengths or shapes) is deprecated. If you meant to do this, you must specify 'dtype=object' when creating the ndarray.\n",
      "  return array(a, dtype, copy=False, order=order)\n",
      "<__array_function__ internals>:5: VisibleDeprecationWarning: Creating an ndarray from ragged nested sequences (which is a list-or-tuple of lists-or-tuples-or ndarrays with different lengths or shapes) is deprecated. If you meant to do this, you must specify 'dtype=object' when creating the ndarray.\n"
     ]
    },
    {
     "name": "stdout",
     "output_type": "stream",
     "text": [
      "Epoch: 0 | Train loss: 0.4915844998947296 | Dev loss: 0.5006449779018523\n",
      "Epoch: 1 | Train loss: 0.425798128058617 | Dev loss: 0.4398207884422205\n",
      "Epoch: 2 | Train loss: 0.34044985980640463 | Dev loss: 0.35193580675661307\n",
      "Epoch: 3 | Train loss: 0.27817656749917985 | Dev loss: 0.2833111646703187\n",
      "Epoch: 4 | Train loss: 0.26329895506308293 | Dev loss: 0.26618851719533737\n",
      "Epoch: 5 | Train loss: 0.2716252634384927 | Dev loss: 0.2801517336387839\n",
      "Epoch: 6 | Train loss: 0.20950764711832118 | Dev loss: 0.20272894841487152\n",
      "Epoch: 7 | Train loss: 0.20872763504996394 | Dev loss: 0.2029238088381039\n",
      "Epoch: 8 | Train loss: 0.21554166223591859 | Dev loss: 0.2132849867467142\n",
      "Epoch: 9 | Train loss: 0.19456215527200907 | Dev loss: 0.1849638040180108\n",
      "Epoch: 10 | Train loss: 0.20628009684220341 | Dev loss: 0.20432800945717466\n",
      "Epoch: 11 | Train loss: 0.1869243528532071 | Dev loss: 0.17812913314995035\n",
      "Epoch: 12 | Train loss: 0.18895422474586085 | Dev loss: 0.18307952897162702\n",
      "Epoch: 13 | Train loss: 0.18770031705546572 | Dev loss: 0.1796371922503883\n",
      "Epoch: 14 | Train loss: 0.17654037120790658 | Dev loss: 0.16565185200901378\n",
      "Epoch: 15 | Train loss: 0.18311687920470757 | Dev loss: 0.17488774141431387\n",
      "Epoch: 16 | Train loss: 0.1882683876195688 | Dev loss: 0.18534613368217187\n",
      "Epoch: 17 | Train loss: 0.18443844548031635 | Dev loss: 0.1792014849894777\n",
      "Epoch: 18 | Train loss: 0.18021249449369717 | Dev loss: 0.1744078830932584\n",
      "Epoch: 19 | Train loss: 0.174282510288489 | Dev loss: 0.165246937910255\n",
      "Epoch: 20 | Train loss: 0.16372270251252743 | Dev loss: 0.1520615906574014\n",
      "Epoch: 21 | Train loss: 0.1617726505654751 | Dev loss: 0.1500953643646831\n",
      "Epoch: 22 | Train loss: 0.16501131283362738 | Dev loss: 0.15447414896758904\n",
      "Epoch: 23 | Train loss: 0.17085985028759387 | Dev loss: 0.16323102366129935\n",
      "Epoch: 24 | Train loss: 0.16910901528385763 | Dev loss: 0.16116805138136775\n",
      "Epoch: 25 | Train loss: 0.17420925757164105 | Dev loss: 0.168913135039753\n",
      "Epoch: 26 | Train loss: 0.13491369177949233 | Dev loss: 0.12445054065156211\n",
      "Epoch: 27 | Train loss: 0.15688009474547754 | Dev loss: 0.1465227468893135\n",
      "Epoch: 28 | Train loss: 0.14917183195785766 | Dev loss: 0.13977600368270554\n",
      "Epoch: 29 | Train loss: 0.14404250819139355 | Dev loss: 0.133187176836123\n",
      "Epoch: 30 | Train loss: 0.1482317706795677 | Dev loss: 0.13855652547544217\n",
      "Epoch: 31 | Train loss: 0.1520110172698615 | Dev loss: 0.14226328635763813\n",
      "Epoch: 32 | Train loss: 0.16672926155950335 | Dev loss: 0.16334479878892078\n",
      "Epoch: 33 | Train loss: 0.15310677697000705 | Dev loss: 0.14508677378186918\n",
      "Epoch: 34 | Train loss: 0.14641564981605004 | Dev loss: 0.13704391919828912\n",
      "Epoch: 35 | Train loss: 0.14214433942313878 | Dev loss: 0.13165239483737368\n",
      "Epoch: 36 | Train loss: 0.14820147721068438 | Dev loss: 0.14013426329649933\n",
      "Epoch: 37 | Train loss: 0.1550837662097255 | Dev loss: 0.1486555192224995\n",
      "Epoch: 38 | Train loss: 0.14847561117626398 | Dev loss: 0.14102532436336862\n",
      "Epoch: 39 | Train loss: 0.1679330864645982 | Dev loss: 0.1649254367182933\n"
     ]
    }
   ],
   "source": [
    "#use best parameters to train model\n",
    "W = network_weights(vocab_size=len(train_voc_set),embedding_dim=300,hidden_dim=[], num_classes=3)\n",
    "\n",
    "W[0] = w_glove\n",
    "\n",
    "for i in range(len(W)):\n",
    "    print('Shape W'+str(i), W[i].shape)\n",
    "\n",
    "W, loss_tr, dev_loss = SGD(train_indices_x, Y_tr=train_y,\n",
    "                            W=W,\n",
    "                            X_dev=dev_indices_x, \n",
    "                            Y_dev=dev_y,\n",
    "                            lr=lr_his[ind], \n",
    "                            dropout=drop_his[ind],\n",
    "                            freeze_emb=True,\n",
    "                            tolerance=0.0001,\n",
    "                            epochs=40)"
   ]
  },
  {
   "cell_type": "code",
   "execution_count": 48,
   "metadata": {},
   "outputs": [
    {
     "name": "stdout",
     "output_type": "stream",
     "text": [
      "Accuracy: 0.8866666666666667\n",
      "Precision: 0.887098394913521\n",
      "Recall: 0.8866666666666667\n",
      "F1-Score: 0.8868245713460235\n"
     ]
    }
   ],
   "source": [
    "preds_te = [np.argmax(forward_pass(x, W, dropout_rate=0.0)['y']) \n",
    "            for x,y in zip(test_indices_x,test_y)]\n",
    "\n",
    "print('Accuracy:', accuracy_score(test_y,preds_te))\n",
    "print('Precision:', precision_score(test_y,preds_te,average='macro'))\n",
    "print('Recall:', recall_score(test_y,preds_te,average='macro'))\n",
    "print('F1-Score:', f1_score(test_y,preds_te,average='macro'))"
   ]
  },
  {
   "cell_type": "code",
   "execution_count": 49,
   "metadata": {},
   "outputs": [
    {
     "data": {
      "image/png": "[encoded data removed]",
      "text/plain": [
       "<Figure size 432x288 with 1 Axes>"
      ]
     },
     "metadata": {
      "needs_background": "light"
     },
     "output_type": "display_data"
    }
   ],
   "source": [
    "# Now we could plot result of the training \n",
    "x = np.linspace(0,len(loss_tr),len(loss_tr))\n",
    "y1, y2 = loss_tr, dev_loss\n",
    "\n",
    "plt.plot(x, y1,label='Training loss')\n",
    "plt.plot(x, y2, label='Validation loss')\n",
    " \n",
    "plt.title('Plot Result')\n",
    "plt.xlabel('Epochs')\n",
    "plt.ylabel('Loss')\n",
    "plt.legend() \n",
    "plt.show()"
   ]
  },
  {
   "cell_type": "markdown",
   "metadata": {},
   "source": [
    "# Extend to support deeper architectures \n",
    "\n",
    "Extend the network to support back-propagation for more hidden layers. You need to modify the `backward_pass` function above to compute gradients and update the weights between intermediate hidden layers. Finally, train and evaluate a network with a deeper architecture. Do deeper architectures increase performance?"
   ]
  },
  {
   "cell_type": "code",
   "execution_count": 85,
   "metadata": {
    "ExecuteTime": {
     "end_time": "2020-04-02T14:58:51.764619Z",
     "start_time": "2020-04-02T14:58:47.483690Z"
    },
    "scrolled": true
   },
   "outputs": [
    {
     "name": "stdout",
     "output_type": "stream",
     "text": [
      "Shape W0 (8596, 300)\n",
      "Shape W1 (300, 200)\n",
      "Shape W2 (200, 3)\n"
     ]
    }
   ],
   "source": [
    "W = network_weights(vocab_size=len(train_voc_set),embedding_dim=300,hidden_dim=[200],\n",
    "                            num_classes=3, init_val=0.5)\n",
    "\n",
    "W[0] = w_glove\n",
    "for i in range(len(W)):\n",
    "    print('Shape W'+str(i), W[i].shape)"
   ]
  },
  {
   "cell_type": "code",
   "execution_count": 86,
   "metadata": {
    "scrolled": true
   },
   "outputs": [
    {
     "name": "stderr",
     "output_type": "stream",
     "text": [
      "C:\\Users\\88690\\anaconda3\\lib\\site-packages\\numpy\\core\\_asarray.py:102: VisibleDeprecationWarning: Creating an ndarray from ragged nested sequences (which is a list-or-tuple of lists-or-tuples-or ndarrays with different lengths or shapes) is deprecated. If you meant to do this, you must specify 'dtype=object' when creating the ndarray.\n",
      "  return array(a, dtype, copy=False, order=order)\n",
      "<__array_function__ internals>:5: VisibleDeprecationWarning: Creating an ndarray from ragged nested sequences (which is a list-or-tuple of lists-or-tuples-or ndarrays with different lengths or shapes) is deprecated. If you meant to do this, you must specify 'dtype=object' when creating the ndarray.\n"
     ]
    },
    {
     "name": "stdout",
     "output_type": "stream",
     "text": [
      "Epoch: 0 | Train loss: 0.7044262499909549 | Dev loss: 0.7248974293344094\n",
      "Epoch: 1 | Train loss: 0.6494628870045648 | Dev loss: 0.6723665842687003\n",
      "Epoch: 2 | Train loss: 0.5676491042071271 | Dev loss: 0.5892675367600743\n",
      "Epoch: 3 | Train loss: 0.5002353696780804 | Dev loss: 0.5155122825719176\n",
      "Epoch: 4 | Train loss: 0.4647608412556802 | Dev loss: 0.4845341291578283\n",
      "Epoch: 5 | Train loss: 0.4410530558703139 | Dev loss: 0.4620187394706985\n",
      "Epoch: 6 | Train loss: 0.37547139420144565 | Dev loss: 0.378926368245107\n",
      "Epoch: 7 | Train loss: 0.3619668623850109 | Dev loss: 0.3702339662514221\n",
      "Epoch: 8 | Train loss: 0.3639939539717139 | Dev loss: 0.3797381406683233\n",
      "Epoch: 9 | Train loss: 0.34038515968769045 | Dev loss: 0.35232554613075734\n",
      "Epoch: 10 | Train loss: 0.33876613556337865 | Dev loss: 0.3536273679149343\n",
      "Epoch: 11 | Train loss: 0.31524046514999815 | Dev loss: 0.32488604797340565\n",
      "Epoch: 12 | Train loss: 0.3163696334405165 | Dev loss: 0.33050514513879076\n",
      "Epoch: 13 | Train loss: 0.30303695937252617 | Dev loss: 0.3164423788263467\n",
      "Epoch: 14 | Train loss: 0.29311831754834694 | Dev loss: 0.3063504378098379\n",
      "Epoch: 15 | Train loss: 0.28859826536720984 | Dev loss: 0.3025078038331974\n",
      "Epoch: 16 | Train loss: 0.2944755089747207 | Dev loss: 0.31277795738968395\n",
      "Epoch: 17 | Train loss: 0.2815370030978599 | Dev loss: 0.2977177082842013\n",
      "Epoch: 18 | Train loss: 0.2771021480510162 | Dev loss: 0.2939089008063091\n",
      "Epoch: 19 | Train loss: 0.27367304875123777 | Dev loss: 0.29070248081967515\n",
      "Epoch: 20 | Train loss: 0.257957663167771 | Dev loss: 0.2727807199621351\n",
      "Epoch: 21 | Train loss: 0.2676819252101981 | Dev loss: 0.28188165954357125\n",
      "Epoch: 22 | Train loss: 0.25666831834943155 | Dev loss: 0.2737611364193936\n",
      "Epoch: 23 | Train loss: 0.2599037194419605 | Dev loss: 0.2772824478217717\n",
      "Epoch: 24 | Train loss: 0.2586011327961247 | Dev loss: 0.27455394106767017\n",
      "Epoch: 25 | Train loss: 0.25981134704808534 | Dev loss: 0.2768245912040489\n",
      "Epoch: 26 | Train loss: 0.23420992229090137 | Dev loss: 0.25015584870224467\n",
      "Epoch: 27 | Train loss: 0.2415812761104507 | Dev loss: 0.25569219981166763\n",
      "Epoch: 28 | Train loss: 0.24066845513813798 | Dev loss: 0.26013254708712974\n",
      "Epoch: 29 | Train loss: 0.2292538769388819 | Dev loss: 0.24464546515044353\n",
      "Epoch: 30 | Train loss: 0.23585836521795006 | Dev loss: 0.2540655817095159\n",
      "Epoch: 31 | Train loss: 0.24196011260532133 | Dev loss: 0.25479676016898195\n",
      "Epoch: 32 | Train loss: 0.24089478354335195 | Dev loss: 0.2620713773879384\n",
      "Epoch: 33 | Train loss: 0.23320513785743732 | Dev loss: 0.2509490568701744\n",
      "Epoch: 34 | Train loss: 0.22798571621947 | Dev loss: 0.24404724496546815\n",
      "Epoch: 35 | Train loss: 0.2283210095485391 | Dev loss: 0.2414759740515127\n",
      "Epoch: 36 | Train loss: 0.2314512558836529 | Dev loss: 0.2512858555491811\n",
      "Epoch: 37 | Train loss: 0.2294315236831518 | Dev loss: 0.2440410035381665\n",
      "Epoch: 38 | Train loss: 0.22460735376446753 | Dev loss: 0.24200682831215994\n",
      "Epoch: 39 | Train loss: 0.2347710005286356 | Dev loss: 0.25048222982842994\n",
      "Epoch: 40 | Train loss: 0.21479776178671414 | Dev loss: 0.2283469159470169\n",
      "Epoch: 41 | Train loss: 0.2338210321209483 | Dev loss: 0.24927120545999604\n",
      "Epoch: 42 | Train loss: 0.19677387810497526 | Dev loss: 0.20886829372928045\n",
      "Epoch: 43 | Train loss: 0.23174808300319735 | Dev loss: 0.25151355125745317\n",
      "Epoch: 44 | Train loss: 0.22696884256295416 | Dev loss: 0.2452812654271844\n",
      "Epoch: 45 | Train loss: 0.22027318286749226 | Dev loss: 0.2341129094803235\n",
      "Epoch: 46 | Train loss: 0.21692931577344443 | Dev loss: 0.23015572257349515\n",
      "Epoch: 47 | Train loss: 0.22372592487994514 | Dev loss: 0.24293581656331847\n",
      "Epoch: 48 | Train loss: 0.2057608528954688 | Dev loss: 0.22036179423082758\n",
      "Epoch: 49 | Train loss: 0.21970612934055977 | Dev loss: 0.24021230215103642\n",
      "Epoch: 50 | Train loss: 0.20303170563771783 | Dev loss: 0.21464337100469957\n",
      "Epoch: 51 | Train loss: 0.21878117641466246 | Dev loss: 0.23280181818375187\n",
      "Epoch: 52 | Train loss: 0.2055636507884574 | Dev loss: 0.22256245026682148\n",
      "Epoch: 53 | Train loss: 0.21987337430736162 | Dev loss: 0.23541164491945257\n",
      "Epoch: 54 | Train loss: 0.21174202741230438 | Dev loss: 0.22466650944227287\n",
      "Epoch: 55 | Train loss: 0.20144633268694528 | Dev loss: 0.21558300849534456\n",
      "Epoch: 56 | Train loss: 0.21618478878061553 | Dev loss: 0.22736030106827343\n",
      "Epoch: 57 | Train loss: 0.2043760141623254 | Dev loss: 0.22106010723688668\n",
      "Epoch: 58 | Train loss: 0.20772601243881483 | Dev loss: 0.21740416082765326\n",
      "Epoch: 59 | Train loss: 0.2056399470656827 | Dev loss: 0.22023992243752594\n"
     ]
    }
   ],
   "source": [
    "W, loss_tr, dev_loss = SGD(train_indices_x, Y_tr=train_y,\n",
    "                W=W,\n",
    "                X_dev=dev_indices_x, \n",
    "                Y_dev=dev_y,\n",
    "                lr=0.001, \n",
    "                dropout=0.4,\n",
    "                freeze_emb=True,\n",
    "                tolerance=0.00001,\n",
    "                print_progress = True,\n",
    "                epochs=60)"
   ]
  },
  {
   "cell_type": "code",
   "execution_count": 87,
   "metadata": {
    "scrolled": true
   },
   "outputs": [
    {
     "data": {
      "image/png": "[encoded data removed]",
      "text/plain": [
       "<Figure size 432x288 with 1 Axes>"
      ]
     },
     "metadata": {
      "needs_background": "light"
     },
     "output_type": "display_data"
    }
   ],
   "source": [
    "x = np.linspace(0,len(loss_tr),len(loss_tr))\n",
    "y1, y2 = loss_tr, dev_loss\n",
    " \n",
    "plt.plot(x, y1,label='Training loss')\n",
    "plt.plot(x, y2, label='Validation loss')\n",
    " \n",
    "plt.title('Training Monitoring')\n",
    "plt.xlabel('Epochs')\n",
    "plt.ylabel('Loss')\n",
    "plt.legend() \n",
    "plt.show()"
   ]
  },
  {
   "cell_type": "code",
   "execution_count": 88,
   "metadata": {
    "ExecuteTime": {
     "end_time": "2020-04-02T15:11:51.994986Z",
     "start_time": "2020-04-02T15:11:51.992563Z"
    },
    "scrolled": false
   },
   "outputs": [
    {
     "name": "stdout",
     "output_type": "stream",
     "text": [
      "Accuracy: 0.7755555555555556\n",
      "Precision: 0.7851723233255484\n",
      "Recall: 0.7755555555555556\n",
      "F1-Score: 0.7735548372159694\n"
     ]
    }
   ],
   "source": [
    "preds_te = [np.argmax(forward_pass(x, W, dropout_rate=0.0)['y']) for x,y in zip(test_indices_x,test_y)]\n",
    "\n",
    "print('Accuracy:', accuracy_score(test_y,preds_te))\n",
    "print('Precision:', precision_score(test_y,preds_te,average='macro'))\n",
    "print('Recall:', recall_score(test_y,preds_te,average='macro'))\n",
    "print('F1-Score:', f1_score(test_y,preds_te,average='macro'))"
   ]
  },
  {
   "cell_type": "markdown",
   "metadata": {},
   "source": [
    "Using manual parameter, so the accuracy looks quite low"
   ]
  },
  {
   "cell_type": "markdown",
   "metadata": {},
   "source": [
    "### Discuss how did you choose model hyperparameters ? "
   ]
  },
  {
   "cell_type": "code",
   "execution_count": 89,
   "metadata": {
    "scrolled": true
   },
   "outputs": [
    {
     "name": "stderr",
     "output_type": "stream",
     "text": [
      "C:\\Users\\88690\\anaconda3\\lib\\site-packages\\numpy\\core\\_asarray.py:102: VisibleDeprecationWarning: Creating an ndarray from ragged nested sequences (which is a list-or-tuple of lists-or-tuples-or ndarrays with different lengths or shapes) is deprecated. If you meant to do this, you must specify 'dtype=object' when creating the ndarray.\n",
      "  return array(a, dtype, copy=False, order=order)\n",
      "<__array_function__ internals>:5: VisibleDeprecationWarning: Creating an ndarray from ragged nested sequences (which is a list-or-tuple of lists-or-tuples-or ndarrays with different lengths or shapes) is deprecated. If you meant to do this, you must specify 'dtype=object' when creating the ndarray.\n",
      "C:\\Users\\88690\\anaconda3\\lib\\site-packages\\numpy\\core\\_asarray.py:102: VisibleDeprecationWarning: Creating an ndarray from ragged nested sequences (which is a list-or-tuple of lists-or-tuples-or ndarrays with different lengths or shapes) is deprecated. If you meant to do this, you must specify 'dtype=object' when creating the ndarray.\n",
      "  return array(a, dtype, copy=False, order=order)\n",
      "<__array_function__ internals>:5: VisibleDeprecationWarning: Creating an ndarray from ragged nested sequences (which is a list-or-tuple of lists-or-tuples-or ndarrays with different lengths or shapes) is deprecated. If you meant to do this, you must specify 'dtype=object' when creating the ndarray.\n",
      "C:\\Users\\88690\\anaconda3\\lib\\site-packages\\numpy\\core\\_asarray.py:102: VisibleDeprecationWarning: Creating an ndarray from ragged nested sequences (which is a list-or-tuple of lists-or-tuples-or ndarrays with different lengths or shapes) is deprecated. If you meant to do this, you must specify 'dtype=object' when creating the ndarray.\n",
      "  return array(a, dtype, copy=False, order=order)\n",
      "<__array_function__ internals>:5: VisibleDeprecationWarning: Creating an ndarray from ragged nested sequences (which is a list-or-tuple of lists-or-tuples-or ndarrays with different lengths or shapes) is deprecated. If you meant to do this, you must specify 'dtype=object' when creating the ndarray.\n",
      "C:\\Users\\88690\\anaconda3\\lib\\site-packages\\numpy\\core\\_asarray.py:102: VisibleDeprecationWarning: Creating an ndarray from ragged nested sequences (which is a list-or-tuple of lists-or-tuples-or ndarrays with different lengths or shapes) is deprecated. If you meant to do this, you must specify 'dtype=object' when creating the ndarray.\n",
      "  return array(a, dtype, copy=False, order=order)\n",
      "<__array_function__ internals>:5: VisibleDeprecationWarning: Creating an ndarray from ragged nested sequences (which is a list-or-tuple of lists-or-tuples-or ndarrays with different lengths or shapes) is deprecated. If you meant to do this, you must specify 'dtype=object' when creating the ndarray.\n",
      "C:\\Users\\88690\\anaconda3\\lib\\site-packages\\numpy\\core\\_asarray.py:102: VisibleDeprecationWarning: Creating an ndarray from ragged nested sequences (which is a list-or-tuple of lists-or-tuples-or ndarrays with different lengths or shapes) is deprecated. If you meant to do this, you must specify 'dtype=object' when creating the ndarray.\n",
      "  return array(a, dtype, copy=False, order=order)\n",
      "<__array_function__ internals>:5: VisibleDeprecationWarning: Creating an ndarray from ragged nested sequences (which is a list-or-tuple of lists-or-tuples-or ndarrays with different lengths or shapes) is deprecated. If you meant to do this, you must specify 'dtype=object' when creating the ndarray.\n",
      "C:\\Users\\88690\\anaconda3\\lib\\site-packages\\numpy\\core\\_asarray.py:102: VisibleDeprecationWarning: Creating an ndarray from ragged nested sequences (which is a list-or-tuple of lists-or-tuples-or ndarrays with different lengths or shapes) is deprecated. If you meant to do this, you must specify 'dtype=object' when creating the ndarray.\n",
      "  return array(a, dtype, copy=False, order=order)\n",
      "<__array_function__ internals>:5: VisibleDeprecationWarning: Creating an ndarray from ragged nested sequences (which is a list-or-tuple of lists-or-tuples-or ndarrays with different lengths or shapes) is deprecated. If you meant to do this, you must specify 'dtype=object' when creating the ndarray.\n",
      "C:\\Users\\88690\\anaconda3\\lib\\site-packages\\numpy\\core\\_asarray.py:102: VisibleDeprecationWarning: Creating an ndarray from ragged nested sequences (which is a list-or-tuple of lists-or-tuples-or ndarrays with different lengths or shapes) is deprecated. If you meant to do this, you must specify 'dtype=object' when creating the ndarray.\n",
      "  return array(a, dtype, copy=False, order=order)\n",
      "<__array_function__ internals>:5: VisibleDeprecationWarning: Creating an ndarray from ragged nested sequences (which is a list-or-tuple of lists-or-tuples-or ndarrays with different lengths or shapes) is deprecated. If you meant to do this, you must specify 'dtype=object' when creating the ndarray.\n",
      "C:\\Users\\88690\\anaconda3\\lib\\site-packages\\numpy\\core\\_asarray.py:102: VisibleDeprecationWarning: Creating an ndarray from ragged nested sequences (which is a list-or-tuple of lists-or-tuples-or ndarrays with different lengths or shapes) is deprecated. If you meant to do this, you must specify 'dtype=object' when creating the ndarray.\n",
      "  return array(a, dtype, copy=False, order=order)\n",
      "<__array_function__ internals>:5: VisibleDeprecationWarning: Creating an ndarray from ragged nested sequences (which is a list-or-tuple of lists-or-tuples-or ndarrays with different lengths or shapes) is deprecated. If you meant to do this, you must specify 'dtype=object' when creating the ndarray.\n",
      "C:\\Users\\88690\\anaconda3\\lib\\site-packages\\numpy\\core\\_asarray.py:102: VisibleDeprecationWarning: Creating an ndarray from ragged nested sequences (which is a list-or-tuple of lists-or-tuples-or ndarrays with different lengths or shapes) is deprecated. If you meant to do this, you must specify 'dtype=object' when creating the ndarray.\n",
      "  return array(a, dtype, copy=False, order=order)\n",
      "<__array_function__ internals>:5: VisibleDeprecationWarning: Creating an ndarray from ragged nested sequences (which is a list-or-tuple of lists-or-tuples-or ndarrays with different lengths or shapes) is deprecated. If you meant to do this, you must specify 'dtype=object' when creating the ndarray.\n",
      "C:\\Users\\88690\\anaconda3\\lib\\site-packages\\numpy\\core\\_asarray.py:102: VisibleDeprecationWarning: Creating an ndarray from ragged nested sequences (which is a list-or-tuple of lists-or-tuples-or ndarrays with different lengths or shapes) is deprecated. If you meant to do this, you must specify 'dtype=object' when creating the ndarray.\n",
      "  return array(a, dtype, copy=False, order=order)\n",
      "<__array_function__ internals>:5: VisibleDeprecationWarning: Creating an ndarray from ragged nested sequences (which is a list-or-tuple of lists-or-tuples-or ndarrays with different lengths or shapes) is deprecated. If you meant to do this, you must specify 'dtype=object' when creating the ndarray.\n",
      "C:\\Users\\88690\\anaconda3\\lib\\site-packages\\numpy\\core\\_asarray.py:102: VisibleDeprecationWarning: Creating an ndarray from ragged nested sequences (which is a list-or-tuple of lists-or-tuples-or ndarrays with different lengths or shapes) is deprecated. If you meant to do this, you must specify 'dtype=object' when creating the ndarray.\n",
      "  return array(a, dtype, copy=False, order=order)\n",
      "<__array_function__ internals>:5: VisibleDeprecationWarning: Creating an ndarray from ragged nested sequences (which is a list-or-tuple of lists-or-tuples-or ndarrays with different lengths or shapes) is deprecated. If you meant to do this, you must specify 'dtype=object' when creating the ndarray.\n",
      "C:\\Users\\88690\\anaconda3\\lib\\site-packages\\numpy\\core\\_asarray.py:102: VisibleDeprecationWarning: Creating an ndarray from ragged nested sequences (which is a list-or-tuple of lists-or-tuples-or ndarrays with different lengths or shapes) is deprecated. If you meant to do this, you must specify 'dtype=object' when creating the ndarray.\n",
      "  return array(a, dtype, copy=False, order=order)\n",
      "<__array_function__ internals>:5: VisibleDeprecationWarning: Creating an ndarray from ragged nested sequences (which is a list-or-tuple of lists-or-tuples-or ndarrays with different lengths or shapes) is deprecated. If you meant to do this, you must specify 'dtype=object' when creating the ndarray.\n"
     ]
    },
    {
     "name": "stderr",
     "output_type": "stream",
     "text": [
      "C:\\Users\\88690\\anaconda3\\lib\\site-packages\\numpy\\core\\_asarray.py:102: VisibleDeprecationWarning: Creating an ndarray from ragged nested sequences (which is a list-or-tuple of lists-or-tuples-or ndarrays with different lengths or shapes) is deprecated. If you meant to do this, you must specify 'dtype=object' when creating the ndarray.\n",
      "  return array(a, dtype, copy=False, order=order)\n",
      "<__array_function__ internals>:5: VisibleDeprecationWarning: Creating an ndarray from ragged nested sequences (which is a list-or-tuple of lists-or-tuples-or ndarrays with different lengths or shapes) is deprecated. If you meant to do this, you must specify 'dtype=object' when creating the ndarray.\n",
      "C:\\Users\\88690\\anaconda3\\lib\\site-packages\\numpy\\core\\_asarray.py:102: VisibleDeprecationWarning: Creating an ndarray from ragged nested sequences (which is a list-or-tuple of lists-or-tuples-or ndarrays with different lengths or shapes) is deprecated. If you meant to do this, you must specify 'dtype=object' when creating the ndarray.\n",
      "  return array(a, dtype, copy=False, order=order)\n",
      "<__array_function__ internals>:5: VisibleDeprecationWarning: Creating an ndarray from ragged nested sequences (which is a list-or-tuple of lists-or-tuples-or ndarrays with different lengths or shapes) is deprecated. If you meant to do this, you must specify 'dtype=object' when creating the ndarray.\n",
      "C:\\Users\\88690\\anaconda3\\lib\\site-packages\\numpy\\core\\_asarray.py:102: VisibleDeprecationWarning: Creating an ndarray from ragged nested sequences (which is a list-or-tuple of lists-or-tuples-or ndarrays with different lengths or shapes) is deprecated. If you meant to do this, you must specify 'dtype=object' when creating the ndarray.\n",
      "  return array(a, dtype, copy=False, order=order)\n",
      "<__array_function__ internals>:5: VisibleDeprecationWarning: Creating an ndarray from ragged nested sequences (which is a list-or-tuple of lists-or-tuples-or ndarrays with different lengths or shapes) is deprecated. If you meant to do this, you must specify 'dtype=object' when creating the ndarray.\n",
      "C:\\Users\\88690\\anaconda3\\lib\\site-packages\\numpy\\core\\_asarray.py:102: VisibleDeprecationWarning: Creating an ndarray from ragged nested sequences (which is a list-or-tuple of lists-or-tuples-or ndarrays with different lengths or shapes) is deprecated. If you meant to do this, you must specify 'dtype=object' when creating the ndarray.\n",
      "  return array(a, dtype, copy=False, order=order)\n",
      "<__array_function__ internals>:5: VisibleDeprecationWarning: Creating an ndarray from ragged nested sequences (which is a list-or-tuple of lists-or-tuples-or ndarrays with different lengths or shapes) is deprecated. If you meant to do this, you must specify 'dtype=object' when creating the ndarray.\n",
      "C:\\Users\\88690\\anaconda3\\lib\\site-packages\\numpy\\core\\_asarray.py:102: VisibleDeprecationWarning: Creating an ndarray from ragged nested sequences (which is a list-or-tuple of lists-or-tuples-or ndarrays with different lengths or shapes) is deprecated. If you meant to do this, you must specify 'dtype=object' when creating the ndarray.\n",
      "  return array(a, dtype, copy=False, order=order)\n",
      "<__array_function__ internals>:5: VisibleDeprecationWarning: Creating an ndarray from ragged nested sequences (which is a list-or-tuple of lists-or-tuples-or ndarrays with different lengths or shapes) is deprecated. If you meant to do this, you must specify 'dtype=object' when creating the ndarray.\n",
      "C:\\Users\\88690\\anaconda3\\lib\\site-packages\\numpy\\core\\_asarray.py:102: VisibleDeprecationWarning: Creating an ndarray from ragged nested sequences (which is a list-or-tuple of lists-or-tuples-or ndarrays with different lengths or shapes) is deprecated. If you meant to do this, you must specify 'dtype=object' when creating the ndarray.\n",
      "  return array(a, dtype, copy=False, order=order)\n",
      "<__array_function__ internals>:5: VisibleDeprecationWarning: Creating an ndarray from ragged nested sequences (which is a list-or-tuple of lists-or-tuples-or ndarrays with different lengths or shapes) is deprecated. If you meant to do this, you must specify 'dtype=object' when creating the ndarray.\n",
      "C:\\Users\\88690\\anaconda3\\lib\\site-packages\\numpy\\core\\_asarray.py:102: VisibleDeprecationWarning: Creating an ndarray from ragged nested sequences (which is a list-or-tuple of lists-or-tuples-or ndarrays with different lengths or shapes) is deprecated. If you meant to do this, you must specify 'dtype=object' when creating the ndarray.\n",
      "  return array(a, dtype, copy=False, order=order)\n",
      "<__array_function__ internals>:5: VisibleDeprecationWarning: Creating an ndarray from ragged nested sequences (which is a list-or-tuple of lists-or-tuples-or ndarrays with different lengths or shapes) is deprecated. If you meant to do this, you must specify 'dtype=object' when creating the ndarray.\n",
      "C:\\Users\\88690\\anaconda3\\lib\\site-packages\\numpy\\core\\_asarray.py:102: VisibleDeprecationWarning: Creating an ndarray from ragged nested sequences (which is a list-or-tuple of lists-or-tuples-or ndarrays with different lengths or shapes) is deprecated. If you meant to do this, you must specify 'dtype=object' when creating the ndarray.\n",
      "  return array(a, dtype, copy=False, order=order)\n",
      "<__array_function__ internals>:5: VisibleDeprecationWarning: Creating an ndarray from ragged nested sequences (which is a list-or-tuple of lists-or-tuples-or ndarrays with different lengths or shapes) is deprecated. If you meant to do this, you must specify 'dtype=object' when creating the ndarray.\n",
      "C:\\Users\\88690\\anaconda3\\lib\\site-packages\\numpy\\core\\_asarray.py:102: VisibleDeprecationWarning: Creating an ndarray from ragged nested sequences (which is a list-or-tuple of lists-or-tuples-or ndarrays with different lengths or shapes) is deprecated. If you meant to do this, you must specify 'dtype=object' when creating the ndarray.\n",
      "  return array(a, dtype, copy=False, order=order)\n",
      "<__array_function__ internals>:5: VisibleDeprecationWarning: Creating an ndarray from ragged nested sequences (which is a list-or-tuple of lists-or-tuples-or ndarrays with different lengths or shapes) is deprecated. If you meant to do this, you must specify 'dtype=object' when creating the ndarray.\n",
      "C:\\Users\\88690\\anaconda3\\lib\\site-packages\\numpy\\core\\_asarray.py:102: VisibleDeprecationWarning: Creating an ndarray from ragged nested sequences (which is a list-or-tuple of lists-or-tuples-or ndarrays with different lengths or shapes) is deprecated. If you meant to do this, you must specify 'dtype=object' when creating the ndarray.\n",
      "  return array(a, dtype, copy=False, order=order)\n",
      "<__array_function__ internals>:5: VisibleDeprecationWarning: Creating an ndarray from ragged nested sequences (which is a list-or-tuple of lists-or-tuples-or ndarrays with different lengths or shapes) is deprecated. If you meant to do this, you must specify 'dtype=object' when creating the ndarray.\n",
      "C:\\Users\\88690\\anaconda3\\lib\\site-packages\\numpy\\core\\_asarray.py:102: VisibleDeprecationWarning: Creating an ndarray from ragged nested sequences (which is a list-or-tuple of lists-or-tuples-or ndarrays with different lengths or shapes) is deprecated. If you meant to do this, you must specify 'dtype=object' when creating the ndarray.\n",
      "  return array(a, dtype, copy=False, order=order)\n",
      "<__array_function__ internals>:5: VisibleDeprecationWarning: Creating an ndarray from ragged nested sequences (which is a list-or-tuple of lists-or-tuples-or ndarrays with different lengths or shapes) is deprecated. If you meant to do this, you must specify 'dtype=object' when creating the ndarray.\n",
      "C:\\Users\\88690\\anaconda3\\lib\\site-packages\\numpy\\core\\_asarray.py:102: VisibleDeprecationWarning: Creating an ndarray from ragged nested sequences (which is a list-or-tuple of lists-or-tuples-or ndarrays with different lengths or shapes) is deprecated. If you meant to do this, you must specify 'dtype=object' when creating the ndarray.\n",
      "  return array(a, dtype, copy=False, order=order)\n",
      "<__array_function__ internals>:5: VisibleDeprecationWarning: Creating an ndarray from ragged nested sequences (which is a list-or-tuple of lists-or-tuples-or ndarrays with different lengths or shapes) is deprecated. If you meant to do this, you must specify 'dtype=object' when creating the ndarray.\n"
     ]
    },
    {
     "name": "stderr",
     "output_type": "stream",
     "text": [
      "C:\\Users\\88690\\anaconda3\\lib\\site-packages\\numpy\\core\\_asarray.py:102: VisibleDeprecationWarning: Creating an ndarray from ragged nested sequences (which is a list-or-tuple of lists-or-tuples-or ndarrays with different lengths or shapes) is deprecated. If you meant to do this, you must specify 'dtype=object' when creating the ndarray.\n",
      "  return array(a, dtype, copy=False, order=order)\n",
      "<__array_function__ internals>:5: VisibleDeprecationWarning: Creating an ndarray from ragged nested sequences (which is a list-or-tuple of lists-or-tuples-or ndarrays with different lengths or shapes) is deprecated. If you meant to do this, you must specify 'dtype=object' when creating the ndarray.\n",
      "C:\\Users\\88690\\anaconda3\\lib\\site-packages\\numpy\\core\\_asarray.py:102: VisibleDeprecationWarning: Creating an ndarray from ragged nested sequences (which is a list-or-tuple of lists-or-tuples-or ndarrays with different lengths or shapes) is deprecated. If you meant to do this, you must specify 'dtype=object' when creating the ndarray.\n",
      "  return array(a, dtype, copy=False, order=order)\n",
      "<__array_function__ internals>:5: VisibleDeprecationWarning: Creating an ndarray from ragged nested sequences (which is a list-or-tuple of lists-or-tuples-or ndarrays with different lengths or shapes) is deprecated. If you meant to do this, you must specify 'dtype=object' when creating the ndarray.\n",
      "C:\\Users\\88690\\anaconda3\\lib\\site-packages\\numpy\\core\\_asarray.py:102: VisibleDeprecationWarning: Creating an ndarray from ragged nested sequences (which is a list-or-tuple of lists-or-tuples-or ndarrays with different lengths or shapes) is deprecated. If you meant to do this, you must specify 'dtype=object' when creating the ndarray.\n",
      "  return array(a, dtype, copy=False, order=order)\n",
      "<__array_function__ internals>:5: VisibleDeprecationWarning: Creating an ndarray from ragged nested sequences (which is a list-or-tuple of lists-or-tuples-or ndarrays with different lengths or shapes) is deprecated. If you meant to do this, you must specify 'dtype=object' when creating the ndarray.\n"
     ]
    },
    {
     "name": "stdout",
     "output_type": "stream",
     "text": [
      "0.8 [200, 50] 0.001 0.2\n"
     ]
    }
   ],
   "source": [
    "# Firstly We should establish the list to select the parameters\n",
    "from prettytable import PrettyTable\n",
    "hdim_choice=[[200],[100,50],[200,50]]\n",
    "lr_rate = [0.01,0.001,0.005]\n",
    "dropout_rate = [0.2,0.4,0.5]\n",
    "hyper_result = 0.0\n",
    "test_result = 0.0\n",
    "result = list()\n",
    "hdim_his = []\n",
    "lr_his = []\n",
    "drop_his =[]\n",
    "\n",
    "for hdim in range(len(hdim_choice)):\n",
    "    for lr in range(len(lr_rate)):\n",
    "        for drop in range(len(dropout_rate)):\n",
    "            W = network_weights(vocab_size=len(train_voc_set),embedding_dim=300,hidden_dim=hdim_choice[hdim],num_classes=3)\n",
    "            W[0] = w_glove\n",
    "            W, loss_tr, dev_loss = SGD(train_indices_x, Y_tr=train_y, W=W, X_dev=dev_indices_x, Y_dev=dev_y, lr=lr_rate[lr], \n",
    "                            dropout=dropout_rate[drop],\n",
    "                            freeze_emb=True,\n",
    "                            tolerance=0.0001,\n",
    "                            print_progress = False,\n",
    "                            epochs=50)\n",
    "            \n",
    "\n",
    "            preds_dev = [np.argmax(forward_pass(x, W, dropout_rate=0.0)['y']) for x,y in zip(dev_indices_x,dev_y)]\n",
    "            val_acc = accuracy_score(dev_y,preds_dev)\n",
    "            hyper_result = val_acc\n",
    "            \n",
    "            hdim_his.append(hdim_choice[hdim])\n",
    "            lr_his.append(lr_rate[lr])\n",
    "            drop_his.append(dropout_rate[drop])\n",
    "            result.append(hyper_result)\n",
    "            ind = result.index(max(result))\n",
    "            #print(hyper_result,dim_choice[dim],lr_rate[lr],dropout_rate[drop])\n",
    "print(max(result),hdim_his[ind],lr_his[ind],drop_his[ind])\n"
   ]
  },
  {
   "cell_type": "code",
   "execution_count": 90,
   "metadata": {},
   "outputs": [
    {
     "name": "stdout",
     "output_type": "stream",
     "text": [
      "+---------------------+-----------+---------+--------------+\n",
      "|       Accuracy      |    hdim   | lr_rate | dropout_rate |\n",
      "+---------------------+-----------+---------+--------------+\n",
      "|         0.7         |   [200]   |   0.01  |     0.2      |\n",
      "|  0.7466666666666667 |   [200]   |   0.01  |     0.4      |\n",
      "|  0.6666666666666666 |   [200]   |   0.01  |     0.5      |\n",
      "|         0.78        |   [200]   |  0.001  |     0.2      |\n",
      "|  0.7733333333333333 |   [200]   |  0.001  |     0.4      |\n",
      "|         0.72        |   [200]   |  0.001  |     0.5      |\n",
      "|  0.7066666666666667 |   [200]   |  0.005  |     0.2      |\n",
      "|  0.7466666666666667 |   [200]   |  0.005  |     0.4      |\n",
      "|  0.7066666666666667 |   [200]   |  0.005  |     0.5      |\n",
      "|  0.6066666666666667 | [100, 50] |   0.01  |     0.2      |\n",
      "|  0.5333333333333333 | [100, 50] |   0.01  |     0.4      |\n",
      "| 0.38666666666666666 | [100, 50] |   0.01  |     0.5      |\n",
      "|  0.7133333333333334 | [100, 50] |  0.001  |     0.2      |\n",
      "|  0.6466666666666666 | [100, 50] |  0.001  |     0.4      |\n",
      "| 0.49333333333333335 | [100, 50] |  0.001  |     0.5      |\n",
      "|  0.6933333333333334 | [100, 50] |  0.005  |     0.2      |\n",
      "|         0.62        | [100, 50] |  0.005  |     0.4      |\n",
      "|         0.42        | [100, 50] |  0.005  |     0.5      |\n",
      "|  0.4066666666666667 | [200, 50] |   0.01  |     0.2      |\n",
      "|  0.3933333333333333 | [200, 50] |   0.01  |     0.4      |\n",
      "| 0.35333333333333333 | [200, 50] |   0.01  |     0.5      |\n",
      "|         0.8         | [200, 50] |  0.001  |     0.2      |\n",
      "|         0.66        | [200, 50] |  0.001  |     0.4      |\n",
      "|  0.5466666666666666 | [200, 50] |  0.001  |     0.5      |\n",
      "|         0.64        | [200, 50] |  0.005  |     0.2      |\n",
      "|  0.5466666666666666 | [200, 50] |  0.005  |     0.4      |\n",
      "| 0.41333333333333333 | [200, 50] |  0.005  |     0.5      |\n",
      "+---------------------+-----------+---------+--------------+\n"
     ]
    }
   ],
   "source": [
    "hidden_Table = PrettyTable([\"Accuracy\", \"hdim\", \"lr_rate\", \"dropout_rate\"])\n",
    "for i in range(len(hdim_his)):\n",
    "    hidden_Table.add_row([result[i],hdim_his[i],lr_his[i],drop_his[i]])\n",
    "print(hidden_Table)"
   ]
  },
  {
   "cell_type": "code",
   "execution_count": 91,
   "metadata": {
    "scrolled": true
   },
   "outputs": [
    {
     "name": "stdout",
     "output_type": "stream",
     "text": [
      "Shape W0 (8596, 300)\n",
      "Shape W1 (300, 200)\n",
      "Shape W2 (200, 50)\n",
      "Shape W3 (50, 3)\n"
     ]
    },
    {
     "name": "stderr",
     "output_type": "stream",
     "text": [
      "C:\\Users\\88690\\anaconda3\\lib\\site-packages\\numpy\\core\\_asarray.py:102: VisibleDeprecationWarning: Creating an ndarray from ragged nested sequences (which is a list-or-tuple of lists-or-tuples-or ndarrays with different lengths or shapes) is deprecated. If you meant to do this, you must specify 'dtype=object' when creating the ndarray.\n",
      "  return array(a, dtype, copy=False, order=order)\n",
      "<__array_function__ internals>:5: VisibleDeprecationWarning: Creating an ndarray from ragged nested sequences (which is a list-or-tuple of lists-or-tuples-or ndarrays with different lengths or shapes) is deprecated. If you meant to do this, you must specify 'dtype=object' when creating the ndarray.\n"
     ]
    },
    {
     "name": "stdout",
     "output_type": "stream",
     "text": [
      "Epoch: 0 | Train loss: 0.37895976494673034 | Dev loss: 0.3628169281873837\n",
      "Epoch: 1 | Train loss: 0.37284376220741977 | Dev loss: 0.3815940809867406\n",
      "Epoch: 2 | Train loss: 0.2739563188162108 | Dev loss: 0.27261969406699116\n",
      "Epoch: 3 | Train loss: 0.23212785043998332 | Dev loss: 0.23088439330928684\n",
      "Epoch: 4 | Train loss: 0.2144193602935015 | Dev loss: 0.2186687675320238\n",
      "Epoch: 5 | Train loss: 0.2537905021782272 | Dev loss: 0.2559530099014229\n",
      "Epoch: 6 | Train loss: 0.15346836689504043 | Dev loss: 0.13776325648406978\n",
      "Epoch: 7 | Train loss: 0.17572503527407127 | Dev loss: 0.18147120986297927\n",
      "Epoch: 8 | Train loss: 0.19727352923979605 | Dev loss: 0.2050422648662519\n",
      "Epoch: 9 | Train loss: 0.16965773135749676 | Dev loss: 0.1836730671351677\n",
      "Epoch: 10 | Train loss: 0.18171920768485164 | Dev loss: 0.1901952428962639\n",
      "Epoch: 11 | Train loss: 0.16365470531515208 | Dev loss: 0.1788001751407888\n",
      "Epoch: 12 | Train loss: 0.20701117387358497 | Dev loss: 0.211011874485548\n",
      "Epoch: 13 | Train loss: 0.18401984100297528 | Dev loss: 0.19103263024659903\n",
      "Epoch: 14 | Train loss: 0.15608280133177393 | Dev loss: 0.16944953149155811\n",
      "Epoch: 15 | Train loss: 0.1585296901535762 | Dev loss: 0.1735731317679735\n",
      "Epoch: 16 | Train loss: 0.17357361265567023 | Dev loss: 0.18438624583257768\n",
      "Epoch: 17 | Train loss: 0.1689096068225143 | Dev loss: 0.1820939831906187\n",
      "Epoch: 18 | Train loss: 0.1845781325580215 | Dev loss: 0.19366855206727324\n",
      "Epoch: 19 | Train loss: 0.187484538543126 | Dev loss: 0.19845834296444215\n",
      "Epoch: 20 | Train loss: 0.142257529597178 | Dev loss: 0.1593739136507278\n",
      "Epoch: 21 | Train loss: 0.13397894044796793 | Dev loss: 0.1499274382145753\n",
      "Epoch: 22 | Train loss: 0.13609049846507595 | Dev loss: 0.15396763788085543\n",
      "Epoch: 23 | Train loss: 0.1750883819973416 | Dev loss: 0.18635389255631912\n",
      "Epoch: 24 | Train loss: 0.15845126512427843 | Dev loss: 0.1744797852464582\n",
      "Epoch: 25 | Train loss: 0.15879847175281941 | Dev loss: 0.17719303149727797\n",
      "Epoch: 26 | Train loss: 0.09310445800059576 | Dev loss: 0.09374427769448476\n",
      "Epoch: 27 | Train loss: 0.13784066094844122 | Dev loss: 0.1594552838647666\n",
      "Epoch: 28 | Train loss: 0.15426217627680433 | Dev loss: 0.16777394231858486\n",
      "Epoch: 29 | Train loss: 0.11107020398414146 | Dev loss: 0.12735141901286817\n",
      "Epoch: 30 | Train loss: 0.12164119442785595 | Dev loss: 0.13923450690577965\n",
      "Epoch: 31 | Train loss: 0.12027252444211707 | Dev loss: 0.14084891229559035\n",
      "Epoch: 32 | Train loss: 0.16422409943671787 | Dev loss: 0.1736800863359978\n",
      "Epoch: 33 | Train loss: 0.15420453446858318 | Dev loss: 0.16756895003219993\n",
      "Epoch: 34 | Train loss: 0.14350261079720855 | Dev loss: 0.16094593326796455\n",
      "Epoch: 35 | Train loss: 0.133297641068055 | Dev loss: 0.15601890705032279\n",
      "Epoch: 36 | Train loss: 0.13836378179125106 | Dev loss: 0.15808046263320907\n",
      "Epoch: 37 | Train loss: 0.15769891444326697 | Dev loss: 0.17520442679275397\n",
      "Epoch: 38 | Train loss: 0.15204890920847858 | Dev loss: 0.16920865859003661\n",
      "Epoch: 39 | Train loss: 0.15349830961087696 | Dev loss: 0.17451680398584793\n",
      "Epoch: 40 | Train loss: 0.10639855467624929 | Dev loss: 0.1293715934454601\n",
      "Epoch: 41 | Train loss: 0.13851499252015764 | Dev loss: 0.16035349629821863\n",
      "Epoch: 42 | Train loss: 0.09697582008776666 | Dev loss: 0.11919745378273594\n",
      "Epoch: 43 | Train loss: 0.1238217163434095 | Dev loss: 0.14747480336661012\n",
      "Epoch: 44 | Train loss: 0.12927883403402493 | Dev loss: 0.15151744117140675\n",
      "Epoch: 45 | Train loss: 0.14957496063298167 | Dev loss: 0.16564235747904887\n",
      "Epoch: 46 | Train loss: 0.133925229962056 | Dev loss: 0.15743956973971643\n",
      "Epoch: 47 | Train loss: 0.13163233978394603 | Dev loss: 0.15451168444781588\n",
      "Epoch: 48 | Train loss: 0.11332042362645349 | Dev loss: 0.13006090631401301\n",
      "Epoch: 49 | Train loss: 0.13843425788139205 | Dev loss: 0.15914601032819797\n"
     ]
    }
   ],
   "source": [
    "#use best parameters to train model\n",
    "W = network_weights(vocab_size=len(train_voc_set),embedding_dim=300,hidden_dim=hdim_his[ind], num_classes=3)\n",
    "\n",
    "W[0] = w_glove\n",
    "\n",
    "for i in range(len(W)):\n",
    "    print('Shape W'+str(i), W[i].shape)\n",
    "\n",
    "W, loss_tr, dev_loss = SGD(train_indices_x, Y_tr=train_y,\n",
    "                            W=W,\n",
    "                            X_dev=dev_indices_x, \n",
    "                            Y_dev=dev_y,\n",
    "                            lr=lr_his[ind], \n",
    "                            dropout=drop_his[ind],\n",
    "                            freeze_emb=True,\n",
    "                            tolerance=0.0001,\n",
    "                            epochs=50)"
   ]
  },
  {
   "cell_type": "code",
   "execution_count": 92,
   "metadata": {
    "scrolled": true
   },
   "outputs": [
    {
     "data": {
      "image/png": "[encoded data removed]",
      "text/plain": [
       "<Figure size 432x288 with 1 Axes>"
      ]
     },
     "metadata": {
      "needs_background": "light"
     },
     "output_type": "display_data"
    }
   ],
   "source": [
    "x = np.linspace(0,len(loss_tr),len(loss_tr))\n",
    "y1, y2 = loss_tr, dev_loss\n",
    " \n",
    "plt.plot(x, y1,label='Training loss')\n",
    "plt.plot(x, y2, label='Validation loss')\n",
    " \n",
    "plt.title('Training Monitoring')\n",
    "plt.xlabel('Epochs')\n",
    "plt.ylabel('Loss')\n",
    "plt.legend() \n",
    "plt.show()"
   ]
  },
  {
   "cell_type": "code",
   "execution_count": 93,
   "metadata": {},
   "outputs": [
    {
     "name": "stdout",
     "output_type": "stream",
     "text": [
      "Accuracy: 0.7977777777777778\n",
      "Precision: 0.8099701165161451\n",
      "Recall: 0.7977777777777778\n",
      "F1-Score: 0.7950477027476411\n"
     ]
    }
   ],
   "source": [
    "preds_te = [np.argmax(forward_pass(x, W, dropout_rate=0.0)['y']) \n",
    "            for x,y in zip(test_indices_x,test_y)]\n",
    "\n",
    "print('Accuracy:', accuracy_score(test_y,preds_te))\n",
    "print('Precision:', precision_score(test_y,preds_te,average='macro'))\n",
    "print('Recall:', recall_score(test_y,preds_te,average='macro'))\n",
    "print('F1-Score:', f1_score(test_y,preds_te,average='macro'))"
   ]
  },
  {
   "cell_type": "markdown",
   "metadata": {},
   "source": [
    "## Full Results\n",
    "\n",
    "Add your final results here:\n",
    "\n",
    "| Model | Precision  | Recall  | F1-Score  | Accuracy\n",
    "|:-:|:-:|:-:|:-:|:-:|\n",
    "| Average Embedding  | 0.8588888888888889|  0.8619866910203213 | 0.8588888888888889| 0.8585911905628026   |\n",
    "| Average Embedding (Pre-trained)  | 0.8866666666666667  | 0.887098394913521  |  0.8866666666666667 | 0.8868245713460235   |\n",
    "| Average Embedding (Pre-trained) + X hidden layers    |0.7977777777777778  |  0.8099701165161451|   0.7977777777777778 |  0.7950477027476411 |\n",
    "\n",
    "\n",
    "Please discuss why your best performing model is better than the rest."
   ]
  },
  {
   "cell_type": "markdown",
   "metadata": {
    "scrolled": true
   },
   "source": [
    "The last model which is the one with pre-embedding and hidden layers is tge worst. The model with pre-trained embedding is better than average embedding according to the accuracy. For pre-trained embedding, we use tge GloVe model, this model could help to do co-courrence count.With hidden layers could consume more compuatation resources. I'll say at first, I didn't put the seed in the function, and the accuracy of the last model could reach 87.5%. However, once I put the seed in it, the accuracy always around 80%. This issue makes me confuse. I'll try to find out the reason in my future work.\n"
   ]
  },
  {
   "cell_type": "code",
   "execution_count": null,
   "metadata": {},
   "outputs": [],
   "source": []
  }
 ],
 "metadata": {
  "kernelspec": {
   "display_name": "Python 3",
   "language": "python",
   "name": "python3"
  },
  "language_info": {
   "codemirror_mode": {
    "name": "ipython",
    "version": 3
   },
   "file_extension": ".py",
   "mimetype": "text/x-python",
   "name": "python",
   "nbconvert_exporter": "python",
   "pygments_lexer": "ipython3",
   "version": "3.8.8"
  }
 },
 "nbformat": 4,
 "nbformat_minor": 2
}
